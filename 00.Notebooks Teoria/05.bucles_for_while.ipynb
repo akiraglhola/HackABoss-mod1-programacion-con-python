{
 "cells": [
  {
   "cell_type": "markdown",
   "id": "66258df1",
   "metadata": {},
   "source": [
    "## Bluces\n",
    "\n",
    "### for\n",
    "\n",
    "Los bucles _**for**_ son utilizados cuando se quiere **repetir un bloque de código un número determinado de veces** por lo que en algún momento el bucle se detiene.\n",
    "\n",
    "En python, podemos usar los bucles _**for**_ para recorrer cualquier objeto iterable (tuplas, listas, diccionarios, strings, ...) y para hacerlo \"creamos\" una variable para el bucle.\n",
    "\n",
    "Existe la función _**range()**_ que crea objetos iterables que podemos usar en el bucle.\n",
    "\n",
    "**Dentro del bucle podemos escribir cualquier tipo de codigo que queramos.**"
   ]
  },
  {
   "cell_type": "code",
   "execution_count": null,
   "id": "66262aa2",
   "metadata": {},
   "outputs": [],
   "source": [
    "for i in range(10):\n",
    "    print(i)"
   ]
  },
  {
   "cell_type": "code",
   "execution_count": null,
   "id": "91747f20",
   "metadata": {},
   "outputs": [],
   "source": [
    "for i in range(5, 15):\n",
    "    print(i)"
   ]
  },
  {
   "cell_type": "code",
   "execution_count": null,
   "id": "726bdad2",
   "metadata": {},
   "outputs": [],
   "source": [
    "for i in range(5, 15, 2):\n",
    "    print(i)"
   ]
  },
  {
   "cell_type": "code",
   "execution_count": null,
   "id": "e64dbcac",
   "metadata": {},
   "outputs": [],
   "source": [
    "lista = [1, 10, 100, 1000, 10000, 100000]\n",
    "\n",
    "for numero in lista:\n",
    "    print(numero)"
   ]
  },
  {
   "cell_type": "code",
   "execution_count": null,
   "id": "793ce0d0",
   "metadata": {},
   "outputs": [],
   "source": [
    "string = \"Hola Mundo\"\n",
    "\n",
    "for i in string:\n",
    "    print(i)"
   ]
  },
  {
   "cell_type": "code",
   "execution_count": null,
   "id": "734e2ed1",
   "metadata": {
    "scrolled": true
   },
   "outputs": [],
   "source": [
    "for i in range(30):\n",
    "    \n",
    "    if i % 2 == 0:\n",
    "        print(\"El numero\", i, \"es par.\")\n",
    "        \n",
    "    else:\n",
    "        print(\"El numero\", i, \"es impar.\")"
   ]
  },
  {
   "cell_type": "code",
   "execution_count": null,
   "id": "3346e08a",
   "metadata": {},
   "outputs": [],
   "source": [
    "string = \"Hola mundo\"\n",
    "\n",
    "for letra in string:\n",
    "    \n",
    "    if letra == \"a\" or letra == \"e\" or letra == \"i\" or letra == \"o\" or letra == \"u\":\n",
    "        print(\"Vocal.\", letra)\n",
    "    \n",
    "    else:\n",
    "        print(\"Consonante.\", letra)"
   ]
  },
  {
   "cell_type": "markdown",
   "id": "054f8cdd",
   "metadata": {},
   "source": [
    "**Esta forma de recorrer bucles _for_ sobre objetos iterables tiene una sintaxis única, es decir, solo se puede hacer en python.**\n",
    "\n",
    "**Si quisieramos recorrer un bucle como lo hacen en otros lenguajes podemos hacer uso de los indices de los elementos usando las funciones _range()_ y _len()_.**"
   ]
  },
  {
   "cell_type": "code",
   "execution_count": null,
   "id": "dbaa68e0",
   "metadata": {},
   "outputs": [],
   "source": [
    "string = \"Hola Mundo\"\n",
    "\n",
    "for i in range(len(string)):\n",
    "    print(string[i])"
   ]
  },
  {
   "cell_type": "code",
   "execution_count": null,
   "id": "1f81a698",
   "metadata": {},
   "outputs": [],
   "source": [
    "lista = [1, 10, 100, 1000, 10000, 100000]\n",
    "\n",
    "for i in range(len(lista)):\n",
    "    print(lista[i])"
   ]
  },
  {
   "cell_type": "markdown",
   "id": "6e94fbe3",
   "metadata": {},
   "source": [
    "### for y lists\n",
    "\n",
    "Los bucles _**for**_ se usan en conjunto con las listas para agregar o quitar elementos."
   ]
  },
  {
   "cell_type": "code",
   "execution_count": null,
   "id": "ebb632a2",
   "metadata": {},
   "outputs": [],
   "source": [
    "lista = []  # Lista vacia\n",
    "\n",
    "for i in range(10):\n",
    "    lista.append(i)\n",
    "    \n",
    "lista"
   ]
  },
  {
   "cell_type": "code",
   "execution_count": null,
   "id": "3cd3987a",
   "metadata": {},
   "outputs": [],
   "source": [
    "lista = []\n",
    "\n",
    "string = \"Hola Mundo!!!!!!\"\n",
    "\n",
    "for letra in string:\n",
    "    lista.append(letra)\n",
    "    \n",
    "    \n",
    "print(lista)"
   ]
  },
  {
   "cell_type": "code",
   "execution_count": null,
   "id": "c9d93429",
   "metadata": {},
   "outputs": [],
   "source": [
    "lista = []\n",
    "\n",
    "string = \"Hola Mundo!!!!!!\"\n",
    "\n",
    "for letra in string:\n",
    "    lista.append(letra.upper())\n",
    "    \n",
    "    \n",
    "print(lista)"
   ]
  },
  {
   "cell_type": "code",
   "execution_count": null,
   "id": "8cd47172",
   "metadata": {},
   "outputs": [],
   "source": [
    "# También podemos usar condicionales\n",
    "\n",
    "lista = []\n",
    "\n",
    "string = \"cadena con varias letras a\"\n",
    "\n",
    "for letra in string:\n",
    "    if letra != \"a\":\n",
    "        lista.append(letra)\n",
    "        \n",
    "lista"
   ]
  },
  {
   "cell_type": "markdown",
   "id": "43483695",
   "metadata": {},
   "source": [
    "### while\n",
    "\n",
    "Los bucles _**while**_ son bucles que se ejecutan siempre que se cumpla una condición, si la condición dejase de cumplirse el bucle se detendría.\n",
    "\n",
    "La principal diferencia con el bucle _**for**_ es que el bucle _**while**_ necesita una condición para poder ejecutarse y no se detendrá hasta que la condición sea **False**, es decir, puede ejecutarse un número variable de veces o incluso nunca detenerse."
   ]
  },
  {
   "cell_type": "code",
   "execution_count": null,
   "id": "4320dfb3",
   "metadata": {},
   "outputs": [],
   "source": [
    "i = 0\n",
    "\n",
    "while i < 5:\n",
    "    print(\"El valor de i es:\", i)\n",
    "    print(\"Es menor a 5.\")\n",
    "    print(\"***\"*10)\n",
    "    \n",
    "    i += 1"
   ]
  },
  {
   "cell_type": "code",
   "execution_count": null,
   "id": "178d523d",
   "metadata": {},
   "outputs": [],
   "source": [
    "# No ejecutar\n",
    "\n",
    "i = 0\n",
    "\n",
    "while i < 5:\n",
    "    print(\"El valor de i es:\", i)\n",
    "    print(\"Es menor a 5.\")\n",
    "    print(\"***\"*10)"
   ]
  },
  {
   "cell_type": "code",
   "execution_count": null,
   "id": "de288bed",
   "metadata": {},
   "outputs": [],
   "source": [
    "i = 0\n",
    "nombre = \"Daniel\"\n",
    "\n",
    "while (i < 10) and (nombre == \"Daniel\"):\n",
    "    \n",
    "    if i % 2 == 0:\n",
    "        print(\"i es par\", i)\n",
    "        \n",
    "        nombre = input(\"Ingrese un nombre: \")\n",
    "    \n",
    "    i += 1"
   ]
  },
  {
   "cell_type": "markdown",
   "id": "63c52966",
   "metadata": {},
   "source": [
    "### break\n",
    "\n",
    "La palabra reservada _**break**_ detiene un bucle y continua con el código que va después del bucle."
   ]
  },
  {
   "cell_type": "code",
   "execution_count": null,
   "id": "712bcbfa",
   "metadata": {},
   "outputs": [],
   "source": [
    "for i in range(100000000):\n",
    "    print(i)\n",
    "    if i == 10:\n",
    "        break"
   ]
  },
  {
   "cell_type": "code",
   "execution_count": null,
   "id": "1e46fe63",
   "metadata": {},
   "outputs": [],
   "source": [
    "i = 0\n",
    "\n",
    "while i < 10000000000:\n",
    "    \n",
    "    i += 1\n",
    "    print(i)\n",
    "    \n",
    "    if i == 10:\n",
    "        break"
   ]
  },
  {
   "cell_type": "markdown",
   "id": "1d857128",
   "metadata": {},
   "source": [
    "### Bucles anidados\n",
    "\n",
    "Como muchas cosas en Python, se pueden anidar bucles. Dependiendo del bucle, esto puede alargar el tiempo de ejecución."
   ]
  },
  {
   "cell_type": "code",
   "execution_count": null,
   "id": "896f3dae",
   "metadata": {},
   "outputs": [],
   "source": [
    "for i in range(5):\n",
    "    \n",
    "    for j in range(5):\n",
    "        \n",
    "        print(i, j)"
   ]
  },
  {
   "cell_type": "code",
   "execution_count": null,
   "id": "56b8989b",
   "metadata": {},
   "outputs": [],
   "source": [
    "string_1 = \"hola\"\n",
    "string_2 = \"mundo\"\n",
    "\n",
    "for i in string_1:\n",
    "    \n",
    "    for j in string_2:\n",
    "        \n",
    "        print(i, j)"
   ]
  },
  {
   "cell_type": "markdown",
   "id": "da4d983f",
   "metadata": {},
   "source": [
    "### zip y enumerate\n",
    "\n",
    "- _**zip**_: Esta función toma como argumento objetos iterables para recorrerlos al mismo tiempo en un bucle."
   ]
  },
  {
   "cell_type": "code",
   "execution_count": null,
   "id": "91c0739e",
   "metadata": {},
   "outputs": [],
   "source": [
    "lista_1 = [\"a\", \"b\", \"c\", \"d\", \"e\"]\n",
    "lista_2 = [1, 2, 3, 4, 5]\n",
    "\n",
    "for i, j in zip(lista_1, lista_2):\n",
    "    print(i, j)"
   ]
  },
  {
   "cell_type": "markdown",
   "id": "3608202c",
   "metadata": {},
   "source": [
    "**Si alguna de las dos listas es mas grande que otra, el bucle con zip se detendrá cuando la lista mas corta termine.**"
   ]
  },
  {
   "cell_type": "code",
   "execution_count": null,
   "id": "53135e57",
   "metadata": {},
   "outputs": [],
   "source": [
    "lista_1 = [\"a\", \"b\", \"c\", \"d\", \"e\"]\n",
    "lista_2 = [1, 2, 3, 4, 5, 6, 7, 8, 9, 10, 11, 12, 13, 14, 15]\n",
    "\n",
    "for i, j in zip(lista_1, lista_2):\n",
    "    print(i, j)"
   ]
  },
  {
   "cell_type": "markdown",
   "id": "44ebcc4c",
   "metadata": {},
   "source": [
    "- _**enumerate**_: Esta función \"crea\" un índice utilizando un objeto iterable, se usa en conjunto con los bucles para tener un tipo de \"contador\"."
   ]
  },
  {
   "cell_type": "code",
   "execution_count": null,
   "id": "3c8c7f70",
   "metadata": {},
   "outputs": [],
   "source": [
    "lista = [\"a\", \"b\", \"c\", \"d\", \"e\"]\n",
    "\n",
    "for enum, letra in enumerate(lista):\n",
    "    print(enum, letra)"
   ]
  },
  {
   "cell_type": "markdown",
   "id": "530d1aa9",
   "metadata": {},
   "source": [
    "**Si quisieramos, podriamos comenzar el contador en otro número**"
   ]
  },
  {
   "cell_type": "code",
   "execution_count": null,
   "id": "09afdeb2",
   "metadata": {},
   "outputs": [],
   "source": [
    "lista = [\"a\", \"b\", \"c\", \"d\", \"e\"]\n",
    "\n",
    "for enum, letra in enumerate(lista, start = 100):\n",
    "    print(enum, letra)"
   ]
  },
  {
   "cell_type": "code",
   "execution_count": null,
   "id": "b698cbd7",
   "metadata": {},
   "outputs": [],
   "source": [
    "##############################################################################################################################"
   ]
  }
 ],
 "metadata": {
  "kernelspec": {
   "display_name": "Python 3 (ipykernel)",
   "language": "python",
   "name": "python3"
  },
  "language_info": {
   "codemirror_mode": {
    "name": "ipython",
    "version": 3
   },
   "file_extension": ".py",
   "mimetype": "text/x-python",
   "name": "python",
   "nbconvert_exporter": "python",
   "pygments_lexer": "ipython3",
   "version": "3.11.5"
  }
 },
 "nbformat": 4,
 "nbformat_minor": 5
}
