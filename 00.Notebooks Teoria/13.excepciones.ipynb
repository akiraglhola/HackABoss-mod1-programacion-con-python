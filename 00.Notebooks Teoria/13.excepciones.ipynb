{
 "cells": [
  {
   "cell_type": "markdown",
   "id": "c00de223-3837-4cde-841e-baed26c82f26",
   "metadata": {},
   "source": [
    "# Excepciones en Python\n",
    "\n",
    "Las excepciones son, en esencia, errores. Cuando Python arroja una excepción, la ejecución del código se detiene y nuestro programa termina.\n",
    "\n",
    "Existen muchos tipos diferentes de errores, algunos incluso propios de alguna librería, y aquí veremos los más comunes que nos podremos encontrar.\n",
    "\n",
    "En este notebook la palabra excepción y error se usan como sinónimos."
   ]
  },
  {
   "cell_type": "markdown",
   "id": "2e7191cc-0186-4975-ba85-43d52072e0a4",
   "metadata": {},
   "source": [
    "## Anatomía de una excepción"
   ]
  },
  {
   "cell_type": "code",
   "execution_count": 1,
   "id": "840e0a00-5317-47dc-9809-dcf4f4b74263",
   "metadata": {},
   "outputs": [
    {
     "ename": "TypeError",
     "evalue": "unsupported operand type(s) for /: 'str' and 'int'",
     "output_type": "error",
     "traceback": [
      "\u001b[0;31m---------------------------------------------------------------------------\u001b[0m",
      "\u001b[0;31mTypeError\u001b[0m                                 Traceback (most recent call last)",
      "Cell \u001b[0;32mIn[1], line 8\u001b[0m\n\u001b[1;32m      5\u001b[0m     new_val \u001b[38;5;241m=\u001b[39m val \u001b[38;5;241m/\u001b[39m \u001b[38;5;241m2\u001b[39m\n\u001b[1;32m      6\u001b[0m     funcion1(new_val)\n\u001b[0;32m----> 8\u001b[0m \u001b[43mfuncion2\u001b[49m\u001b[43m(\u001b[49m\u001b[38;5;124;43m\"\u001b[39;49m\u001b[38;5;124;43m4\u001b[39;49m\u001b[38;5;124;43m\"\u001b[39;49m\u001b[43m)\u001b[49m\n",
      "Cell \u001b[0;32mIn[1], line 5\u001b[0m, in \u001b[0;36mfuncion2\u001b[0;34m(val)\u001b[0m\n\u001b[1;32m      4\u001b[0m \u001b[38;5;28;01mdef\u001b[39;00m \u001b[38;5;21mfuncion2\u001b[39m(val):\n\u001b[0;32m----> 5\u001b[0m     new_val \u001b[38;5;241m=\u001b[39m \u001b[43mval\u001b[49m\u001b[43m \u001b[49m\u001b[38;5;241;43m/\u001b[39;49m\u001b[43m \u001b[49m\u001b[38;5;241;43m2\u001b[39;49m\n\u001b[1;32m      6\u001b[0m     funcion1(new_val)\n",
      "\u001b[0;31mTypeError\u001b[0m: unsupported operand type(s) for /: 'str' and 'int'"
     ]
    }
   ],
   "source": [
    "def funcion1(val):\n",
    "    print(val)\n",
    "\n",
    "def funcion2(val):\n",
    "    new_val = val / 2\n",
    "    funcion1(new_val)\n",
    "\n",
    "funcion2(\"4\")"
   ]
  },
  {
   "cell_type": "markdown",
   "id": "65ef3ffe-3814-4179-8938-97eb5917c223",
   "metadata": {},
   "source": [
    "Las excepciones están compuestas por dos componentes principales:\n",
    "- _**Tipo de error**_: lo veremos al comienzo, y también al final, donde además veremos un mensaje que nos puede dar una pista sobre lo que hemos podido hacer mal. En este caso estamos ante un `TypeError`.\n",
    "\n",
    "  _**Es muy importante fijarse en el tipo de excepción y en el mensaje, pues en muchas ocasiones contienen la información más importante para entender el problema y llegar a una solución.**_\n",
    "- _**Traceback**_: es el cuerpo de la excepción y nos guía por el orden de ejecución de las funciones hasta llegar a la última función de todas, que es donde el código ha dejado de funcionar. Existe un tipo de excepción especial, `SyntaxError` que no contiene traceback.\n",
    "\n",
    "  Si seguimos las funciones del traceback de arriba hacia abajo, veremos que en cada función se señala la línea de código exacta donde ocurre el error. Cuando llegamos a la última función de todas, viendo donde ocurre el error, el tipo de error y el mensaje, normalmente seremos capaces de solucionarlo con relativa rapidez.\n",
    "\n",
    "En este caso obtenemos un `TypeError` que nos indica que estamos intentando operar con dos tipos de variable incompatibles. El mensaje nos detalla que no se puede realizar una división con `/` entre una variable de tipo `str` e `int`. Por último, vemos que el error ocurre en la línea 5 de nuestra celda, donde estamos ejecutando `val / 2`. De ahí podemos deducir que val es de tipo `str`, por lo que estamos usando la función de una manera incorrecta. Aquí una solución:"
   ]
  },
  {
   "cell_type": "code",
   "execution_count": 2,
   "id": "48ec694a-e4e3-40d2-ad41-a5b4b124e791",
   "metadata": {},
   "outputs": [
    {
     "name": "stdout",
     "output_type": "stream",
     "text": [
      "2.0\n"
     ]
    }
   ],
   "source": [
    "funcion2(4) # Ahora funciona"
   ]
  },
  {
   "cell_type": "markdown",
   "id": "6312ee06-9055-4f6e-8571-16ce52bfa486",
   "metadata": {},
   "source": [
    "## Tipos de excepciones\n",
    "\n",
    "| Excepción | Descripción |\n",
    "|-----------|-------------|\n",
    "| SyntaxError | Ocurre cuando alguna parte del código que hemos escrito no sigue las reglas de sintaxis de Python |\n",
    "| TypeError | Ocurre cuando realizamos alguna operación entre tipos de variables incompatibles |\n",
    "| NameError | Ocurre cuando referenciamos alguna variable o función que no está declarada/definida |\n",
    "| AttributeError | Ocurre cuando intentamos acceder a un atributo o método de una clase que no existen |\n",
    "| ZeroDivisionError | Ocurre cuando intentamos dividir entre 0 |\n",
    "| IndexError | Ocurre cuando hacemos un indexado imposible (ej: fuera de rango) |\n",
    "| KeyError | Parecido al IndexError, pero usado con objetos que guardan claves y valores, como los diccionarios |\n",
    "| AssertionError | Ocurre al incumplirse la condición de un `assert` |\n",
    "| ModuleNotFoundError | Ocurre cuando intentamos importar algún módulo o librería que no existe o no tenemos instalada |\n",
    "| ImportError | Ocurre cuando intentamos importar algún elemento de un módulo o librería que no existe o no se puede importar |\n",
    "| KeyboardInterrupt | Ocurre cuando paramos la ejecución de nuestro código de forma manual |\n",
    "| MemoryError | Ocurre cuando no tenemos suficiente memoria RAM para ejecutar el código |\n",
    "| IndentationError | Ocurre cuando tenemos un bloque de código mal indentado |\n",
    "| ValueError | Ocurre cuando estamos utilizando un valor erroneo en alguna función |\n",
    "\n",
    "_**Nota: existen muchos más tipos de excepciones, las de la tabla son las más comunes**_"
   ]
  },
  {
   "cell_type": "markdown",
   "id": "4c0c53b1-e2fc-4119-876e-6196cec35a06",
   "metadata": {},
   "source": [
    "## `assert`"
   ]
  },
  {
   "cell_type": "markdown",
   "id": "a1b3233e-2019-4e29-b551-f81a8d414db5",
   "metadata": {},
   "source": [
    "La palabra clave `assert` en Python sirve para comprobar si una condición es verdadera o no. En caso de ser falsa, arroja una excepción de tipo `AssertionError`."
   ]
  },
  {
   "cell_type": "code",
   "execution_count": 3,
   "id": "5da4c36c-c62a-45e4-b9a1-9e29e21b65cf",
   "metadata": {},
   "outputs": [
    {
     "ename": "AssertionError",
     "evalue": "",
     "output_type": "error",
     "traceback": [
      "\u001b[0;31m---------------------------------------------------------------------------\u001b[0m",
      "\u001b[0;31mAssertionError\u001b[0m                            Traceback (most recent call last)",
      "Cell \u001b[0;32mIn[3], line 5\u001b[0m\n\u001b[1;32m      3\u001b[0m division \u001b[38;5;241m=\u001b[39m \u001b[38;5;241m10\u001b[39m \u001b[38;5;241m/\u001b[39m \u001b[38;5;241m2\u001b[39m\n\u001b[1;32m      4\u001b[0m resultado \u001b[38;5;241m=\u001b[39m \u001b[38;5;241m3\u001b[39m\n\u001b[0;32m----> 5\u001b[0m \u001b[38;5;28;01massert\u001b[39;00m division \u001b[38;5;241m==\u001b[39m resultado\n",
      "\u001b[0;31mAssertionError\u001b[0m: "
     ]
    }
   ],
   "source": [
    "# Arroja excepción\n",
    "\n",
    "division = 10 / 2\n",
    "resultado = 3\n",
    "assert division == resultado"
   ]
  },
  {
   "cell_type": "code",
   "execution_count": 4,
   "id": "43d98819-20e7-4e6b-ae4d-d10e8fc7e53c",
   "metadata": {},
   "outputs": [],
   "source": [
    "# No arroja excepción\n",
    "\n",
    "division = 10 / 2\n",
    "resultado = 5\n",
    "assert division == resultado"
   ]
  },
  {
   "cell_type": "code",
   "execution_count": 5,
   "id": "abac02b8-0630-4d53-ade1-8180a7f09321",
   "metadata": {},
   "outputs": [
    {
     "ename": "AssertionError",
     "evalue": "La división no es igual a 3",
     "output_type": "error",
     "traceback": [
      "\u001b[0;31m---------------------------------------------------------------------------\u001b[0m",
      "\u001b[0;31mAssertionError\u001b[0m                            Traceback (most recent call last)",
      "Cell \u001b[0;32mIn[5], line 5\u001b[0m\n\u001b[1;32m      3\u001b[0m division \u001b[38;5;241m=\u001b[39m \u001b[38;5;241m10\u001b[39m \u001b[38;5;241m/\u001b[39m \u001b[38;5;241m2\u001b[39m\n\u001b[1;32m      4\u001b[0m resultado \u001b[38;5;241m=\u001b[39m \u001b[38;5;241m3\u001b[39m\n\u001b[0;32m----> 5\u001b[0m \u001b[38;5;28;01massert\u001b[39;00m division \u001b[38;5;241m==\u001b[39m resultado, \u001b[38;5;124mf\u001b[39m\u001b[38;5;124m\"\u001b[39m\u001b[38;5;124mLa división no es igual a \u001b[39m\u001b[38;5;132;01m{\u001b[39;00mresultado\u001b[38;5;132;01m}\u001b[39;00m\u001b[38;5;124m\"\u001b[39m\n",
      "\u001b[0;31mAssertionError\u001b[0m: La división no es igual a 3"
     ]
    }
   ],
   "source": [
    "# Podemos incluir un mensaje de error\n",
    "\n",
    "division = 10 / 2\n",
    "resultado = 3\n",
    "assert division == resultado, f\"La división no es igual a {resultado}\""
   ]
  },
  {
   "cell_type": "markdown",
   "id": "d3aa319e-62c9-42da-a1f8-200c759d2d85",
   "metadata": {},
   "source": [
    "## `raise`"
   ]
  },
  {
   "cell_type": "markdown",
   "id": "62231daa-c224-4c33-b51e-e7d8e443015c",
   "metadata": {},
   "source": [
    "La palabra clave `raise` en Python nos permite arrojar una excepción de cualquier tipo."
   ]
  },
  {
   "cell_type": "code",
   "execution_count": 6,
   "id": "7ba48512-b9f8-47ed-8ec0-91ea51f409ad",
   "metadata": {},
   "outputs": [
    {
     "ename": "ValueError",
     "evalue": "Esto es un ValueError",
     "output_type": "error",
     "traceback": [
      "\u001b[0;31m---------------------------------------------------------------------------\u001b[0m",
      "\u001b[0;31mValueError\u001b[0m                                Traceback (most recent call last)",
      "Cell \u001b[0;32mIn[6], line 3\u001b[0m\n\u001b[1;32m      1\u001b[0m \u001b[38;5;66;03m# Arroja un ValueError\u001b[39;00m\n\u001b[0;32m----> 3\u001b[0m \u001b[38;5;28;01mraise\u001b[39;00m \u001b[38;5;167;01mValueError\u001b[39;00m(\u001b[38;5;124m\"\u001b[39m\u001b[38;5;124mEsto es un ValueError\u001b[39m\u001b[38;5;124m\"\u001b[39m)\n",
      "\u001b[0;31mValueError\u001b[0m: Esto es un ValueError"
     ]
    }
   ],
   "source": [
    "# Arroja un ValueError\n",
    "\n",
    "raise ValueError(\"Esto es un ValueError\")"
   ]
  },
  {
   "cell_type": "code",
   "execution_count": 7,
   "id": "ff4fc263-5929-4bd6-9e37-8e4eee6894cf",
   "metadata": {},
   "outputs": [
    {
     "ename": "TypeError",
     "evalue": "Esto es un TypeError",
     "output_type": "error",
     "traceback": [
      "\u001b[0;31m---------------------------------------------------------------------------\u001b[0m",
      "\u001b[0;31mTypeError\u001b[0m                                 Traceback (most recent call last)",
      "Cell \u001b[0;32mIn[7], line 3\u001b[0m\n\u001b[1;32m      1\u001b[0m \u001b[38;5;66;03m# Arroja un TypeError\u001b[39;00m\n\u001b[0;32m----> 3\u001b[0m \u001b[38;5;28;01mraise\u001b[39;00m \u001b[38;5;167;01mTypeError\u001b[39;00m(\u001b[38;5;124m\"\u001b[39m\u001b[38;5;124mEsto es un TypeError\u001b[39m\u001b[38;5;124m\"\u001b[39m)\n",
      "\u001b[0;31mTypeError\u001b[0m: Esto es un TypeError"
     ]
    }
   ],
   "source": [
    "# Arroja un TypeError\n",
    "\n",
    "raise TypeError(\"Esto es un TypeError\")"
   ]
  },
  {
   "cell_type": "code",
   "execution_count": 8,
   "id": "ae604a77-2837-47fd-b51e-f5a8beec34d8",
   "metadata": {},
   "outputs": [
    {
     "ename": "KeyboardInterrupt",
     "evalue": "Esto es un KeyboardInterrupt",
     "output_type": "error",
     "traceback": [
      "\u001b[0;31m---------------------------------------------------------------------------\u001b[0m",
      "\u001b[0;31mKeyboardInterrupt\u001b[0m                         Traceback (most recent call last)",
      "Cell \u001b[0;32mIn[8], line 3\u001b[0m\n\u001b[1;32m      1\u001b[0m \u001b[38;5;66;03m# Arroja un KeyboardInterrupt\u001b[39;00m\n\u001b[0;32m----> 3\u001b[0m \u001b[38;5;28;01mraise\u001b[39;00m \u001b[38;5;167;01mKeyboardInterrupt\u001b[39;00m(\u001b[38;5;124m\"\u001b[39m\u001b[38;5;124mEsto es un KeyboardInterrupt\u001b[39m\u001b[38;5;124m\"\u001b[39m)\n",
      "\u001b[0;31mKeyboardInterrupt\u001b[0m: Esto es un KeyboardInterrupt"
     ]
    }
   ],
   "source": [
    "# Arroja un KeyboardInterrupt\n",
    "\n",
    "raise KeyboardInterrupt(\"Esto es un KeyboardInterrupt\")"
   ]
  },
  {
   "cell_type": "markdown",
   "id": "8887f059-ec24-4c1b-a7ec-388607ed079a",
   "metadata": {},
   "source": [
    "## `Exception`"
   ]
  },
  {
   "cell_type": "markdown",
   "id": "76d60e2a-d89f-4716-9858-0d9b74a5aa9b",
   "metadata": {},
   "source": [
    "En Python todas las excepciones son clases que heredan de la clase básica `Exception`. Podemos crear nueastras propias excepciones con nombres más informativos y mensajes por defecto si lo necesitamos."
   ]
  },
  {
   "cell_type": "code",
   "execution_count": 9,
   "id": "4008d96b-915a-4c67-8ba9-e5ab73f42db9",
   "metadata": {},
   "outputs": [],
   "source": [
    "class MiExcepcion(Exception):\n",
    "\n",
    "    def __init__(self, msg=\"Mensaje por defecto de la excepción\"):\n",
    "        super().__init__(msg)"
   ]
  },
  {
   "cell_type": "code",
   "execution_count": 10,
   "id": "76be3cbf-5623-4a23-bab1-7b60ab2e3d13",
   "metadata": {},
   "outputs": [
    {
     "ename": "MiExcepcion",
     "evalue": "Mensaje por defecto de la excepción",
     "output_type": "error",
     "traceback": [
      "\u001b[0;31m---------------------------------------------------------------------------\u001b[0m",
      "\u001b[0;31mMiExcepcion\u001b[0m                               Traceback (most recent call last)",
      "Cell \u001b[0;32mIn[10], line 1\u001b[0m\n\u001b[0;32m----> 1\u001b[0m \u001b[38;5;28;01mraise\u001b[39;00m MiExcepcion()\n",
      "\u001b[0;31mMiExcepcion\u001b[0m: Mensaje por defecto de la excepción"
     ]
    }
   ],
   "source": [
    "raise MiExcepcion()"
   ]
  },
  {
   "cell_type": "code",
   "execution_count": 11,
   "id": "065b9a30-7600-45a5-a63c-1dc854e3f6fb",
   "metadata": {},
   "outputs": [
    {
     "ename": "MiExcepcion",
     "evalue": "Otro mensaje",
     "output_type": "error",
     "traceback": [
      "\u001b[0;31m---------------------------------------------------------------------------\u001b[0m",
      "\u001b[0;31mMiExcepcion\u001b[0m                               Traceback (most recent call last)",
      "Cell \u001b[0;32mIn[11], line 1\u001b[0m\n\u001b[0;32m----> 1\u001b[0m \u001b[38;5;28;01mraise\u001b[39;00m MiExcepcion(\u001b[38;5;124m\"\u001b[39m\u001b[38;5;124mOtro mensaje\u001b[39m\u001b[38;5;124m\"\u001b[39m)\n",
      "\u001b[0;31mMiExcepcion\u001b[0m: Otro mensaje"
     ]
    }
   ],
   "source": [
    "raise MiExcepcion(\"Otro mensaje\")"
   ]
  },
  {
   "cell_type": "markdown",
   "id": "3ccf59e5-04c4-4cb9-8a98-d8c12bde7865",
   "metadata": {},
   "source": [
    "## `try-except-finally`"
   ]
  },
  {
   "cell_type": "markdown",
   "id": "bd20a44e-b094-4f94-ad2b-83dd7d96180e",
   "metadata": {},
   "source": [
    "Las expresiones de `try`, `except` y `finally` nos permiten manejar las posibles excepciones de nuestro código para no tener que necesariamente detener la ejecución en caso de obtener un error.\n",
    "\n",
    "- _**`try`**_: Python intentará ejecutar el código que esté indentado debajo de esta expresión.\n",
    "- _**`except`**_: Si en algún momento ocurre un error en el bloque de `try`, la ejecución del código no se detendrá, sino que automáticamente se ejecutará el bloque de `except`. Dentro del `except` también pueden ocurrir errores, y estos sí que detendrán la ejecución si no se utiliza otra expresión `try-except` más. Este bloque puede ir solo o acompañado del tipo de error concreto para el que queremos hacer la excepción.\n",
    "- _**`finally`**_: Este bloque es opcional, y se ejecutará _**siempre**_, sin importar si ha ocurrido algún error o no. Es una manera que tenemos de asegurarnos de que se ejecute un código esencial sí o sí."
   ]
  },
  {
   "cell_type": "code",
   "execution_count": 12,
   "id": "bdcd994a-7c90-4910-8bed-e30e0a2b96c4",
   "metadata": {},
   "outputs": [
    {
     "name": "stdout",
     "output_type": "stream",
     "text": [
      "Hola Mundo\n",
      "Ocurrió un error\n"
     ]
    }
   ],
   "source": [
    "# Ejemplo genérico\n",
    "\n",
    "try:\n",
    "    print(\"Hola Mundo\")\n",
    "    adios = \"7\"\n",
    "    print(hola)\n",
    "    print(adios)\n",
    "except:\n",
    "    print(\"Ocurrió un error\")"
   ]
  },
  {
   "cell_type": "code",
   "execution_count": 13,
   "id": "c2d96bbf-ba14-4d28-bd98-22de3c4bddc0",
   "metadata": {},
   "outputs": [
    {
     "name": "stdout",
     "output_type": "stream",
     "text": [
      "Hola Mundo\n",
      "Ocurrió un error\n"
     ]
    }
   ],
   "source": [
    "# Especificando tipo de error\n",
    "\n",
    "try:\n",
    "    print(\"Hola Mundo\")\n",
    "    adios = \"7\"\n",
    "    print(hola)\n",
    "    print(adios)\n",
    "except NameError:\n",
    "    print(\"Ocurrió un error\")"
   ]
  },
  {
   "cell_type": "code",
   "execution_count": 14,
   "id": "2094d4a9-77b8-4c31-bbf9-b2721e9c0aab",
   "metadata": {},
   "outputs": [
    {
     "name": "stdout",
     "output_type": "stream",
     "text": [
      "Hola Mundo\n"
     ]
    },
    {
     "ename": "NameError",
     "evalue": "name 'hola' is not defined",
     "output_type": "error",
     "traceback": [
      "\u001b[0;31m---------------------------------------------------------------------------\u001b[0m",
      "\u001b[0;31mNameError\u001b[0m                                 Traceback (most recent call last)",
      "Cell \u001b[0;32mIn[14], line 6\u001b[0m\n\u001b[1;32m      4\u001b[0m     \u001b[38;5;28mprint\u001b[39m(\u001b[38;5;124m\"\u001b[39m\u001b[38;5;124mHola Mundo\u001b[39m\u001b[38;5;124m\"\u001b[39m)\n\u001b[1;32m      5\u001b[0m     adios \u001b[38;5;241m=\u001b[39m \u001b[38;5;124m\"\u001b[39m\u001b[38;5;124m7\u001b[39m\u001b[38;5;124m\"\u001b[39m\n\u001b[0;32m----> 6\u001b[0m     \u001b[38;5;28mprint\u001b[39m(\u001b[43mhola\u001b[49m)\n\u001b[1;32m      7\u001b[0m     \u001b[38;5;28mprint\u001b[39m(adios)\n\u001b[1;32m      8\u001b[0m \u001b[38;5;28;01mexcept\u001b[39;00m \u001b[38;5;167;01mValueError\u001b[39;00m:\n",
      "\u001b[0;31mNameError\u001b[0m: name 'hola' is not defined"
     ]
    }
   ],
   "source": [
    "# Especificando tipo de error equivocado\n",
    "\n",
    "try:\n",
    "    print(\"Hola Mundo\")\n",
    "    adios = \"7\"\n",
    "    print(hola)\n",
    "    print(adios)\n",
    "except ValueError:\n",
    "    print(\"Ocurrió un error\")"
   ]
  },
  {
   "cell_type": "code",
   "execution_count": 15,
   "id": "15dfb54c-912c-4854-a3b0-21344d5500e0",
   "metadata": {},
   "outputs": [
    {
     "name": "stdout",
     "output_type": "stream",
     "text": [
      "Hola Mundo\n",
      "Ocurrió un error\n"
     ]
    }
   ],
   "source": [
    "# Múltiples tipos de error\n",
    "\n",
    "try:\n",
    "    print(\"Hola Mundo\")\n",
    "    adios = \"7\"\n",
    "    print(hola)\n",
    "    print(adios)\n",
    "    import database # Nueva línea con error\n",
    "except (NameError, ModuleNotFoundError):\n",
    "    print(\"Ocurrió un error\")"
   ]
  },
  {
   "cell_type": "code",
   "execution_count": 16,
   "id": "2a507d04-1e98-4336-aba2-51ab0d6dcbc8",
   "metadata": {},
   "outputs": [
    {
     "name": "stdout",
     "output_type": "stream",
     "text": [
      "Hola Mundo\n",
      "Error tipo NameError\n"
     ]
    }
   ],
   "source": [
    "# Múltiples tipos de error\n",
    "\n",
    "try:\n",
    "    print(\"Hola Mundo\")\n",
    "    adios = \"7\"\n",
    "    print(hola)\n",
    "    print(adios)\n",
    "    import database\n",
    "except ModuleNotFoundError:\n",
    "    print(\"Error tipo ModuleNotFoundError\")\n",
    "except NameError:\n",
    "    print(\"Error tipo NameError\")"
   ]
  },
  {
   "cell_type": "code",
   "execution_count": 17,
   "id": "549753d7-0be2-4a5f-9268-756bfbab7788",
   "metadata": {},
   "outputs": [
    {
     "name": "stdout",
     "output_type": "stream",
     "text": [
      "Hola Mundo\n",
      "Error tipo ModuleNotFoundError\n"
     ]
    }
   ],
   "source": [
    "# Múltiples tipos de error\n",
    "\n",
    "try:\n",
    "    print(\"Hola Mundo\")\n",
    "    adios = \"7\"\n",
    "    import database # Ahora el ModuleNotFoundError ocurre primero\n",
    "    print(hola)\n",
    "    print(adios)\n",
    "except ModuleNotFoundError:\n",
    "    print(\"Error tipo ModuleNotFoundError\")\n",
    "except NameError:\n",
    "    print(\"Error tipo NameError\")"
   ]
  },
  {
   "cell_type": "markdown",
   "id": "8f95a35d-cb80-44bd-a9ee-41f3c2bdbf1e",
   "metadata": {},
   "source": [
    "- Podemos utilizar la palabra clave `as` para guardar la excepción en una variable, similar a cuando usamos un alias en importes de tipo `import ... as ...` o cuando lo usamos con las expresiones `with ... as ...`."
   ]
  },
  {
   "cell_type": "code",
   "execution_count": 18,
   "id": "0021d64a-dc31-4bc9-83e3-4b61fd84a5dd",
   "metadata": {},
   "outputs": [
    {
     "name": "stdout",
     "output_type": "stream",
     "text": [
      "Hola Mundo\n",
      "Ocurrió un error\n",
      "Tipo de error <<class 'NameError'>>\n",
      "Mensaje del error <name 'hola' is not defined>\n"
     ]
    }
   ],
   "source": [
    "try:\n",
    "    print(\"Hola Mundo\")\n",
    "    adios = \"7\"\n",
    "    print(hola)\n",
    "    print(adios)\n",
    "except NameError as err:\n",
    "    print(\"Ocurrió un error\")\n",
    "    print(f\"Tipo de error <{type(err)}>\")\n",
    "    print(f\"Mensaje del error <{err}>\")"
   ]
  },
  {
   "cell_type": "markdown",
   "id": "e46c8420-b515-49eb-a6c1-7d827c4c4d5f",
   "metadata": {},
   "source": [
    "- Ejemplo de uso de `finally`"
   ]
  },
  {
   "cell_type": "code",
   "execution_count": 19,
   "id": "5a3361a1-fb13-4b46-954b-00983afedcb9",
   "metadata": {},
   "outputs": [
    {
     "name": "stdout",
     "output_type": "stream",
     "text": [
      "Hola Mundo\n",
      "Ocurrió un error\n",
      "Tipo de error <<class 'NameError'>>\n",
      "Mensaje del error <name 'hola' is not defined>\n",
      "El `finally` se ejecuta SIEMPRE\n"
     ]
    }
   ],
   "source": [
    "try:\n",
    "    print(\"Hola Mundo\")\n",
    "    adios = \"7\"\n",
    "    print(hola)\n",
    "    print(adios)\n",
    "except NameError as err:\n",
    "    print(\"Ocurrió un error\")\n",
    "    print(f\"Tipo de error <{type(err)}>\")\n",
    "    print(f\"Mensaje del error <{err}>\")\n",
    "finally:\n",
    "    print(\"El `finally` se ejecuta SIEMPRE\")"
   ]
  },
  {
   "cell_type": "code",
   "execution_count": 20,
   "id": "dfc27e73-bb2b-4287-9c0e-d55c52525776",
   "metadata": {},
   "outputs": [
    {
     "name": "stdout",
     "output_type": "stream",
     "text": [
      "Hola Mundo\n",
      "El `finally` se ejecuta SIEMPRE\n"
     ]
    }
   ],
   "source": [
    "try:\n",
    "    print(\"Hola Mundo\")\n",
    "except NameError as err:\n",
    "    print(\"Ocurrió un error\")\n",
    "    print(f\"Tipo de error <{type(err)}>\")\n",
    "    print(f\"Mensaje del error <{err}>\")\n",
    "finally:\n",
    "    print(\"El `finally` se ejecuta SIEMPRE\")"
   ]
  },
  {
   "cell_type": "code",
   "execution_count": 21,
   "id": "28371abd-bb69-4546-bc6b-436309dd4da3",
   "metadata": {},
   "outputs": [
    {
     "name": "stdout",
     "output_type": "stream",
     "text": [
      "Hola Mundo\n",
      "Ocurrió un error\n",
      "Tipo de error <<class 'NameError'>>\n",
      "Mensaje del error <name 'hola' is not defined>\n",
      "El `finally` se ejecuta SIEMPRE\n"
     ]
    },
    {
     "ename": "Exception",
     "evalue": "Un error dentro del bloque except",
     "output_type": "error",
     "traceback": [
      "\u001b[0;31m---------------------------------------------------------------------------\u001b[0m",
      "\u001b[0;31mNameError\u001b[0m                                 Traceback (most recent call last)",
      "Cell \u001b[0;32mIn[21], line 4\u001b[0m\n\u001b[1;32m      3\u001b[0m adios \u001b[38;5;241m=\u001b[39m \u001b[38;5;124m\"\u001b[39m\u001b[38;5;124m7\u001b[39m\u001b[38;5;124m\"\u001b[39m\n\u001b[0;32m----> 4\u001b[0m \u001b[38;5;28mprint\u001b[39m(\u001b[43mhola\u001b[49m)\n\u001b[1;32m      5\u001b[0m \u001b[38;5;28mprint\u001b[39m(adios)\n",
      "\u001b[0;31mNameError\u001b[0m: name 'hola' is not defined",
      "\nDuring handling of the above exception, another exception occurred:\n",
      "\u001b[0;31mException\u001b[0m                                 Traceback (most recent call last)",
      "Cell \u001b[0;32mIn[21], line 11\u001b[0m\n\u001b[1;32m      8\u001b[0m     \u001b[38;5;28mprint\u001b[39m(\u001b[38;5;124mf\u001b[39m\u001b[38;5;124m\"\u001b[39m\u001b[38;5;124mTipo de error <\u001b[39m\u001b[38;5;132;01m{\u001b[39;00m\u001b[38;5;28mtype\u001b[39m(err)\u001b[38;5;132;01m}\u001b[39;00m\u001b[38;5;124m>\u001b[39m\u001b[38;5;124m\"\u001b[39m)\n\u001b[1;32m      9\u001b[0m     \u001b[38;5;28mprint\u001b[39m(\u001b[38;5;124mf\u001b[39m\u001b[38;5;124m\"\u001b[39m\u001b[38;5;124mMensaje del error <\u001b[39m\u001b[38;5;132;01m{\u001b[39;00merr\u001b[38;5;132;01m}\u001b[39;00m\u001b[38;5;124m>\u001b[39m\u001b[38;5;124m\"\u001b[39m)\n\u001b[0;32m---> 11\u001b[0m     \u001b[38;5;28;01mraise\u001b[39;00m \u001b[38;5;167;01mException\u001b[39;00m(\u001b[38;5;124m\"\u001b[39m\u001b[38;5;124mUn error dentro del bloque except\u001b[39m\u001b[38;5;124m\"\u001b[39m)\n\u001b[1;32m     12\u001b[0m \u001b[38;5;28;01mfinally\u001b[39;00m:\n\u001b[1;32m     13\u001b[0m     \u001b[38;5;28mprint\u001b[39m(\u001b[38;5;124m\"\u001b[39m\u001b[38;5;124mEl `finally` se ejecuta SIEMPRE\u001b[39m\u001b[38;5;124m\"\u001b[39m)\n",
      "\u001b[0;31mException\u001b[0m: Un error dentro del bloque except"
     ]
    }
   ],
   "source": [
    "try:\n",
    "    print(\"Hola Mundo\")\n",
    "    adios = \"7\"\n",
    "    print(hola)\n",
    "    print(adios)\n",
    "except NameError as err:\n",
    "    print(\"Ocurrió un error\")\n",
    "    print(f\"Tipo de error <{type(err)}>\")\n",
    "    print(f\"Mensaje del error <{err}>\")\n",
    "\n",
    "    raise Exception(\"Un error dentro del bloque except\")\n",
    "finally:\n",
    "    print(\"El `finally` se ejecuta SIEMPRE\")"
   ]
  },
  {
   "cell_type": "markdown",
   "id": "9e7b4660-71f4-4f33-82a2-f581c5745298",
   "metadata": {},
   "source": [
    "- Podemos observar también que cuando obtenemos un error dentro de un bloque `except`, el _**traceback**_ nos guía por todos los errores que se arrojaron, incluso los que ocurrieron dentro de un bloque `try`. Esto es algo bastante común, especialmente cuando usamos librerías externas, y también puede ser algo más difícil de navegar."
   ]
  },
  {
   "cell_type": "code",
   "execution_count": 22,
   "id": "e8932ff8-a4b9-4f26-8838-7a9c3d08cb2e",
   "metadata": {},
   "outputs": [
    {
     "name": "stdout",
     "output_type": "stream",
     "text": [
      "Abrimos prueba.txt\n",
      "Escribimos en prueba.txt\n",
      "Un error salvaje apareció\n",
      "Archivo prueba.txt cerrado\n"
     ]
    }
   ],
   "source": [
    "# Ejemplo práctico de uso del bloque finally\n",
    "\n",
    "try:\n",
    "    file = open(\"prueba.txt\", \"w\")\n",
    "    print(\"Abrimos prueba.txt\")\n",
    "    file.write(\"texto de prueba\")\n",
    "    print(\"Escribimos en prueba.txt\")\n",
    "    raise Exception(\"Un error salvaje apareció\")\n",
    "except Exception as e:\n",
    "    print(e)\n",
    "finally:\n",
    "    file.close() # NUNCA nos podemos olvidar de cerrar un archivo\n",
    "    print(\"Archivo prueba.txt cerrado\")"
   ]
  },
  {
   "cell_type": "markdown",
   "id": "4c84f347-5ff9-402f-a693-22d0802d256b",
   "metadata": {},
   "source": [
    "# Ejercicio\n",
    "- Ejecuta las siguientes celdas y corrige los errores que obtienes."
   ]
  },
  {
   "cell_type": "code",
   "execution_count": 23,
   "id": "fe3606d9-d071-4646-9a29-193ee173a4f2",
   "metadata": {},
   "outputs": [
    {
     "ename": "SyntaxError",
     "evalue": "invalid syntax (2209094484.py, line 4)",
     "output_type": "error",
     "traceback": [
      "\u001b[0;36m  Cell \u001b[0;32mIn[23], line 4\u001b[0;36m\u001b[0m\n\u001b[0;31m    for lista:\u001b[0m\n\u001b[0m             ^\u001b[0m\n\u001b[0;31mSyntaxError\u001b[0m\u001b[0;31m:\u001b[0m invalid syntax\n"
     ]
    }
   ],
   "source": [
    "# SyntaxError\n",
    "\n",
    "lista = [1,2,3]\n",
    "for lista:\n",
    "    print(lista)"
   ]
  },
  {
   "cell_type": "code",
   "execution_count": 24,
   "id": "e31046f9-55db-49ae-a16c-c795c816bb7e",
   "metadata": {},
   "outputs": [
    {
     "ename": "TypeError",
     "evalue": "unsupported operand type(s) for /: 'str' and 'str'",
     "output_type": "error",
     "traceback": [
      "\u001b[0;31m---------------------------------------------------------------------------\u001b[0m",
      "\u001b[0;31mTypeError\u001b[0m                                 Traceback (most recent call last)",
      "Cell \u001b[0;32mIn[24], line 3\u001b[0m\n\u001b[1;32m      1\u001b[0m \u001b[38;5;66;03m# TypeError\u001b[39;00m\n\u001b[0;32m----> 3\u001b[0m \u001b[38;5;28mprint\u001b[39m(\u001b[38;5;124;43m\"\u001b[39;49m\u001b[38;5;124;43m10\u001b[39;49m\u001b[38;5;124;43m\"\u001b[39;49m\u001b[43m \u001b[49m\u001b[38;5;241;43m/\u001b[39;49m\u001b[43m \u001b[49m\u001b[38;5;124;43m\"\u001b[39;49m\u001b[38;5;124;43m2\u001b[39;49m\u001b[38;5;124;43m\"\u001b[39;49m)\n",
      "\u001b[0;31mTypeError\u001b[0m: unsupported operand type(s) for /: 'str' and 'str'"
     ]
    }
   ],
   "source": [
    "# TypeError\n",
    "\n",
    "print(\"10\" / \"2\")"
   ]
  },
  {
   "cell_type": "code",
   "execution_count": 25,
   "id": "cec5d51b-3a47-477a-b789-ade97d721576",
   "metadata": {},
   "outputs": [
    {
     "ename": "NameError",
     "evalue": "name 'mundo' is not defined",
     "output_type": "error",
     "traceback": [
      "\u001b[0;31m---------------------------------------------------------------------------\u001b[0m",
      "\u001b[0;31mNameError\u001b[0m                                 Traceback (most recent call last)",
      "Cell \u001b[0;32mIn[25], line 4\u001b[0m\n\u001b[1;32m      1\u001b[0m \u001b[38;5;66;03m# NameError\u001b[39;00m\n\u001b[1;32m      3\u001b[0m hola \u001b[38;5;241m=\u001b[39m \u001b[38;5;124m\"\u001b[39m\u001b[38;5;124mHola\u001b[39m\u001b[38;5;124m\"\u001b[39m\n\u001b[0;32m----> 4\u001b[0m \u001b[38;5;28mprint\u001b[39m(hola, \u001b[43mmundo\u001b[49m)\n",
      "\u001b[0;31mNameError\u001b[0m: name 'mundo' is not defined"
     ]
    }
   ],
   "source": [
    "# NameError\n",
    "\n",
    "hola = \"Hola\"\n",
    "print(hola, mundo)"
   ]
  },
  {
   "cell_type": "code",
   "execution_count": 26,
   "id": "d9011ede-790d-4938-ad6c-1131338ac91e",
   "metadata": {},
   "outputs": [
    {
     "ename": "AttributeError",
     "evalue": "'str' object has no attribute 'minuscula'",
     "output_type": "error",
     "traceback": [
      "\u001b[0;31m---------------------------------------------------------------------------\u001b[0m",
      "\u001b[0;31mAttributeError\u001b[0m                            Traceback (most recent call last)",
      "Cell \u001b[0;32mIn[26], line 4\u001b[0m\n\u001b[1;32m      1\u001b[0m \u001b[38;5;66;03m# AttributeError\u001b[39;00m\n\u001b[1;32m      3\u001b[0m frase \u001b[38;5;241m=\u001b[39m \u001b[38;5;124m\"\u001b[39m\u001b[38;5;124mHola Mundo\u001b[39m\u001b[38;5;124m\"\u001b[39m\n\u001b[0;32m----> 4\u001b[0m frase_minuscula \u001b[38;5;241m=\u001b[39m \u001b[43mfrase\u001b[49m\u001b[38;5;241;43m.\u001b[39;49m\u001b[43mminuscula\u001b[49m()\n\u001b[1;32m      5\u001b[0m \u001b[38;5;28mprint\u001b[39m(frase_minuscula)\n",
      "\u001b[0;31mAttributeError\u001b[0m: 'str' object has no attribute 'minuscula'"
     ]
    }
   ],
   "source": [
    "# AttributeError\n",
    "\n",
    "frase = \"Hola Mundo\"\n",
    "frase_minuscula = frase.minuscula()\n",
    "print(frase_minuscula)"
   ]
  },
  {
   "cell_type": "code",
   "execution_count": 27,
   "id": "6b645f78-2633-4cd9-9141-96b55d1d7ace",
   "metadata": {},
   "outputs": [
    {
     "ename": "ZeroDivisionError",
     "evalue": "division by zero",
     "output_type": "error",
     "traceback": [
      "\u001b[0;31m---------------------------------------------------------------------------\u001b[0m",
      "\u001b[0;31mZeroDivisionError\u001b[0m                         Traceback (most recent call last)",
      "Cell \u001b[0;32mIn[27], line 5\u001b[0m\n\u001b[1;32m      3\u001b[0m lista \u001b[38;5;241m=\u001b[39m [\u001b[38;5;241m0\u001b[39m,\u001b[38;5;241m1\u001b[39m,\u001b[38;5;241m2\u001b[39m,\u001b[38;5;241m3\u001b[39m,\u001b[38;5;241m4\u001b[39m]\n\u001b[1;32m      4\u001b[0m \u001b[38;5;28;01mfor\u001b[39;00m num \u001b[38;5;129;01min\u001b[39;00m lista:\n\u001b[0;32m----> 5\u001b[0m     \u001b[38;5;28mprint\u001b[39m(\u001b[38;5;241;43m10\u001b[39;49m\u001b[38;5;241;43m/\u001b[39;49m\u001b[43mnum\u001b[49m)\n",
      "\u001b[0;31mZeroDivisionError\u001b[0m: division by zero"
     ]
    }
   ],
   "source": [
    "# ZeroDivisionError\n",
    "\n",
    "lista = [0,1,2,3,4]\n",
    "for num in lista:\n",
    "    print(10/num)"
   ]
  },
  {
   "cell_type": "code",
   "execution_count": 28,
   "id": "cf59df1f-38e6-4187-8656-e35742ebc7d4",
   "metadata": {},
   "outputs": [
    {
     "name": "stdout",
     "output_type": "stream",
     "text": [
      "Hola\n",
      "Mundo\n"
     ]
    },
    {
     "ename": "IndexError",
     "evalue": "list index out of range",
     "output_type": "error",
     "traceback": [
      "\u001b[0;31m---------------------------------------------------------------------------\u001b[0m",
      "\u001b[0;31mIndexError\u001b[0m                                Traceback (most recent call last)",
      "Cell \u001b[0;32mIn[28], line 6\u001b[0m\n\u001b[1;32m      3\u001b[0m lista \u001b[38;5;241m=\u001b[39m [\u001b[38;5;124m\"\u001b[39m\u001b[38;5;124mHola\u001b[39m\u001b[38;5;124m\"\u001b[39m, \u001b[38;5;124m\"\u001b[39m\u001b[38;5;124mMundo\u001b[39m\u001b[38;5;124m\"\u001b[39m]\n\u001b[1;32m      5\u001b[0m \u001b[38;5;28;01mfor\u001b[39;00m i \u001b[38;5;129;01min\u001b[39;00m \u001b[38;5;28mrange\u001b[39m(\u001b[38;5;241m5\u001b[39m):\n\u001b[0;32m----> 6\u001b[0m     \u001b[38;5;28mprint\u001b[39m(\u001b[43mlista\u001b[49m\u001b[43m[\u001b[49m\u001b[43mi\u001b[49m\u001b[43m]\u001b[49m)\n",
      "\u001b[0;31mIndexError\u001b[0m: list index out of range"
     ]
    }
   ],
   "source": [
    "# IndexError\n",
    "\n",
    "lista = [\"Hola\", \"Mundo\"]\n",
    "\n",
    "for i in range(5):\n",
    "    print(lista[i])"
   ]
  },
  {
   "cell_type": "code",
   "execution_count": 29,
   "id": "c0cc9f8b-56e4-41c4-bcf3-4b047cddd0f5",
   "metadata": {},
   "outputs": [
    {
     "ename": "KeyError",
     "evalue": "'Mundo'",
     "output_type": "error",
     "traceback": [
      "\u001b[0;31m---------------------------------------------------------------------------\u001b[0m",
      "\u001b[0;31mKeyError\u001b[0m                                  Traceback (most recent call last)",
      "Cell \u001b[0;32mIn[29], line 5\u001b[0m\n\u001b[1;32m      1\u001b[0m \u001b[38;5;66;03m# KeyError\u001b[39;00m\n\u001b[1;32m      3\u001b[0m diccionario \u001b[38;5;241m=\u001b[39m {\u001b[38;5;124m\"\u001b[39m\u001b[38;5;124mHola\u001b[39m\u001b[38;5;124m\"\u001b[39m : \u001b[38;5;124m\"\u001b[39m\u001b[38;5;124mMundo\u001b[39m\u001b[38;5;124m\"\u001b[39m, \u001b[38;5;124m\"\u001b[39m\u001b[38;5;124mAdiós\u001b[39m\u001b[38;5;124m\"\u001b[39m : \u001b[38;5;124m\"\u001b[39m\u001b[38;5;124mPlaneta\u001b[39m\u001b[38;5;124m\"\u001b[39m}\n\u001b[0;32m----> 5\u001b[0m \u001b[38;5;28mprint\u001b[39m(\u001b[43mdiccionario\u001b[49m\u001b[43m[\u001b[49m\u001b[38;5;124;43m\"\u001b[39;49m\u001b[38;5;124;43mMundo\u001b[39;49m\u001b[38;5;124;43m\"\u001b[39;49m\u001b[43m]\u001b[49m)\n",
      "\u001b[0;31mKeyError\u001b[0m: 'Mundo'"
     ]
    }
   ],
   "source": [
    "# KeyError\n",
    "\n",
    "diccionario = {\"Hola\" : \"Mundo\", \"Adiós\" : \"Planeta\"}\n",
    "\n",
    "print(diccionario[\"Mundo\"])"
   ]
  },
  {
   "cell_type": "code",
   "execution_count": 30,
   "id": "1078e9b9-0887-426b-908b-7728110303aa",
   "metadata": {},
   "outputs": [
    {
     "ename": "ModuleNotFoundError",
     "evalue": "No module named 'randon'",
     "output_type": "error",
     "traceback": [
      "\u001b[0;31m---------------------------------------------------------------------------\u001b[0m",
      "\u001b[0;31mModuleNotFoundError\u001b[0m                       Traceback (most recent call last)",
      "Cell \u001b[0;32mIn[30], line 3\u001b[0m\n\u001b[1;32m      1\u001b[0m \u001b[38;5;66;03m# ModuleNotFoundError\u001b[39;00m\n\u001b[0;32m----> 3\u001b[0m \u001b[38;5;28;01mimport\u001b[39;00m \u001b[38;5;21;01mrandon\u001b[39;00m\n\u001b[1;32m      5\u001b[0m \u001b[38;5;28mprint\u001b[39m(random\u001b[38;5;241m.\u001b[39mrandom())\n",
      "\u001b[0;31mModuleNotFoundError\u001b[0m: No module named 'randon'"
     ]
    }
   ],
   "source": [
    "# ModuleNotFoundError\n",
    "\n",
    "import randon\n",
    "\n",
    "print(random.random())"
   ]
  },
  {
   "cell_type": "code",
   "execution_count": 31,
   "id": "34ed3b08-77b8-4860-8339-a3fb943b9515",
   "metadata": {},
   "outputs": [
    {
     "ename": "ImportError",
     "evalue": "cannot import name 'deltatime' from 'datetime' (/usr/lib/python3.12/datetime.py)",
     "output_type": "error",
     "traceback": [
      "\u001b[0;31m---------------------------------------------------------------------------\u001b[0m",
      "\u001b[0;31mImportError\u001b[0m                               Traceback (most recent call last)",
      "Cell \u001b[0;32mIn[31], line 3\u001b[0m\n\u001b[1;32m      1\u001b[0m \u001b[38;5;66;03m# ImportError\u001b[39;00m\n\u001b[0;32m----> 3\u001b[0m \u001b[38;5;28;01mfrom\u001b[39;00m \u001b[38;5;21;01mdatetime\u001b[39;00m \u001b[38;5;28;01mimport\u001b[39;00m deltatime\n\u001b[1;32m      5\u001b[0m \u001b[38;5;28mprint\u001b[39m(deltatime(days\u001b[38;5;241m=\u001b[39m\u001b[38;5;241m30\u001b[39m))\n",
      "\u001b[0;31mImportError\u001b[0m: cannot import name 'deltatime' from 'datetime' (/usr/lib/python3.12/datetime.py)"
     ]
    }
   ],
   "source": [
    "# ImportError\n",
    "\n",
    "from datetime import deltatime\n",
    "\n",
    "print(deltatime(days=30))"
   ]
  },
  {
   "cell_type": "code",
   "execution_count": 32,
   "id": "730f2280-ba0f-479b-88fe-77b744c1568d",
   "metadata": {},
   "outputs": [
    {
     "ename": "IndentationError",
     "evalue": "expected an indented block after 'if' statement on line 5 (530489852.py, line 6)",
     "output_type": "error",
     "traceback": [
      "\u001b[0;36m  Cell \u001b[0;32mIn[32], line 6\u001b[0;36m\u001b[0m\n\u001b[0;31m    print(\"La condición es verdadera\")\u001b[0m\n\u001b[0m    ^\u001b[0m\n\u001b[0;31mIndentationError\u001b[0m\u001b[0;31m:\u001b[0m expected an indented block after 'if' statement on line 5\n"
     ]
    }
   ],
   "source": [
    "# IndentationError\n",
    "\n",
    "condicion = True\n",
    "\n",
    "if condicion:\n",
    "print(\"La condición es verdadera\")"
   ]
  },
  {
   "cell_type": "code",
   "execution_count": 33,
   "id": "113917b0-a308-4e7c-adde-0ed1324c87a8",
   "metadata": {},
   "outputs": [
    {
     "ename": "ValueError",
     "evalue": "time data '%Y-%m-%d' does not match format '2022-01-01'",
     "output_type": "error",
     "traceback": [
      "\u001b[0;31m---------------------------------------------------------------------------\u001b[0m",
      "\u001b[0;31mValueError\u001b[0m                                Traceback (most recent call last)",
      "Cell \u001b[0;32mIn[33], line 6\u001b[0m\n\u001b[1;32m      3\u001b[0m \u001b[38;5;28;01mfrom\u001b[39;00m \u001b[38;5;21;01mdatetime\u001b[39;00m \u001b[38;5;28;01mimport\u001b[39;00m datetime\n\u001b[1;32m      5\u001b[0m fecha \u001b[38;5;241m=\u001b[39m \u001b[38;5;124m\"\u001b[39m\u001b[38;5;124m2022-01-01\u001b[39m\u001b[38;5;124m\"\u001b[39m\n\u001b[0;32m----> 6\u001b[0m fecha_dt \u001b[38;5;241m=\u001b[39m \u001b[43mdatetime\u001b[49m\u001b[38;5;241;43m.\u001b[39;49m\u001b[43mstrptime\u001b[49m\u001b[43m(\u001b[49m\u001b[38;5;124;43m\"\u001b[39;49m\u001b[38;5;124;43m%\u001b[39;49m\u001b[38;5;124;43mY-\u001b[39;49m\u001b[38;5;124;43m%\u001b[39;49m\u001b[38;5;124;43mm-\u001b[39;49m\u001b[38;5;132;43;01m%d\u001b[39;49;00m\u001b[38;5;124;43m\"\u001b[39;49m\u001b[43m,\u001b[49m\u001b[43m \u001b[49m\u001b[43mfecha\u001b[49m\u001b[43m)\u001b[49m\n\u001b[1;32m      7\u001b[0m \u001b[38;5;28mprint\u001b[39m(fecha_dt)\n",
      "File \u001b[0;32m/usr/lib/python3.12/_strptime.py:554\u001b[0m, in \u001b[0;36m_strptime_datetime\u001b[0;34m(cls, data_string, format)\u001b[0m\n\u001b[1;32m    551\u001b[0m \u001b[38;5;28;01mdef\u001b[39;00m \u001b[38;5;21m_strptime_datetime\u001b[39m(\u001b[38;5;28mcls\u001b[39m, data_string, \u001b[38;5;28mformat\u001b[39m\u001b[38;5;241m=\u001b[39m\u001b[38;5;124m\"\u001b[39m\u001b[38;5;132;01m%a\u001b[39;00m\u001b[38;5;124m \u001b[39m\u001b[38;5;124m%\u001b[39m\u001b[38;5;124mb \u001b[39m\u001b[38;5;132;01m%d\u001b[39;00m\u001b[38;5;124m \u001b[39m\u001b[38;5;124m%\u001b[39m\u001b[38;5;124mH:\u001b[39m\u001b[38;5;124m%\u001b[39m\u001b[38;5;124mM:\u001b[39m\u001b[38;5;124m%\u001b[39m\u001b[38;5;124mS \u001b[39m\u001b[38;5;124m%\u001b[39m\u001b[38;5;124mY\u001b[39m\u001b[38;5;124m\"\u001b[39m):\n\u001b[1;32m    552\u001b[0m \u001b[38;5;250m    \u001b[39m\u001b[38;5;124;03m\"\"\"Return a class cls instance based on the input string and the\u001b[39;00m\n\u001b[1;32m    553\u001b[0m \u001b[38;5;124;03m    format string.\"\"\"\u001b[39;00m\n\u001b[0;32m--> 554\u001b[0m     tt, fraction, gmtoff_fraction \u001b[38;5;241m=\u001b[39m \u001b[43m_strptime\u001b[49m\u001b[43m(\u001b[49m\u001b[43mdata_string\u001b[49m\u001b[43m,\u001b[49m\u001b[43m \u001b[49m\u001b[38;5;28;43mformat\u001b[39;49m\u001b[43m)\u001b[49m\n\u001b[1;32m    555\u001b[0m     tzname, gmtoff \u001b[38;5;241m=\u001b[39m tt[\u001b[38;5;241m-\u001b[39m\u001b[38;5;241m2\u001b[39m:]\n\u001b[1;32m    556\u001b[0m     args \u001b[38;5;241m=\u001b[39m tt[:\u001b[38;5;241m6\u001b[39m] \u001b[38;5;241m+\u001b[39m (fraction,)\n",
      "File \u001b[0;32m/usr/lib/python3.12/_strptime.py:333\u001b[0m, in \u001b[0;36m_strptime\u001b[0;34m(data_string, format)\u001b[0m\n\u001b[1;32m    331\u001b[0m found \u001b[38;5;241m=\u001b[39m format_regex\u001b[38;5;241m.\u001b[39mmatch(data_string)\n\u001b[1;32m    332\u001b[0m \u001b[38;5;28;01mif\u001b[39;00m \u001b[38;5;129;01mnot\u001b[39;00m found:\n\u001b[0;32m--> 333\u001b[0m     \u001b[38;5;28;01mraise\u001b[39;00m \u001b[38;5;167;01mValueError\u001b[39;00m(\u001b[38;5;124m\"\u001b[39m\u001b[38;5;124mtime data \u001b[39m\u001b[38;5;132;01m%r\u001b[39;00m\u001b[38;5;124m does not match format \u001b[39m\u001b[38;5;132;01m%r\u001b[39;00m\u001b[38;5;124m\"\u001b[39m \u001b[38;5;241m%\u001b[39m\n\u001b[1;32m    334\u001b[0m                      (data_string, \u001b[38;5;28mformat\u001b[39m))\n\u001b[1;32m    335\u001b[0m \u001b[38;5;28;01mif\u001b[39;00m \u001b[38;5;28mlen\u001b[39m(data_string) \u001b[38;5;241m!=\u001b[39m found\u001b[38;5;241m.\u001b[39mend():\n\u001b[1;32m    336\u001b[0m     \u001b[38;5;28;01mraise\u001b[39;00m \u001b[38;5;167;01mValueError\u001b[39;00m(\u001b[38;5;124m\"\u001b[39m\u001b[38;5;124munconverted data remains: \u001b[39m\u001b[38;5;132;01m%s\u001b[39;00m\u001b[38;5;124m\"\u001b[39m \u001b[38;5;241m%\u001b[39m\n\u001b[1;32m    337\u001b[0m                       data_string[found\u001b[38;5;241m.\u001b[39mend():])\n",
      "\u001b[0;31mValueError\u001b[0m: time data '%Y-%m-%d' does not match format '2022-01-01'"
     ]
    }
   ],
   "source": [
    "# ValueError\n",
    "\n",
    "from datetime import datetime\n",
    "\n",
    "fecha = \"2022-01-01\"\n",
    "fecha_dt = datetime.strptime(\"%Y-%m-%d\", fecha)\n",
    "print(fecha_dt)"
   ]
  },
  {
   "cell_type": "code",
   "execution_count": 34,
   "id": "74bac6de-6f8b-4f7f-acb5-0ffb3ad73bc2",
   "metadata": {},
   "outputs": [
    {
     "ename": "AssertionError",
     "evalue": "La condición no es verdadera",
     "output_type": "error",
     "traceback": [
      "\u001b[0;31m---------------------------------------------------------------------------\u001b[0m",
      "\u001b[0;31mAssertionError\u001b[0m                            Traceback (most recent call last)",
      "Cell \u001b[0;32mIn[34], line 5\u001b[0m\n\u001b[1;32m      1\u001b[0m \u001b[38;5;66;03m# AssertionError\u001b[39;00m\n\u001b[1;32m      3\u001b[0m condicion \u001b[38;5;241m=\u001b[39m \u001b[38;5;28;01mFalse\u001b[39;00m\n\u001b[0;32m----> 5\u001b[0m \u001b[38;5;28;01massert\u001b[39;00m condicion, \u001b[38;5;124m\"\u001b[39m\u001b[38;5;124mLa condición no es verdadera\u001b[39m\u001b[38;5;124m\"\u001b[39m\n",
      "\u001b[0;31mAssertionError\u001b[0m: La condición no es verdadera"
     ]
    }
   ],
   "source": [
    "# AssertionError\n",
    "\n",
    "condicion = False\n",
    "\n",
    "assert condicion, \"La condición no es verdadera\""
   ]
  },
  {
   "cell_type": "code",
   "execution_count": null,
   "id": "13d70b7a-420e-4461-9224-7291a9852667",
   "metadata": {},
   "outputs": [],
   "source": []
  }
 ],
 "metadata": {
  "kernelspec": {
   "display_name": "Python 3 (ipykernel)",
   "language": "python",
   "name": "python3"
  },
  "language_info": {
   "codemirror_mode": {
    "name": "ipython",
    "version": 3
   },
   "file_extension": ".py",
   "mimetype": "text/x-python",
   "name": "python",
   "nbconvert_exporter": "python",
   "pygments_lexer": "ipython3",
   "version": "3.12.3"
  }
 },
 "nbformat": 4,
 "nbformat_minor": 5
}
