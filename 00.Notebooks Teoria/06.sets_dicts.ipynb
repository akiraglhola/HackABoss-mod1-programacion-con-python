{
 "cells": [
  {
   "cell_type": "markdown",
   "id": "2131c4bf",
   "metadata": {},
   "source": [
    "## Sets (set)\n",
    "\n",
    "\n",
    "En python, un set es una **colección de elementos que no posee órden**, por lo tanto no tiene indice. Debido a esto no podemos elegir en que orden aparecen sus elementos.\n",
    "\n",
    "Los sets **son mutables y NO permiten elemento repetidos**, lo que es útil en situaciones que tenemos que utilizar valores únicos.\n",
    "\n",
    "Se denotan con llaves **`{}`** y son muy utilizados en la teoria de grupos.\n",
    "\n",
    "| Método                      | Descripción                                            |\n",
    "|-----------------------------|--------------------------------------------------------|\n",
    "| **.add()**                  | Agrega un elemento al set                              |\n",
    "| **.clear()**                | Vacia el set                                           |\n",
    "| **.difference()**           | Retorna los elementos no comunes de ambos sets         |\n",
    "| **.remove()**               | Elimina un elemento especifico del set                 |\n",
    "| **.pop()**                  | Elimina un elemento del set y lo retorna               |\n",
    "| **.intersection()**         | Retorna los elementos en comun de dos sets             |\n",
    "| **.union()**                | Retorna la unión de dos sets                           |\n",
    "| **.update()**               | Agrega a un set los elementos de otro objeto iterable  |"
   ]
  },
  {
   "cell_type": "code",
   "execution_count": null,
   "id": "1fa38d79",
   "metadata": {},
   "outputs": [],
   "source": [
    "set_1 = {1, 2, 3, 4, 5, 6, 7, \"a\", \"b\", \"c\", \"d\", \"e\"}\n",
    "\n",
    "set_1"
   ]
  },
  {
   "cell_type": "code",
   "execution_count": null,
   "id": "f5e17321",
   "metadata": {},
   "outputs": [],
   "source": [
    "print(set_1)"
   ]
  },
  {
   "cell_type": "code",
   "execution_count": null,
   "id": "1cbed0b1",
   "metadata": {},
   "outputs": [],
   "source": [
    "set_2 = {5, 6, 7, 8, 9, 10, \"e\", \"f\", \"g\", \"h\"}\n",
    "\n",
    "set_2"
   ]
  },
  {
   "cell_type": "code",
   "execution_count": null,
   "id": "6cf74b37",
   "metadata": {},
   "outputs": [],
   "source": [
    "print(set_2)"
   ]
  },
  {
   "cell_type": "code",
   "execution_count": null,
   "id": "bad05b73",
   "metadata": {},
   "outputs": [],
   "source": [
    "# .add() agrega un solo elemento al set\n",
    "\n",
    "set_1.add(\"Hola\")\n",
    "\n",
    "set_1"
   ]
  },
  {
   "cell_type": "code",
   "execution_count": null,
   "id": "3c8e3f6d",
   "metadata": {},
   "outputs": [],
   "source": [
    "# .difference() elimina los elementos en comun en ambos sets\n",
    "\n",
    "set_1.difference(set_2)"
   ]
  },
  {
   "cell_type": "code",
   "execution_count": null,
   "id": "fc8d34e1",
   "metadata": {},
   "outputs": [],
   "source": [
    "# .union() retorna todos los elementos de ambos sets en uno solo\n",
    "\n",
    "set_1.union(set_2)"
   ]
  },
  {
   "cell_type": "code",
   "execution_count": null,
   "id": "90acc8cb",
   "metadata": {},
   "outputs": [],
   "source": [
    "# .intersection() retorna los elementos en comun de ambos sets\n",
    "\n",
    "set_1.intersection(set_2)"
   ]
  },
  {
   "cell_type": "code",
   "execution_count": null,
   "id": "42ab6074",
   "metadata": {},
   "outputs": [],
   "source": [
    "# .remove() elimina un unico elemento, se ejecuta in-place\n",
    "\n",
    "set_1.remove(\"Hola\")"
   ]
  },
  {
   "cell_type": "code",
   "execution_count": null,
   "id": "35bdfa36",
   "metadata": {},
   "outputs": [],
   "source": [
    "set_1"
   ]
  },
  {
   "cell_type": "code",
   "execution_count": null,
   "id": "ff18c6c3",
   "metadata": {},
   "outputs": [],
   "source": [
    "# .update() agrega los valores del set_2 al set_1, se ejecuta in-place\n",
    "\n",
    "set_1.update(set_2)\n",
    "\n",
    "print(set_1)"
   ]
  },
  {
   "cell_type": "markdown",
   "id": "9c55e4d0",
   "metadata": {},
   "source": [
    "## Dictionaries (dict)\n",
    "\n",
    "En python, los diccionarios son una **estructura de datos** y un **tipo de dato**. La principal característica de los diccionarios es que cada elemento tiene un par de **llave y valor** (**key y value**).\n",
    "\n",
    "- La **llave** o **key** se utiliza para identificar un elemento del diccionario, funciona como un indice, normalmente las llaves son **numeros o strings**.\n",
    "\n",
    "- El **valor** o **value** es el elemento asociado a la llave, este valor puede ser cualquier tipo de dato (**numero, string, lista, tupla, diccionario...**).\n",
    "\n",
    "Al igual que los sets los diccionarios **NO tienen un orden, además las llaves son únicas, es decir, no se pueden repetir**.\n",
    "\n",
    "Los diccionarios se denotan con **`{}`** y utilizan **`:`** para separar las llaves y los valores. \n",
    "\n",
    "Este tipo de dato también se le conoce como **JSON** en otros lenguajes."
   ]
  },
  {
   "cell_type": "code",
   "execution_count": null,
   "id": "1af88d6c",
   "metadata": {},
   "outputs": [],
   "source": [
    "dict_1 = {\"a\" : 1,\n",
    "          \"b\" : 2,\n",
    "          \"c\" : 3,\n",
    "          \"d\" : 4}\n",
    "\n",
    "print(dict_1)"
   ]
  },
  {
   "cell_type": "markdown",
   "id": "7a797f9d",
   "metadata": {},
   "source": [
    "Para poder acceder a los elementos de un diccionario:\n",
    "- Usariamos la **llave** como si fuese un **indice**.\n",
    "- Usariamos el método **`.get()`**"
   ]
  },
  {
   "cell_type": "code",
   "execution_count": null,
   "id": "c6119154",
   "metadata": {},
   "outputs": [],
   "source": [
    "# Usando la llave como indice\n",
    "\n",
    "dict_1[\"a\"]"
   ]
  },
  {
   "cell_type": "code",
   "execution_count": null,
   "id": "9c5f7716",
   "metadata": {},
   "outputs": [],
   "source": [
    "dict_1[\"d\"]"
   ]
  },
  {
   "cell_type": "code",
   "execution_count": null,
   "id": "e07b8db1",
   "metadata": {},
   "outputs": [],
   "source": [
    "# Si intento entrar en una llave que no existe me da error\n",
    "dict_1[\"z\"]"
   ]
  },
  {
   "cell_type": "code",
   "execution_count": null,
   "id": "a54aad51",
   "metadata": {},
   "outputs": [],
   "source": [
    "# Usando .get()\n",
    "\n",
    "dict_1.get(\"a\")"
   ]
  },
  {
   "cell_type": "code",
   "execution_count": null,
   "id": "47ca3174",
   "metadata": {},
   "outputs": [],
   "source": [
    "# Si usamos .get() con un elemento que no este en el diccionario, no da error pero no retorna nada\n",
    "\n",
    "dict_1.get(\"z\")"
   ]
  },
  {
   "cell_type": "markdown",
   "id": "865ff2c2",
   "metadata": {},
   "source": [
    "**Si quisieramos agregar un elemento nuevo al diccionario:**\n",
    "1. **`diccionario[llave] = valor`**\n",
    "2. **`diccionario.update({llave : valor})`**"
   ]
  },
  {
   "cell_type": "code",
   "execution_count": null,
   "id": "19b55bca",
   "metadata": {},
   "outputs": [],
   "source": [
    "# 1. diccionario[llave] = valor\n",
    "\n",
    "dict_1[\"e\"] = 5\n",
    "\n",
    "print(dict_1)"
   ]
  },
  {
   "cell_type": "code",
   "execution_count": null,
   "id": "ccda9f90",
   "metadata": {},
   "outputs": [],
   "source": [
    "# 2. diccionario.update({llave : valor})\n",
    "\n",
    "dict_1.update({\"f\" : 6, \"g\" : 7, \"h\" : 8})\n",
    "\n",
    "print(dict_1)"
   ]
  },
  {
   "cell_type": "markdown",
   "id": "f0b76410",
   "metadata": {},
   "source": [
    "Estas formas de agregar un elemento al diccionario también funciona para **\"actualizar\"** o **\"modificar\"** el valor de una llave ya existente.\n",
    "\n",
    "**Ejemplo:**"
   ]
  },
  {
   "cell_type": "code",
   "execution_count": null,
   "id": "b8e61530",
   "metadata": {},
   "outputs": [],
   "source": [
    "dict_1[\"a\"]"
   ]
  },
  {
   "cell_type": "code",
   "execution_count": null,
   "id": "722ae789",
   "metadata": {},
   "outputs": [],
   "source": [
    "dict_1[\"a\"] = 1000"
   ]
  },
  {
   "cell_type": "code",
   "execution_count": null,
   "id": "ae7ed22c",
   "metadata": {},
   "outputs": [],
   "source": [
    "print(dict_1)"
   ]
  },
  {
   "cell_type": "markdown",
   "id": "5d1e319c",
   "metadata": {},
   "source": [
    "**Existen muchas formas para crear diccionarios:**\n",
    "1. **Podemos pedir al usuario que ingrese una llave y un valor**\n",
    "2. **Podemos utilizar los elementos de listas, strings, tuplas, etc. para crear las llaves y valores del diccionario**."
   ]
  },
  {
   "cell_type": "code",
   "execution_count": null,
   "id": "88e061b1",
   "metadata": {},
   "outputs": [],
   "source": [
    "# 1. Pedir al usuario una llave y valor\n",
    "\n",
    "llave = input(\"Ingrese una llave (key), un string: \")\n",
    "valor = int(input(\"Ingrese un valor (value), un entero: \"))\n",
    "\n",
    "diccionario_1 = {llave : valor}\n",
    "\n",
    "print(diccionario_1)"
   ]
  },
  {
   "cell_type": "code",
   "execution_count": null,
   "id": "e07a9c07",
   "metadata": {},
   "outputs": [],
   "source": [
    "# 2. Usando 2 listas y bucles ()\n",
    "\n",
    "dict_vacio = {}\n",
    "\n",
    "lista_1 = [\"a\", \"b\", \"c\", \"d\", \"e\", \"f\"]\n",
    "lista_2 = [1, 2, 3, 4, 5, 6]\n",
    "\n",
    "for llave, valor in zip(lista_1, lista_2):\n",
    "    dict_vacio[llave] = valor\n",
    "    \n",
    "    \n",
    "print(dict_vacio)"
   ]
  },
  {
   "cell_type": "code",
   "execution_count": null,
   "id": "3479c7a0",
   "metadata": {},
   "outputs": [],
   "source": [
    "# 2. Usando strings y listas\n",
    "\n",
    "dict_vacio = {}\n",
    "\n",
    "string = \"abcdefg\"\n",
    "lista = [1, 2, 3, 4, 5, 6, 7]\n",
    "\n",
    "for llave, valor in zip(string, lista):\n",
    "    dict_vacio[llave] = valor\n",
    "    \n",
    "print(dict_vacio)"
   ]
  },
  {
   "cell_type": "markdown",
   "id": "db2e0e7f",
   "metadata": {},
   "source": [
    "**Para recorrer un diccionario tenemos diferentes formas:**\n",
    "1. Usando **`.keys()`**: Recorre solamente las llaves del diccionario.\n",
    "2. Usando **`.values()`**: Recorre solamente los valores del diccionario.\n",
    "3. Usando **`.items()`**: Recorre las llaves y los valores del diccionario."
   ]
  },
  {
   "cell_type": "code",
   "execution_count": null,
   "id": "aa672aa6",
   "metadata": {},
   "outputs": [],
   "source": [
    "dict_1"
   ]
  },
  {
   "cell_type": "code",
   "execution_count": null,
   "id": "e5b2bb30",
   "metadata": {},
   "outputs": [],
   "source": [
    "# Solo las llaves\n",
    "dict_1.keys()"
   ]
  },
  {
   "cell_type": "code",
   "execution_count": null,
   "id": "06caba84",
   "metadata": {},
   "outputs": [],
   "source": [
    "for llave in dict_1.keys():\n",
    "    print(llave)"
   ]
  },
  {
   "cell_type": "code",
   "execution_count": null,
   "id": "9b39e2bc",
   "metadata": {},
   "outputs": [],
   "source": [
    "# Solo los valores\n",
    "dict_1.values()"
   ]
  },
  {
   "cell_type": "code",
   "execution_count": null,
   "id": "584f65c8",
   "metadata": {},
   "outputs": [],
   "source": [
    "for valor in dict_1.values():\n",
    "    print(valor)"
   ]
  },
  {
   "cell_type": "code",
   "execution_count": null,
   "id": "ec05c490",
   "metadata": {},
   "outputs": [],
   "source": [
    "# LLaves y valores\n",
    "dict_1.items()"
   ]
  },
  {
   "cell_type": "code",
   "execution_count": null,
   "id": "4e0d1740",
   "metadata": {},
   "outputs": [],
   "source": [
    "for llave, valor in dict_1.items():\n",
    "    print(llave, valor)"
   ]
  },
  {
   "cell_type": "markdown",
   "id": "e71db0e4",
   "metadata": {},
   "source": [
    "**Al igual que las listas y las tuplas, los diccionarios pueden almacenar cualquier tipo de dato, incluso un diccionario.**"
   ]
  },
  {
   "cell_type": "code",
   "execution_count": null,
   "id": "f79532c5",
   "metadata": {},
   "outputs": [],
   "source": [
    "dict_1 = {1 : [1, 2, 3, 4, 5], 2 : [6, 7, 8, 9, 0], 3 : [\"a\", \"b\", \"c\", \"d\", \"e\"]}\n",
    "\n",
    "dict_1"
   ]
  },
  {
   "cell_type": "markdown",
   "id": "1dc738d1",
   "metadata": {},
   "source": [
    "### Diccionarios anidados"
   ]
  },
  {
   "cell_type": "code",
   "execution_count": null,
   "id": "fb0667f1",
   "metadata": {},
   "outputs": [],
   "source": [
    "# Diccionarios anidados\n",
    "\n",
    "dict_2 = {1 : {\"nombre\" : \"pablo\", \"apellido\" : \"rodriguez\"},\n",
    "          2 : {\"nombre\" : \"juan\", \"apellido\" : \"perez\"}}\n",
    "\n",
    "dict_2"
   ]
  },
  {
   "cell_type": "markdown",
   "id": "11400c76",
   "metadata": {},
   "source": [
    "Cuando tenemos un **diccionario anidado**, para poder acceder a los elementos de los diccionarios más internos debemos ir entrando en cada llave hasta llegar al elemento que queramos\n",
    "\n",
    "**Ejemplo:**"
   ]
  },
  {
   "cell_type": "code",
   "execution_count": null,
   "id": "e2d92a04",
   "metadata": {},
   "outputs": [],
   "source": [
    "dict_2[1]"
   ]
  },
  {
   "cell_type": "code",
   "execution_count": null,
   "id": "e1ba74be",
   "metadata": {},
   "outputs": [],
   "source": [
    "dict_2[1][\"nombre\"]"
   ]
  },
  {
   "cell_type": "code",
   "execution_count": null,
   "id": "5fd2a983",
   "metadata": {},
   "outputs": [],
   "source": [
    "dict_2.get(1).get(\"nombre\")"
   ]
  },
  {
   "cell_type": "code",
   "execution_count": null,
   "id": "b92f8af1",
   "metadata": {},
   "outputs": [],
   "source": [
    "dict_2[1][\"apellido\"]"
   ]
  },
  {
   "cell_type": "code",
   "execution_count": null,
   "id": "03bda6eb",
   "metadata": {},
   "outputs": [],
   "source": [
    "dict_2[2]"
   ]
  },
  {
   "cell_type": "code",
   "execution_count": null,
   "id": "2db22675",
   "metadata": {},
   "outputs": [],
   "source": [
    "dict_2[2][\"nombre\"]"
   ]
  },
  {
   "cell_type": "code",
   "execution_count": null,
   "id": "192c27a1",
   "metadata": {},
   "outputs": [],
   "source": [
    "dict_2.get(2).get(\"nombre\")"
   ]
  },
  {
   "cell_type": "markdown",
   "id": "217f78bf",
   "metadata": {},
   "source": [
    "**Existe una función que nos ayuda a contar el número de elementos de un objeto, la función retorna un objeto parecido a los diccionarios.**\n",
    "\n",
    "```python\n",
    "from collections import Counter\n",
    "```"
   ]
  },
  {
   "cell_type": "code",
   "execution_count": null,
   "id": "41f2169d",
   "metadata": {},
   "outputs": [],
   "source": [
    "from collections import Counter"
   ]
  },
  {
   "cell_type": "code",
   "execution_count": null,
   "id": "a5492fb3",
   "metadata": {},
   "outputs": [],
   "source": [
    "string = \"aaaabbbbcccccddddddeeeeeeeffffffffffgggggggggggggggghhhhhhhhhhhhhhhhhhhhhh\"\n",
    "print(string)"
   ]
  },
  {
   "cell_type": "code",
   "execution_count": null,
   "id": "7d272b35",
   "metadata": {},
   "outputs": [],
   "source": [
    "Counter(string)"
   ]
  },
  {
   "cell_type": "code",
   "execution_count": null,
   "id": "b4c7b5d0",
   "metadata": {},
   "outputs": [],
   "source": [
    "counter_letras = Counter(string)\n",
    "\n",
    "counter_letras"
   ]
  },
  {
   "cell_type": "code",
   "execution_count": null,
   "id": "7f66b619",
   "metadata": {},
   "outputs": [],
   "source": [
    "counter_letras[\"h\"]"
   ]
  },
  {
   "cell_type": "code",
   "execution_count": null,
   "id": "3b0ef66d",
   "metadata": {},
   "outputs": [],
   "source": [
    "lista = [1, 1, 1, 1, 1, 1, 1, 2, 2, 2, 2, 2, 2, 2, 2, 3, 3, 3, 3, 3, 3, 3, 3, 3, 4, 4, 4, 4, 4, 4, 4, 4, 4]\n",
    "\n",
    "counter_numeros = Counter(lista)\n",
    "\n",
    "counter_numeros"
   ]
  },
  {
   "cell_type": "code",
   "execution_count": null,
   "id": "0685f19b",
   "metadata": {},
   "outputs": [],
   "source": [
    "##############################################################################################################################"
   ]
  }
 ],
 "metadata": {
  "kernelspec": {
   "display_name": "Python 3 (ipykernel)",
   "language": "python",
   "name": "python3"
  },
  "language_info": {
   "codemirror_mode": {
    "name": "ipython",
    "version": 3
   },
   "file_extension": ".py",
   "mimetype": "text/x-python",
   "name": "python",
   "nbconvert_exporter": "python",
   "pygments_lexer": "ipython3",
   "version": "3.11.5"
  }
 },
 "nbformat": 4,
 "nbformat_minor": 5
}
