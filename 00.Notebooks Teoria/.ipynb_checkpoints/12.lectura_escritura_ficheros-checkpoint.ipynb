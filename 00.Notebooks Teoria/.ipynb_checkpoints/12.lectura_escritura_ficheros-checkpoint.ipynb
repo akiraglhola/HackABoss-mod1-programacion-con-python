{
 "cells": [
  {
   "cell_type": "markdown",
   "id": "32512ffb",
   "metadata": {},
   "source": [
    "## Lectura y Escritura de archivos\n",
    "\n",
    "En python para leer y escribir un archivo (o fichero) usamos la función **open**. Ésta función toma como parametros el **path** o ruta de un archivo y el modo de apertura, que pueden ser cualquiera de los siguientes (por defecto es **r**):\n",
    "\n",
    "\n",
    "|Modo  |Descripción                                                          |\n",
    "|------|---------------------------------------------------------------------|\n",
    "|**r** |Abre el fichero en modo lectura.                                     |\n",
    "|**r+**|Abre el fichero en modo lectura y escritura. Sobreescribe el archivo.|\n",
    "|**w** |Abre el fichero solo en modo escritura. Sobreescribe el archivo.     |\n",
    "|**a** |Añade una linea al final del fichero en caso de que ya exista.       |\n",
    "|**x** |Crea un nuevo archivo y lo abre para escritura.                      |\n",
    "|**br**|Abre ficheros binarios en modo lectura (imagenes).                   |\n",
    "|**bw**|Abre ficheros binarios en modo escritura. Sobreescribe el archivo.   |\n",
    "|**b+**|Abre ficheros binarios en modo lectura y escritura.                  |\n",
    "\n",
    "Para usar la función _**open**_ tenemos principalmente 2 formas:\n",
    "1. Usando _**open()**_ y el método _**.close()**_:\n",
    " \n",
    "```python\n",
    "    file = open(path, mode)\n",
    "    data = file.read()\n",
    "    file.close()\n",
    "```\n",
    "2. Usando la función _**with open()**_:\n",
    "```python\n",
    "    with open(path, mode) as file:\n",
    "        data = file.read()\n",
    "```\n",
    "\n",
    "Cuando solo usamos la función _**open()**_ tenemos que \"cerrar\" el archivo \"manualmente\", en cambio si usamos _**with open()**_ no tenemos que preocuparnos por esto, ya que su principal función es abrir y cerrar el archivo, por lo que es más recomendado usar la segunda forma, además de que simplifica el código.\n",
    "\n",
    "Un tercer parametro puede ser indicado a la función _**open()**_ y este es el _**encoding**_, por defecto no usa ninguno encoding, esto tiene un uso especial si tenemos ficheros con caracteres especiales, como los acentos o la letra **ñ**. El encoding más usado para esto sería _**utf-8**_.\n",
    "\n",
    "\n",
    "### Escritura de archivos\n",
    "\n",
    "Para escribir archivos usamos los siguientes métodos:\n",
    "\n",
    "|Método                   |Descripción                                                 |\n",
    "|-------------------------|------------------------------------------------------------|\n",
    "|**file.write(string)**   |Inserta la cadena \"string\" en una sola linea al archivo.    |\n",
    "|**file.writelines(list)**|Inserta las cadenas de la lista \"list\" al final del archivo.|\n",
    "\n",
    "**Aunque no es obligatorio, es buena práctica agregar el salto de linea `\\n` en cada string que agregemos al fichero.**\n",
    "\n",
    "\n",
    "### Lectura de archivos\n",
    "\n",
    "Para leer archivos usamos los siguientes métodos:\n",
    "\n",
    "|Método              |Descripción                                                                                                |\n",
    "|--------------------|-----------------------------------------------------------------------------------------------------------|\n",
    "|**file.read(n)**    |Lee los primero \"n\" caracteres del archivo, si no se especifica \"n\" lee todo el archivo en una sola cadena.|\n",
    "|**file.readline(n)**|Lee una sola linea del archivo, si se especifica \"n\", leerá los primeros n-caracteres de esa linea.        |\n",
    "|**file.readlines()**|Lee todo el archivo y retorna en una lista cada linea del archivo.                                         |"
   ]
  },
  {
   "cell_type": "code",
   "execution_count": 5,
   "id": "f536fa17",
   "metadata": {},
   "outputs": [
    {
     "data": {
      "text/plain": [
       "'1) Primera linea.\\n2) Segundalinea.\\n3) Tercera linea.\\n4) Cuarta linea.\\n5) Quinta linea.\\n6) Sexta linea.\\n7) Septima linea.\\n8) Octava linea.\\n9) Novena linea.\\n10) Decima linea.\\n'"
      ]
     },
     "execution_count": 5,
     "metadata": {},
     "output_type": "execute_result"
    }
   ],
   "source": [
    "# Sintaxis 1\n",
    "# Leer todo el archivo con .read()\n",
    "\n",
    "file = open(\"../Data/ejemplo_1.txt\", \"r\")\n",
    "data = file.read()\n",
    "file.close()\n",
    "\n",
    "data\n",
    "\n",
    "# Nos retorna un string"
   ]
  },
  {
   "cell_type": "code",
   "execution_count": 6,
   "id": "fcd0c2f6",
   "metadata": {},
   "outputs": [
    {
     "name": "stdout",
     "output_type": "stream",
     "text": [
      "1) Primera linea.\n",
      "2) Segundalinea.\n",
      "3) Tercera linea.\n",
      "4) Cuarta linea.\n",
      "5) Quinta linea.\n",
      "6) Sexta linea.\n",
      "7) Septima linea.\n",
      "8) Octava linea.\n",
      "9) Novena linea.\n",
      "10) Decima linea.\n",
      "\n"
     ]
    }
   ],
   "source": [
    "print(data)"
   ]
  },
  {
   "cell_type": "code",
   "execution_count": 8,
   "id": "10e49770",
   "metadata": {},
   "outputs": [
    {
     "data": {
      "text/plain": [
       "'1) Primera linea.\\n2) Segundalinea.\\n3) Tercera linea.\\n4) Cuarta linea.\\n5) Quinta linea.\\n6) Sexta linea.\\n7) Septima linea.\\n8) Octava linea.\\n9) Novena linea.\\n10) Decima linea.\\n'"
      ]
     },
     "execution_count": 8,
     "metadata": {},
     "output_type": "execute_result"
    }
   ],
   "source": [
    "# Sintaxis 2\n",
    "# Leer todo el archivo con .read()\n",
    "\n",
    "with open(\"../Data/ejemplo_1.txt\", \"r\") as file:\n",
    "    data_1 = file.read()\n",
    "    \n",
    "data_1\n",
    "\n",
    "# Nos retorna un string"
   ]
  },
  {
   "cell_type": "code",
   "execution_count": 9,
   "id": "5f991f80",
   "metadata": {},
   "outputs": [
    {
     "name": "stdout",
     "output_type": "stream",
     "text": [
      "1) Primera linea.\n",
      "2) Segundalinea.\n",
      "3) Tercera linea.\n",
      "4) Cuarta linea.\n",
      "5) Quinta linea.\n",
      "6) Sexta linea.\n",
      "7) Septima linea.\n",
      "8) Octava linea.\n",
      "9) Novena linea.\n",
      "10) Decima linea.\n",
      "\n"
     ]
    }
   ],
   "source": [
    "print(data_1)"
   ]
  },
  {
   "cell_type": "code",
   "execution_count": 10,
   "id": "4f3d4499",
   "metadata": {},
   "outputs": [
    {
     "data": {
      "text/plain": [
       "'1) Primera linea.\\n'"
      ]
     },
     "execution_count": 10,
     "metadata": {},
     "output_type": "execute_result"
    }
   ],
   "source": [
    "# Sintaxis 2\n",
    "# Leer todo el archivo con .readline()\n",
    "\n",
    "with open(\"../Data/ejemplo_1.txt\", \"r\") as file:\n",
    "    data = file.readline()\n",
    "    \n",
    "data\n",
    "\n",
    "# Con .readline() solo leemos una linea y nos retorna en forma de string"
   ]
  },
  {
   "cell_type": "code",
   "execution_count": 11,
   "id": "50efb33b",
   "metadata": {},
   "outputs": [
    {
     "data": {
      "text/plain": [
       "['1) Primera linea.\\n',\n",
       " '2) Segundalinea.\\n',\n",
       " '3) Tercera linea.\\n',\n",
       " '4) Cuarta linea.\\n',\n",
       " '5) Quinta linea.\\n',\n",
       " '6) Sexta linea.\\n',\n",
       " '7) Septima linea.\\n',\n",
       " '8) Octava linea.\\n',\n",
       " '9) Novena linea.\\n',\n",
       " '10) Decima linea.\\n']"
      ]
     },
     "execution_count": 11,
     "metadata": {},
     "output_type": "execute_result"
    }
   ],
   "source": [
    "# Sintaxis 2\n",
    "# Leer todo el archivo con .readlines()\n",
    "\n",
    "with open(\"../Data/ejemplo_1.txt\", \"r\") as file:\n",
    "    data = file.readlines()\n",
    "    \n",
    "data\n",
    "\n",
    "# Nos retorna una lista"
   ]
  },
  {
   "cell_type": "code",
   "execution_count": 12,
   "id": "e19a701b",
   "metadata": {},
   "outputs": [
    {
     "data": {
      "text/plain": [
       "'1) Primera linea.\\n2) Segundalinea.\\n3) Tercera linea.\\n4) Cuarta linea.\\n5) Quinta linea.\\n6) Sexta linea.\\n7) Septima linea.\\n8) Octava linea.\\n9) Novena linea.\\n10) Decima linea.\\n'"
      ]
     },
     "execution_count": 12,
     "metadata": {},
     "output_type": "execute_result"
    }
   ],
   "source": [
    "data_1"
   ]
  },
  {
   "cell_type": "code",
   "execution_count": 13,
   "id": "fc5605fe",
   "metadata": {},
   "outputs": [],
   "source": [
    "# Vamos a crear un archivo llamado \"ejemplo_2.txt\", que sea identico a \"ejemplo_1.txt\"\n",
    "\n",
    "with open(\"ejemplo_2.txt\", \"w\") as file:\n",
    "    file.write(data_1)"
   ]
  },
  {
   "cell_type": "code",
   "execution_count": 14,
   "id": "17bbe207",
   "metadata": {},
   "outputs": [],
   "source": [
    "# Vamos a agregar al archivo de \"ejemplo_2.txt\" el string \"Nueva linea\"\n",
    "\n",
    "with open(\"ejemplo_2.txt\", \"w\") as file:\n",
    "    file.write(\"Nueva linea\\n\")"
   ]
  },
  {
   "cell_type": "code",
   "execution_count": 15,
   "id": "111484d8",
   "metadata": {},
   "outputs": [
    {
     "name": "stdout",
     "output_type": "stream",
     "text": [
      "Nueva linea\n",
      "\n"
     ]
    }
   ],
   "source": [
    "# Veamos el resultado    \n",
    "    \n",
    "with open(\"ejemplo_2.txt\", \"r\") as file:\n",
    "    print(file.read())\n",
    "    \n",
    "    \n",
    "# Como el modo \"w\" sobreescribe el archivo, se pierde la información\n",
    "# Para no perder la información se usa \"a\""
   ]
  },
  {
   "cell_type": "code",
   "execution_count": 16,
   "id": "b313b0db",
   "metadata": {},
   "outputs": [
    {
     "name": "stdout",
     "output_type": "stream",
     "text": [
      "Nueva linea\n",
      "Nuevo intento\n",
      "\n"
     ]
    }
   ],
   "source": [
    "# Vamos a agregar al archivo \"Nuevo intento\", esta vez intentando no sobreescribir el archivo\n",
    "\n",
    "with open(\"ejemplo_2.txt\", \"a\") as file:\n",
    "    file.write(\"Nuevo intento\\n\")\n",
    "    \n",
    "with open(\"ejemplo_2.txt\", \"r\") as file:\n",
    "    print(file.read())"
   ]
  },
  {
   "cell_type": "code",
   "execution_count": 17,
   "id": "34f990f9",
   "metadata": {},
   "outputs": [
    {
     "ename": "FileNotFoundError",
     "evalue": "[Errno 2] No such file or directory: 'ejemplo_3.txt'",
     "output_type": "error",
     "traceback": [
      "\u001b[1;31m---------------------------------------------------------------------------\u001b[0m",
      "\u001b[1;31mFileNotFoundError\u001b[0m                         Traceback (most recent call last)",
      "Cell \u001b[1;32mIn[17], line 3\u001b[0m\n\u001b[0;32m      1\u001b[0m \u001b[38;5;66;03m# Intentemos abrir un archivo que no existe\u001b[39;00m\n\u001b[1;32m----> 3\u001b[0m \u001b[38;5;28;01mwith\u001b[39;00m \u001b[38;5;28mopen\u001b[39m(\u001b[38;5;124m\"\u001b[39m\u001b[38;5;124mejemplo_3.txt\u001b[39m\u001b[38;5;124m\"\u001b[39m, \u001b[38;5;124m\"\u001b[39m\u001b[38;5;124mr\u001b[39m\u001b[38;5;124m\"\u001b[39m) \u001b[38;5;28;01mas\u001b[39;00m file:\n\u001b[0;32m      4\u001b[0m     data \u001b[38;5;241m=\u001b[39m file\u001b[38;5;241m.\u001b[39mread()\n\u001b[0;32m      6\u001b[0m data\n",
      "File \u001b[1;32m~\\anaconda3\\Lib\\site-packages\\IPython\\core\\interactiveshell.py:324\u001b[0m, in \u001b[0;36m_modified_open\u001b[1;34m(file, *args, **kwargs)\u001b[0m\n\u001b[0;32m    317\u001b[0m \u001b[38;5;28;01mif\u001b[39;00m file \u001b[38;5;129;01min\u001b[39;00m {\u001b[38;5;241m0\u001b[39m, \u001b[38;5;241m1\u001b[39m, \u001b[38;5;241m2\u001b[39m}:\n\u001b[0;32m    318\u001b[0m     \u001b[38;5;28;01mraise\u001b[39;00m \u001b[38;5;167;01mValueError\u001b[39;00m(\n\u001b[0;32m    319\u001b[0m         \u001b[38;5;124mf\u001b[39m\u001b[38;5;124m\"\u001b[39m\u001b[38;5;124mIPython won\u001b[39m\u001b[38;5;124m'\u001b[39m\u001b[38;5;124mt let you open fd=\u001b[39m\u001b[38;5;132;01m{\u001b[39;00mfile\u001b[38;5;132;01m}\u001b[39;00m\u001b[38;5;124m by default \u001b[39m\u001b[38;5;124m\"\u001b[39m\n\u001b[0;32m    320\u001b[0m         \u001b[38;5;124m\"\u001b[39m\u001b[38;5;124mas it is likely to crash IPython. If you know what you are doing, \u001b[39m\u001b[38;5;124m\"\u001b[39m\n\u001b[0;32m    321\u001b[0m         \u001b[38;5;124m\"\u001b[39m\u001b[38;5;124myou can use builtins\u001b[39m\u001b[38;5;124m'\u001b[39m\u001b[38;5;124m open.\u001b[39m\u001b[38;5;124m\"\u001b[39m\n\u001b[0;32m    322\u001b[0m     )\n\u001b[1;32m--> 324\u001b[0m \u001b[38;5;28;01mreturn\u001b[39;00m io_open(file, \u001b[38;5;241m*\u001b[39margs, \u001b[38;5;241m*\u001b[39m\u001b[38;5;241m*\u001b[39mkwargs)\n",
      "\u001b[1;31mFileNotFoundError\u001b[0m: [Errno 2] No such file or directory: 'ejemplo_3.txt'"
     ]
    }
   ],
   "source": [
    "# Intentemos abrir un archivo que no existe\n",
    "\n",
    "with open(\"ejemplo_3.txt\", \"r\") as file:\n",
    "    data = file.read()\n",
    "    \n",
    "data"
   ]
  },
  {
   "cell_type": "markdown",
   "id": "c09de3cf",
   "metadata": {},
   "source": [
    "### Libreria pickle\n",
    "\n",
    "_**pickle**_ es una libreria que viene por defecto en python, esta libreria escribe y lee ficheros en modo binario. Estos archivos tiene extensión _**.pkl**_.\n",
    "\n",
    "La principal ventaja de usar _**pickle**_ es que podemos guardar de forma binaria cualquier objeto en python y este objeto conserva sus propiedades. En los ejemplos anteriores todo se guardaba como cadena de caracteres. Además, los archivos binarios ocupan menos espacio en memoria.\n",
    "\n",
    "|Funcion             |Descripción                                                                                                  |\n",
    "|--------------------|-------------------------------------------------------------------------------------------------------------|\n",
    "|**.dump(obj, file)**|Toma como parametro el objeto que se quiere guardar y el objeto file, guarda el objeto en un archivo binario.|\n",
    "|**.load(file)**     |Toma como parametro el objeto file y lee el fichero binario.                                                 |"
   ]
  },
  {
   "cell_type": "code",
   "execution_count": 18,
   "id": "5ad4c2a2",
   "metadata": {},
   "outputs": [],
   "source": [
    "import pickle"
   ]
  },
  {
   "cell_type": "code",
   "execution_count": 19,
   "id": "6a608b57",
   "metadata": {},
   "outputs": [
    {
     "data": {
      "text/plain": [
       "[0, 1, 2, 3, 4, 5, 6, 7, 8, 9]"
      ]
     },
     "execution_count": 19,
     "metadata": {},
     "output_type": "execute_result"
    }
   ],
   "source": [
    "lista = [0, 1, 2, 3, 4, 5, 6, 7, 8, 9]\n",
    "lista"
   ]
  },
  {
   "cell_type": "code",
   "execution_count": 20,
   "id": "075ec231",
   "metadata": {},
   "outputs": [],
   "source": [
    "#Vamos a escribir (generar) un fichero llamado ejemplo_binario.pkl\" \n",
    "# se guardará con los valores de la lista\n",
    "with open(\"ejemplo_binario.pkl\", \"bw\") as file:\n",
    "    pickle.dump(lista, file)"
   ]
  },
  {
   "cell_type": "code",
   "execution_count": 21,
   "id": "f8a6c05b",
   "metadata": {},
   "outputs": [
    {
     "data": {
      "text/plain": [
       "[0, 1, 2, 3, 4, 5, 6, 7, 8, 9]"
      ]
     },
     "execution_count": 21,
     "metadata": {},
     "output_type": "execute_result"
    }
   ],
   "source": [
    "# Vamos a leer/cargar el fichero \"ejemplo_binario.pkl\" y vamos a \n",
    "# almacenar su contenido en un objeto llamado lista_2\n",
    "with open(\"ejemplo_binario.pkl\", \"br\") as file:\n",
    "    lista_2 = pickle.load(file)\n",
    "    \n",
    "lista_2"
   ]
  },
  {
   "cell_type": "code",
   "execution_count": 23,
   "id": "89eb279b",
   "metadata": {},
   "outputs": [
    {
     "data": {
      "text/plain": [
       "list"
      ]
     },
     "execution_count": 23,
     "metadata": {},
     "output_type": "execute_result"
    }
   ],
   "source": [
    "# El elemento conservó sus propiedades originales.\n",
    "type(lista_2)"
   ]
  },
  {
   "cell_type": "markdown",
   "id": "f67847e8",
   "metadata": {},
   "source": [
    "### Libreria os\n",
    "\n",
    "El modulo _**os**_ nos permite realizar operaciones dependiente del Sistema Operativo, con este modulo vamos a ser capaces de recorrer los distintos directorios y ficheros del sistema.\n",
    "\n",
    "|Funciones                      |Descripción                                                                                    |\n",
    "|-------------------------------|-----------------------------------------------------------------------------------------------|\n",
    "|**os.getcwd()**                |Nos retorna la ruta en la que estamos trabajando en forma de string.                           |\n",
    "|**os.chdir(path)**             |Nos permite cambiar de ruta de trabajo, tiene como parametro la ruta a la que queremos cambiar.|\n",
    "|**os.listdir()**               |Nos retorna una lista con el nombre de los directorios y ficheros de esa ruta.                 |\n",
    "|**os.mkdir(path)**             |Crea un nuevo directorio en la ruta que le indiquemos.                                         |\n",
    "|**os.rmdir(path)**             |Elimina el directorio de la ruta que le indiquemos.                                            |\n",
    "|**os.rename(nombre1, nombre2)**|Renombra un archivo/directorio, toma 2 parametros, el nombre del objeto y el nuevo nombre.     |\n",
    "|**os.stat(path)**              |Retorna la información de ese archivo/fichero.                                                 |"
   ]
  },
  {
   "cell_type": "code",
   "execution_count": 24,
   "id": "807218cf",
   "metadata": {},
   "outputs": [],
   "source": [
    "import os"
   ]
  },
  {
   "cell_type": "code",
   "execution_count": 25,
   "id": "b66cfdd3",
   "metadata": {},
   "outputs": [
    {
     "data": {
      "text/plain": [
       "'C:\\\\Users\\\\Brian Clemente\\\\Documents\\\\GitHub\\\\DSB16RT\\\\mod1-programacion-con-python\\\\00.Notebooks Teoria'"
      ]
     },
     "execution_count": 25,
     "metadata": {},
     "output_type": "execute_result"
    }
   ],
   "source": [
    "os.getcwd()"
   ]
  },
  {
   "cell_type": "code",
   "execution_count": 26,
   "id": "8f4c14e7",
   "metadata": {},
   "outputs": [],
   "source": [
    "# Cambiamos el directorio a una carpeta anterior (usamos ..)\n",
    "os.chdir(\"..\")"
   ]
  },
  {
   "cell_type": "code",
   "execution_count": 27,
   "id": "57a3932f",
   "metadata": {},
   "outputs": [
    {
     "data": {
      "text/plain": [
       "'C:\\\\Users\\\\Brian Clemente\\\\Documents\\\\GitHub\\\\DSB16RT\\\\mod1-programacion-con-python'"
      ]
     },
     "execution_count": 27,
     "metadata": {},
     "output_type": "execute_result"
    }
   ],
   "source": [
    "os.getcwd()"
   ]
  },
  {
   "cell_type": "code",
   "execution_count": 28,
   "id": "5de9d68d",
   "metadata": {
    "scrolled": true
   },
   "outputs": [
    {
     "data": {
      "text/plain": [
       "['.git',\n",
       " '00.Notebooks Teoria',\n",
       " '01.Notebooks Ejercicios',\n",
       " '02.Notebooks Ejercicios Resueltos',\n",
       " 'Data',\n",
       " 'README.md']"
      ]
     },
     "execution_count": 28,
     "metadata": {},
     "output_type": "execute_result"
    }
   ],
   "source": [
    "os.listdir()"
   ]
  },
  {
   "cell_type": "code",
   "execution_count": 29,
   "id": "8137df93",
   "metadata": {},
   "outputs": [],
   "source": [
    "os.mkdir(\"prueba_os\")"
   ]
  },
  {
   "cell_type": "code",
   "execution_count": 30,
   "id": "a6aebc4a",
   "metadata": {},
   "outputs": [
    {
     "data": {
      "text/plain": [
       "['.git',\n",
       " '00.Notebooks Teoria',\n",
       " '01.Notebooks Ejercicios',\n",
       " '02.Notebooks Ejercicios Resueltos',\n",
       " 'Data',\n",
       " 'prueba_os',\n",
       " 'README.md']"
      ]
     },
     "execution_count": 30,
     "metadata": {},
     "output_type": "execute_result"
    }
   ],
   "source": [
    "os.listdir()"
   ]
  },
  {
   "cell_type": "code",
   "execution_count": 31,
   "id": "9eda6119",
   "metadata": {},
   "outputs": [],
   "source": [
    "os.rmdir(\"prueba_os\")"
   ]
  },
  {
   "cell_type": "code",
   "execution_count": 32,
   "id": "bec966f4",
   "metadata": {},
   "outputs": [
    {
     "data": {
      "text/plain": [
       "['.git',\n",
       " '00.Notebooks Teoria',\n",
       " '01.Notebooks Ejercicios',\n",
       " '02.Notebooks Ejercicios Resueltos',\n",
       " 'Data',\n",
       " 'README.md']"
      ]
     },
     "execution_count": 32,
     "metadata": {},
     "output_type": "execute_result"
    }
   ],
   "source": [
    "os.listdir()"
   ]
  },
  {
   "cell_type": "code",
   "execution_count": 35,
   "id": "6305d5b9-de3d-49ae-acb2-cbfd238e6455",
   "metadata": {
    "tags": []
   },
   "outputs": [],
   "source": [
    "os.chdir(\"C:\\\\Users\\\\Brian Clemente\\\\Documents\\\\GitHub\\\\DSB16RT\\\\mod1-programacion-con-python\\\\00.Notebooks Teoria\")"
   ]
  },
  {
   "cell_type": "code",
   "execution_count": 36,
   "id": "ce3e26e7-1949-4000-8a8c-d736ec5744c3",
   "metadata": {
    "tags": []
   },
   "outputs": [
    {
     "data": {
      "text/plain": [
       "['.ipynb_checkpoints',\n",
       " '00.introduccion_python.ipynb',\n",
       " '01.numeros_operadores_variables.ipynb',\n",
       " '02.booleans_operadores_logicos.ipynb',\n",
       " '03.strings_tuples_lists.ipynb',\n",
       " '04.condicionales_casting.ipynb',\n",
       " '05.bucles_for_while.ipynb',\n",
       " '06.sets_dicts.ipynb',\n",
       " '07.random.ipynb',\n",
       " '08.funciones.ipynb',\n",
       " '09.time_datetime.ipynb',\n",
       " '10.programación_orientada_objetos.ipynb',\n",
       " '11.funciones_especiales_python.ipynb',\n",
       " '12.lectura_escritura_ficheros.ipynb',\n",
       " '13.excepciones.ipynb',\n",
       " 'ejemplo_2.txt',\n",
       " 'ejemplo_binario.pkl',\n",
       " 'Imagenes Notebooks',\n",
       " 'prueba.txt',\n",
       " 'prueba_rename.txt']"
      ]
     },
     "execution_count": 36,
     "metadata": {},
     "output_type": "execute_result"
    }
   ],
   "source": [
    "os.listdir()"
   ]
  },
  {
   "cell_type": "code",
   "execution_count": 37,
   "id": "67c19c7a",
   "metadata": {},
   "outputs": [],
   "source": [
    "os.rename(\"prueba_rename.txt\", \"archivo_prueba.txt\")"
   ]
  },
  {
   "cell_type": "code",
   "execution_count": 38,
   "id": "e65f28a6",
   "metadata": {},
   "outputs": [
    {
     "data": {
      "text/plain": [
       "['.ipynb_checkpoints',\n",
       " '00.introduccion_python.ipynb',\n",
       " '01.numeros_operadores_variables.ipynb',\n",
       " '02.booleans_operadores_logicos.ipynb',\n",
       " '03.strings_tuples_lists.ipynb',\n",
       " '04.condicionales_casting.ipynb',\n",
       " '05.bucles_for_while.ipynb',\n",
       " '06.sets_dicts.ipynb',\n",
       " '07.random.ipynb',\n",
       " '08.funciones.ipynb',\n",
       " '09.time_datetime.ipynb',\n",
       " '10.programación_orientada_objetos.ipynb',\n",
       " '11.funciones_especiales_python.ipynb',\n",
       " '12.lectura_escritura_ficheros.ipynb',\n",
       " '13.excepciones.ipynb',\n",
       " 'archivo_prueba.txt',\n",
       " 'ejemplo_2.txt',\n",
       " 'ejemplo_binario.pkl',\n",
       " 'Imagenes Notebooks',\n",
       " 'prueba.txt']"
      ]
     },
     "execution_count": 38,
     "metadata": {},
     "output_type": "execute_result"
    }
   ],
   "source": [
    "os.listdir()"
   ]
  },
  {
   "cell_type": "code",
   "execution_count": 39,
   "id": "c7383233",
   "metadata": {},
   "outputs": [
    {
     "data": {
      "text/plain": [
       "os.stat_result(st_mode=33206, st_ino=5910974511507511, st_dev=8962772754628220036, st_nlink=1, st_uid=0, st_gid=0, st_size=224924, st_atime=1738083959, st_mtime=1737396132, st_ctime=1737037248)"
      ]
     },
     "execution_count": 39,
     "metadata": {},
     "output_type": "execute_result"
    }
   ],
   "source": [
    "os.stat(\"00.introduccion_python.ipynb\")"
   ]
  },
  {
   "cell_type": "code",
   "execution_count": null,
   "id": "e3bceaf4",
   "metadata": {
    "tags": []
   },
   "outputs": [],
   "source": [
    "################################################################################################################################"
   ]
  }
 ],
 "metadata": {
  "kernelspec": {
   "display_name": "Python 3 (ipykernel)",
   "language": "python",
   "name": "python3"
  },
  "language_info": {
   "codemirror_mode": {
    "name": "ipython",
    "version": 3
   },
   "file_extension": ".py",
   "mimetype": "text/x-python",
   "name": "python",
   "nbconvert_exporter": "python",
   "pygments_lexer": "ipython3",
   "version": "3.12.7"
  }
 },
 "nbformat": 4,
 "nbformat_minor": 5
}
