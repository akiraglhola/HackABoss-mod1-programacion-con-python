{
 "cells": [
  {
   "cell_type": "markdown",
   "id": "17446dec",
   "metadata": {},
   "source": [
    "## Condicionales\n",
    "\n",
    "Las sentencias condicionales se usan para tomar decisiones, éstas evalúan una operación lógica (declaraciones o statements), es decir una expresión que de como resultado **True** o **False** , y ejecuta una pieza de código u otro dependiendo del resultado. **Dependiendo de la estructura del condicional se ejecutará o no una o varias lineas de código.**\n",
    "\n",
    "### if\n",
    "\n",
    "Es la base del condicional, **if** evaluará si una declaración es **True** o **False** y, dependiendo del resultado, ejecutará una linea de código u otro.\n",
    "\n",
    "**Ejemplo:**"
   ]
  },
  {
   "cell_type": "code",
   "execution_count": 4,
   "id": "bf1e8357",
   "metadata": {},
   "outputs": [
    {
     "name": "stdout",
     "output_type": "stream",
     "text": [
      "Persona mayor de edad.\n"
     ]
    }
   ],
   "source": [
    "edad = 18\n",
    "\n",
    "# Condicional\n",
    "if edad >= 18:\n",
    "    print(\"Persona mayor de edad.\")"
   ]
  },
  {
   "cell_type": "code",
   "execution_count": 2,
   "id": "a1c83fd5",
   "metadata": {},
   "outputs": [],
   "source": [
    "edad = 17\n",
    "\n",
    "if edad >= 18:\n",
    "    print(\"Persona mayor de edad.\")"
   ]
  },
  {
   "cell_type": "markdown",
   "id": "fa8a74c1",
   "metadata": {},
   "source": [
    "### else\n",
    "\n",
    "Es el complemento del **if**, usando **else** podemos dar otro resultado si la condición no se cumple.\n",
    "\n",
    "**El condicional _else_ no es obligatorio y no necesita que le demos una declaración.**\n",
    "\n",
    "**Cuando se ejecuta el _if_ NO se ejecuta el _else_ y cuando NO se ejecuta el _if_ se ejecuta el _else_.**"
   ]
  },
  {
   "cell_type": "code",
   "execution_count": 5,
   "id": "7e183140",
   "metadata": {},
   "outputs": [
    {
     "name": "stdout",
     "output_type": "stream",
     "text": [
      "Persona mayor de edad.\n"
     ]
    }
   ],
   "source": [
    "edad = 18\n",
    "\n",
    "if edad >= 18:\n",
    "    print(\"Persona mayor de edad.\")\n",
    "    \n",
    "else:\n",
    "    print(\"Condición no se cumple, persona menor de edad\")"
   ]
  },
  {
   "cell_type": "code",
   "execution_count": 6,
   "id": "450e9802",
   "metadata": {},
   "outputs": [
    {
     "name": "stdout",
     "output_type": "stream",
     "text": [
      "Condición no se cumple, persona menor de edad\n"
     ]
    }
   ],
   "source": [
    "edad = 17\n",
    "\n",
    "if edad >= 18:\n",
    "    print(\"Persona mayor de edad.\")\n",
    "    \n",
    "else:\n",
    "    print(\"Condición no se cumple, persona menor de edad\")"
   ]
  },
  {
   "cell_type": "markdown",
   "id": "df11f27d",
   "metadata": {},
   "source": [
    "### elif\n",
    "\n",
    "Abreviatura de _**else if**_, está nos ayuda a verificar diferentes comprobaciones, **es opcional usarlo y al igual que el _if_ necesita una condición para comprobar, podemos usar tantos _elif_ como queramos**."
   ]
  },
  {
   "cell_type": "code",
   "execution_count": 7,
   "id": "5aca3084",
   "metadata": {},
   "outputs": [
    {
     "name": "stdout",
     "output_type": "stream",
     "text": [
      "Persona menor de edad, con 15 años.\n"
     ]
    }
   ],
   "source": [
    "edad = 15\n",
    "\n",
    "if edad >= 18:\n",
    "    print(\"Persona mayor de edad.\")\n",
    "    \n",
    "elif edad == 17:\n",
    "    print(\"Persona menor de edad, con 17 años.\")\n",
    "    \n",
    "elif edad == 15:\n",
    "    print(\"Persona menor de edad, con 15 años.\")\n",
    "    \n",
    "elif edad == 13:\n",
    "    print(\"Persona menor de edad, con 13 años.\")\n",
    "    \n",
    "else:\n",
    "    print(\"Persona menor de 13 años.\")"
   ]
  },
  {
   "cell_type": "markdown",
   "id": "f8f77cfa-e1a1-4076-b201-b94e70634fcb",
   "metadata": {},
   "source": [
    "**Ejercicio Propuesto**"
   ]
  },
  {
   "cell_type": "markdown",
   "id": "dc7cdca5-42b8-4c00-8d11-8fe349b8c5ff",
   "metadata": {},
   "source": [
    "Un vendedor ha decidido clasificar sus productos según el precio de estos, de la siguiente manera:\n",
    "* precio < 5.00 -> \"precio bajo\"\n",
    "* 5.00 <= precio <= 10.00 -> \"precio intermedio\"\n",
    "* precio > 10.00 -> \"precio alto\".\n",
    "\n",
    "Si se define una variable precio con el valor de 8, plantear una condicional para mostrar la clasificación del nuevo precio según lo señalado."
   ]
  },
  {
   "cell_type": "code",
   "execution_count": 15,
   "id": "a9b0f48e-5967-4cec-88e4-cb989fa734b2",
   "metadata": {},
   "outputs": [
    {
     "name": "stdout",
     "output_type": "stream",
     "text": [
      "precio intermedio\n"
     ]
    }
   ],
   "source": [
    "precio = 8\n",
    "\n",
    "if precio < 5:\n",
    "    print(\"precio bajo\")\n",
    "\n",
    "elif 5 <= precio <= 10 :\n",
    "    print(\"precio intermedio\")\n",
    "\n",
    "else:\n",
    "    print(\"precio alto\")"
   ]
  },
  {
   "cell_type": "code",
   "execution_count": 16,
   "id": "55dc9311-eab6-41bc-adc7-e4341f7e865d",
   "metadata": {},
   "outputs": [
    {
     "name": "stdout",
     "output_type": "stream",
     "text": [
      "Precio intermedio\n"
     ]
    }
   ],
   "source": [
    "precio = 8 \n",
    "\n",
    "if precio < 5: \n",
    "    print(\"Precio bajo\")\n",
    "elif precio >= 5 and precio <= 10: \n",
    "    print(\"Precio intermedio\")\n",
    "else: \n",
    "    print(\"Precio alto\")"
   ]
  },
  {
   "cell_type": "code",
   "execution_count": 17,
   "id": "ad31c16e-9aa7-4c70-876c-febe72ab1e7d",
   "metadata": {},
   "outputs": [
    {
     "name": "stdout",
     "output_type": "stream",
     "text": [
      "Precio intermedio\n"
     ]
    }
   ],
   "source": [
    "precio = 8\n",
    "if precio < 5:\n",
    "    print(\"Precio bajo\")\n",
    "elif precio <= 10:\n",
    "    print(\"Precio intermedio\") \n",
    "else:\n",
    "    print(\"Precio alto\")"
   ]
  },
  {
   "cell_type": "markdown",
   "id": "da44d3d8",
   "metadata": {},
   "source": [
    "### Condicionales anidados\n",
    "\n",
    "Al igual que las listas en Python, se pueden anidar condicionales, esto nos permite hacer código más complejo."
   ]
  },
  {
   "cell_type": "code",
   "execution_count": 18,
   "id": "299af74f",
   "metadata": {},
   "outputs": [
    {
     "name": "stdout",
     "output_type": "stream",
     "text": [
      "Vive en Madrid, mayor de edad.\n"
     ]
    }
   ],
   "source": [
    "edad = 18\n",
    "direccion = \"Madrid\"\n",
    "\n",
    "# Evaluar en función de la dirección, si la persona es mayor o menor de edad.\n",
    "\n",
    "if direccion == \"Madrid\":\n",
    "    \n",
    "    if edad >= 18:\n",
    "        print(\"Vive en Madrid, mayor de edad.\")\n",
    "        \n",
    "    elif (edad >= 15) and (edad < 18):\n",
    "        print(\"Vive en Madrid, menor de 18 pero mayor de 15 años.\")\n",
    "        \n",
    "    else:\n",
    "        print(\"Vive en Madrid, menor de 15 años.\")\n",
    "    \n",
    "else:\n",
    "    \n",
    "    print(\"No vive en Madrid.\")\n",
    "    \n",
    "    if edad >= 18:\n",
    "        print(\"Mayor de edad.\")\n",
    "    else:\n",
    "        print(\"Menor de edad\")"
   ]
  },
  {
   "cell_type": "markdown",
   "id": "6fb3a031",
   "metadata": {},
   "source": [
    "## Casting (conversión)\n",
    "\n",
    "En python y otros lenguajes, _**casting**_ (o **cast**) es un termino usado para cambiar el tipo de dato de una variable, como convertir un número _**float**_ a _**int**_ o una _**tuple**_ a _**list**_ (o viceversa).\n",
    "\n",
    "Para hacer _**casting**_ o castear, usamos las funciones _**built-in**_ de Python, que también son palabras reservadas:\n",
    "\n",
    "|Función      |Tipo              |\n",
    "|-------------|------------------|\n",
    "| **int()**   |Entero            |\n",
    "| **float()** |Flotante (Decimal)|\n",
    "| **bool()**  |Booleano          |\n",
    "| **str()**   |String            |\n",
    "| **tuple()** |Tupla             |\n",
    "| **list()**  |Lista             |\n",
    "| **set()**   |Set (o conjunto)  |\n",
    "| **dict()**  |Diccionario       |\n",
    "\n",
    "\n",
    "**Dependiendo del tipo de dato original podremos castear una variable a un tipo de dato u otro.**\n",
    "\n",
    "Por ejemplo, podemos transformar un numero a una cadena de caracteres, pero no podemos transformar una cadena de caracteres con letras a un numero entero."
   ]
  },
  {
   "cell_type": "code",
   "execution_count": 19,
   "id": "e3718466",
   "metadata": {},
   "outputs": [
    {
     "data": {
      "text/plain": [
       "'1000'"
      ]
     },
     "execution_count": 19,
     "metadata": {},
     "output_type": "execute_result"
    }
   ],
   "source": [
    "entero = 1000\n",
    "\n",
    "#Convierte la variable \"entero\" al tipo string\n",
    "str(entero)"
   ]
  },
  {
   "cell_type": "code",
   "execution_count": 20,
   "id": "f2ef3260",
   "metadata": {},
   "outputs": [
    {
     "data": {
      "text/plain": [
       "1000"
      ]
     },
     "execution_count": 20,
     "metadata": {},
     "output_type": "execute_result"
    }
   ],
   "source": [
    "string = \"1000\"\n",
    "\n",
    "# Si la cadena de caracteres (string) contiene solo números,\n",
    "# es posible transformarla a número entero (int)\n",
    "int(string)"
   ]
  },
  {
   "cell_type": "code",
   "execution_count": 21,
   "id": "08a875fb",
   "metadata": {},
   "outputs": [
    {
     "data": {
      "text/plain": [
       "1000.0"
      ]
     },
     "execution_count": 21,
     "metadata": {},
     "output_type": "execute_result"
    }
   ],
   "source": [
    "# Todo número int puede ser convertido al tipo float (decimal)\n",
    "float(string)"
   ]
  },
  {
   "cell_type": "code",
   "execution_count": 22,
   "id": "456f2c4e",
   "metadata": {},
   "outputs": [
    {
     "ename": "ValueError",
     "evalue": "invalid literal for int() with base 10: 'Hola'",
     "output_type": "error",
     "traceback": [
      "\u001b[1;31m---------------------------------------------------------------------------\u001b[0m",
      "\u001b[1;31mValueError\u001b[0m                                Traceback (most recent call last)",
      "Cell \u001b[1;32mIn[22], line 3\u001b[0m\n\u001b[0;32m      1\u001b[0m string \u001b[38;5;241m=\u001b[39m \u001b[38;5;124m\"\u001b[39m\u001b[38;5;124mHola\u001b[39m\u001b[38;5;124m\"\u001b[39m\n\u001b[0;32m      2\u001b[0m \u001b[38;5;66;03m# No podemos convertir una cadena de carateres que no contenga números a \"int\"\u001b[39;00m\n\u001b[1;32m----> 3\u001b[0m \u001b[38;5;28mint\u001b[39m(string)\n",
      "\u001b[1;31mValueError\u001b[0m: invalid literal for int() with base 10: 'Hola'"
     ]
    }
   ],
   "source": [
    "string = \"Hola\"\n",
    "# No podemos convertir una cadena de carateres que no contenga números a \"int\"\n",
    "int(string)"
   ]
  },
  {
   "cell_type": "code",
   "execution_count": 23,
   "id": "ea8adf53",
   "metadata": {},
   "outputs": [
    {
     "data": {
      "text/plain": [
       "[1, 2, 3, 4, 5, 6]"
      ]
     },
     "execution_count": 23,
     "metadata": {},
     "output_type": "execute_result"
    }
   ],
   "source": [
    "tupla = (1, 2, 3, 4, 5, 6)\n",
    "\n",
    "# Convirtiendo la tupla en una lista\n",
    "list(tupla)"
   ]
  },
  {
   "cell_type": "code",
   "execution_count": 25,
   "id": "bed1a870",
   "metadata": {},
   "outputs": [
    {
     "data": {
      "text/plain": [
       "{1, 2, 3, 4, 5, 6}"
      ]
     },
     "execution_count": 25,
     "metadata": {},
     "output_type": "execute_result"
    }
   ],
   "source": [
    "# Convirtiendo la tupla en un conjunto (set)\n",
    "set(tupla)"
   ]
  },
  {
   "cell_type": "code",
   "execution_count": 32,
   "id": "4f3d65fa",
   "metadata": {},
   "outputs": [
    {
     "ename": "ValueError",
     "evalue": "could not convert string to float: '100a00'",
     "output_type": "error",
     "traceback": [
      "\u001b[1;31m---------------------------------------------------------------------------\u001b[0m",
      "\u001b[1;31mValueError\u001b[0m                                Traceback (most recent call last)",
      "Cell \u001b[1;32mIn[32], line 3\u001b[0m\n\u001b[0;32m      1\u001b[0m string \u001b[38;5;241m=\u001b[39m \u001b[38;5;124m\"\u001b[39m\u001b[38;5;124m100a00\u001b[39m\u001b[38;5;124m\"\u001b[39m\n\u001b[1;32m----> 3\u001b[0m \u001b[38;5;28mfloat\u001b[39m(string)\n",
      "\u001b[1;31mValueError\u001b[0m: could not convert string to float: '100a00'"
     ]
    }
   ],
   "source": [
    "string = \"100a00\"\n",
    "\n",
    "float(string)"
   ]
  },
  {
   "cell_type": "markdown",
   "id": "b671f45c",
   "metadata": {},
   "source": [
    "## input\n",
    "\n",
    "La función _**input()**_ pide al usuario que ingrese por teclado un mensaje, puede ser una variable, un numero, una cadena de caracteres, una lista... Esta función SIEMPRE retorna una _**string**_, por lo que si el usuario ingresa un número tendremos que castearlo para poder usarlo como número."
   ]
  },
  {
   "cell_type": "code",
   "execution_count": 33,
   "id": "9fd2a010",
   "metadata": {},
   "outputs": [
    {
     "name": "stdin",
     "output_type": "stream",
     "text": [
      "Ingrese edad: 30\n"
     ]
    },
    {
     "data": {
      "text/plain": [
       "'30'"
      ]
     },
     "execution_count": 33,
     "metadata": {},
     "output_type": "execute_result"
    }
   ],
   "source": [
    "# Cuando se utiliza la función input, como parámetro, vas a digitar entre\n",
    "# comillas el texto que aparecerá al lado del recuadro que completará el usuario\n",
    "input(\"Ingrese edad:\")"
   ]
  },
  {
   "cell_type": "code",
   "execution_count": 34,
   "id": "74ef2a3b",
   "metadata": {},
   "outputs": [
    {
     "name": "stdin",
     "output_type": "stream",
     "text": [
      "Ingrese edad:  25\n"
     ]
    }
   ],
   "source": [
    "# Se asigna el valor recogido por input a la variable \"edad\".\n",
    "edad = input(\"Ingrese edad: \")"
   ]
  },
  {
   "cell_type": "code",
   "execution_count": 35,
   "id": "d7e790c8",
   "metadata": {},
   "outputs": [
    {
     "name": "stdout",
     "output_type": "stream",
     "text": [
      "25\n"
     ]
    }
   ],
   "source": [
    "# Se muestra el valor ingresado que se asignó a la variable \"edad\".\n",
    "print(edad)"
   ]
  },
  {
   "cell_type": "code",
   "execution_count": 36,
   "id": "2ca104ef",
   "metadata": {},
   "outputs": [
    {
     "data": {
      "text/plain": [
       "str"
      ]
     },
     "execution_count": 36,
     "metadata": {},
     "output_type": "execute_result"
    }
   ],
   "source": [
    "type(edad)"
   ]
  },
  {
   "cell_type": "code",
   "execution_count": 37,
   "id": "7d29fb9d",
   "metadata": {},
   "outputs": [
    {
     "name": "stdin",
     "output_type": "stream",
     "text": [
      "Ingrese edad:  42\n"
     ]
    },
    {
     "data": {
      "text/plain": [
       "int"
      ]
     },
     "execution_count": 37,
     "metadata": {},
     "output_type": "execute_result"
    }
   ],
   "source": [
    "# input genera un valor de tipo string, si lo que se busca es almacenar\n",
    "# la edad recogida por input como un valor numérico, entonces se debe\n",
    "# castear (convertir) a número (int)\n",
    "edad = int(input(\"Ingrese edad: \"))\n",
    "\n",
    "type(edad)"
   ]
  },
  {
   "cell_type": "code",
   "execution_count": 42,
   "id": "163fcf59",
   "metadata": {},
   "outputs": [
    {
     "name": "stdin",
     "output_type": "stream",
     "text": [
      "Ingresa una lista de numeros separados por espacios:  7 5 8 9 4 6 2 4\n"
     ]
    }
   ],
   "source": [
    "numeros = input(\"Ingresa una lista de numeros separados por espacios: \")"
   ]
  },
  {
   "cell_type": "code",
   "execution_count": 43,
   "id": "175c1468",
   "metadata": {},
   "outputs": [
    {
     "data": {
      "text/plain": [
       "'7 5 8 9 4 6 2 4'"
      ]
     },
     "execution_count": 43,
     "metadata": {},
     "output_type": "execute_result"
    }
   ],
   "source": [
    "numeros"
   ]
  },
  {
   "cell_type": "code",
   "execution_count": 44,
   "id": "54fc22f7",
   "metadata": {},
   "outputs": [
    {
     "data": {
      "text/plain": [
       "['7', '5', '8', '9', '4', '6', '2', '4']"
      ]
     },
     "execution_count": 44,
     "metadata": {},
     "output_type": "execute_result"
    }
   ],
   "source": [
    "# Separa los valores ingresados en el input mediante el espacio en blanco.\n",
    "# con el método .split()\n",
    "numeros = numeros.split(\" \")\n",
    "\n",
    "numeros"
   ]
  },
  {
   "cell_type": "code",
   "execution_count": null,
   "id": "02cda025",
   "metadata": {},
   "outputs": [],
   "source": [
    "##############################################################################################################################"
   ]
  }
 ],
 "metadata": {
  "kernelspec": {
   "display_name": "Python 3 (ipykernel)",
   "language": "python",
   "name": "python3"
  },
  "language_info": {
   "codemirror_mode": {
    "name": "ipython",
    "version": 3
   },
   "file_extension": ".py",
   "mimetype": "text/x-python",
   "name": "python",
   "nbconvert_exporter": "python",
   "pygments_lexer": "ipython3",
   "version": "3.12.7"
  }
 },
 "nbformat": 4,
 "nbformat_minor": 5
}
