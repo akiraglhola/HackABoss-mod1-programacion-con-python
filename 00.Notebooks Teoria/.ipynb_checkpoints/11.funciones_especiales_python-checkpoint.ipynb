{
 "cells": [
  {
   "cell_type": "markdown",
   "id": "8f77ec05",
   "metadata": {},
   "source": [
    "## Funciones Especiales\n",
    "\n",
    "### Operador Ternario \n",
    "\n",
    "Estos operadores evalúan si una expresión es verdadera o falsa, retornando un valor dependiendo del resultado.\n",
    "\n",
    "En pocas palabras, es un condicional _**if**_ con la parte del _**else**_ simplificado.\n",
    "\n",
    "**Sintaxis**:\n",
    "```python\n",
    "a if expresion else b\n",
    "```\n",
    "\n",
    "Este operador va a evaluar la expresión _**expresion**_ y determinar si es _**True**_ o _**False**_, dependiendo del resultado de la expresión tomara el valor _**a**_ o el valor _**b**_. Si la expresión es _**True**_ entonces toma el valor _**a**_, si la expresión es _**False**_ toma el valor _**b**_.\n",
    "\n",
    "**El resultado de este operador se puede guardar en una variable.**\n",
    "\n",
    "**Ejemplo:**"
   ]
  },
  {
   "cell_type": "code",
   "execution_count": 1,
   "id": "35576182",
   "metadata": {},
   "outputs": [
    {
     "data": {
      "text/plain": [
       "'Verdadero'"
      ]
     },
     "execution_count": 1,
     "metadata": {},
     "output_type": "execute_result"
    }
   ],
   "source": [
    "valor_1 = 10\n",
    "valor_2 = 20\n",
    "\n",
    "# a if expresion else b\n",
    "\n",
    "\"Verdadero\" if (valor_2 > valor_1) else \"Falso\""
   ]
  },
  {
   "cell_type": "code",
   "execution_count": 2,
   "id": "6ed5e642",
   "metadata": {},
   "outputs": [
    {
     "data": {
      "text/plain": [
       "'Falso'"
      ]
     },
     "execution_count": 2,
     "metadata": {},
     "output_type": "execute_result"
    }
   ],
   "source": [
    "\"Verdadero\" if (valor_2 < valor_1) else \"Falso\""
   ]
  },
  {
   "cell_type": "code",
   "execution_count": 3,
   "id": "f5357472",
   "metadata": {},
   "outputs": [
    {
     "data": {
      "text/plain": [
       "1"
      ]
     },
     "execution_count": 3,
     "metadata": {},
     "output_type": "execute_result"
    }
   ],
   "source": [
    "string = \"Hola Mundo, esto es Python.\"\n",
    "\n",
    "1 if \"Python\" in string else 0"
   ]
  },
  {
   "cell_type": "code",
   "execution_count": 4,
   "id": "ec30802e",
   "metadata": {},
   "outputs": [
    {
     "data": {
      "text/plain": [
       "0"
      ]
     },
     "execution_count": 4,
     "metadata": {},
     "output_type": "execute_result"
    }
   ],
   "source": [
    "string = \"Hola Mundo, esto es python.\"\n",
    "\n",
    "1 if \"Python\" in string else 0"
   ]
  },
  {
   "cell_type": "markdown",
   "id": "560161ca",
   "metadata": {},
   "source": [
    "### Lists Comprehensions\n",
    "\n",
    "Se utiliza para **aplicar una función a cada elemento de una lista**. También se puede utilizar **para hacer un filtrado de los elementos de la lista a través de una función** dada.\n",
    "\n",
    "Se utiliza en combinación con el **operador ternario**.\n",
    "\n",
    "- **Sintaxis 1** (sin usar condicionales): **`[valor for elem in objeto_iterable]`**\n",
    "\n",
    "\n",
    "- **Sintaxis 2** (usando **`if`** y **`else`** en forma de operador ternario): **`[valor_1 if expresion else valor_2 for elem in objeto_iterable]`**\n",
    "\n",
    "\n",
    "- **Sintaxis 3** (usando solo **`if`**): **`[valor for elem in objeto_iterable if expresion]`**\n",
    "\n",
    "Esta lista **se puede asignar a una variable**.\n",
    "\n",
    "**Ejemplo:**"
   ]
  },
  {
   "cell_type": "markdown",
   "id": "3b89d2d8",
   "metadata": {},
   "source": [
    "### Sintaxis 1\n",
    "- Con esta sintaxis podemos crear listas.\n",
    "- No se usan condicionales."
   ]
  },
  {
   "cell_type": "code",
   "execution_count": 5,
   "id": "71bdcf53",
   "metadata": {},
   "outputs": [
    {
     "data": {
      "text/plain": [
       "[0, 1, 2, 3, 4, 5, 6, 7, 8, 9]"
      ]
     },
     "execution_count": 5,
     "metadata": {},
     "output_type": "execute_result"
    }
   ],
   "source": [
    "# Vamos a iterar sobre range(10)\n",
    "\n",
    "[i for i in range(10)]\n",
    "\n",
    "# En este ejemplo no hacemos ninguna operación, solo hacemos una lista con los elementos de range(10)\n",
    "# Este resultado es lo mismo que hacer list(range(10))"
   ]
  },
  {
   "cell_type": "code",
   "execution_count": 6,
   "id": "7f410984",
   "metadata": {},
   "outputs": [
    {
     "data": {
      "text/plain": [
       "[0, 1, 2, 3, 4, 5, 6, 7, 8, 9]"
      ]
     },
     "execution_count": 6,
     "metadata": {},
     "output_type": "execute_result"
    }
   ],
   "source": [
    "lista_vacia = []\n",
    "\n",
    "for i in range(10):\n",
    "    lista_vacia.append(i)\n",
    "    \n",
    "lista_vacia"
   ]
  },
  {
   "cell_type": "code",
   "execution_count": 7,
   "id": "77206f27",
   "metadata": {},
   "outputs": [
    {
     "data": {
      "text/plain": [
       "[0, 1, 4, 9, 16, 25, 36, 49, 64, 81]"
      ]
     },
     "execution_count": 7,
     "metadata": {},
     "output_type": "execute_result"
    }
   ],
   "source": [
    "# Podemos hacer operaciones a los elementos que queremos en la lista\n",
    "# Obtener una lista que contiene los valores eleveados al cuadrado del 0 al 9\n",
    "[i**2 for i in range(10)]"
   ]
  },
  {
   "cell_type": "code",
   "execution_count": 8,
   "id": "997aacf1",
   "metadata": {},
   "outputs": [
    {
     "data": {
      "text/plain": [
       "['0.0', '0.1', '0.2', '0.3', '0.4', '0.5', '0.6', '0.7', '0.8', '0.9']"
      ]
     },
     "execution_count": 8,
     "metadata": {},
     "output_type": "execute_result"
    }
   ],
   "source": [
    "# Podemos hacer cualquier operación que queramos\n",
    "# Dividimos el valor de i entre 10 y se convierte en string para cada i del bucle for.\n",
    "[str(i/10) for i in range(10)]"
   ]
  },
  {
   "cell_type": "code",
   "execution_count": 9,
   "id": "d76c8042",
   "metadata": {},
   "outputs": [
    {
     "data": {
      "text/plain": [
       "['P', 'Y', 'T', 'H', 'O', 'N', '!']"
      ]
     },
     "execution_count": 9,
     "metadata": {},
     "output_type": "execute_result"
    }
   ],
   "source": [
    "# También podemos iterar sobre cadenas de caracteres\n",
    "\n",
    "string = \"PYTHON!\"\n",
    "\n",
    "# Acumulamos en una lista cada caracter del elemento iterable \"string\"\n",
    "[s for s in string]"
   ]
  },
  {
   "cell_type": "code",
   "execution_count": 10,
   "id": "72597471",
   "metadata": {},
   "outputs": [
    {
     "data": {
      "text/plain": [
       "[True, True, True, True, True, True, False]"
      ]
     },
     "execution_count": 10,
     "metadata": {},
     "output_type": "execute_result"
    }
   ],
   "source": [
    "string = \"PYTHON!\"\n",
    "\n",
    "[s.isalpha() for s in string]\n",
    "\n",
    "# .isalpha() retorna True si la cadena es una letra, si no lo es retorna False"
   ]
  },
  {
   "cell_type": "code",
   "execution_count": 11,
   "id": "b7031798",
   "metadata": {},
   "outputs": [
    {
     "data": {
      "text/plain": [
       "[55, 11, 34, 24, 96, 68, 34, 82, 96, 52]"
      ]
     },
     "execution_count": 11,
     "metadata": {},
     "output_type": "execute_result"
    }
   ],
   "source": [
    "from random import randint\n",
    "# Una lista con 10 números aleatorios (for) entre el 1 y el 100 (randint)\n",
    "[randint(1, 100) for i in range(10)]"
   ]
  },
  {
   "cell_type": "markdown",
   "id": "e0c03b07",
   "metadata": {},
   "source": [
    "### Sintaxis 2\n",
    "- Con esta sintaxis podemos crear listas.\n",
    "- Podemos modificar elementos de una lista.\n",
    "- Necesitamos usar condicionales **`if`**, **`else`** (en forma de operador ternario).\n",
    "- **La condición va al comienzo de la lista.**"
   ]
  },
  {
   "cell_type": "code",
   "execution_count": 14,
   "id": "e2d12cb1",
   "metadata": {},
   "outputs": [
    {
     "data": {
      "text/plain": [
       "[-1, -1, -1, -1, -1, 1, 1, 1, 1, 1]"
      ]
     },
     "execution_count": 14,
     "metadata": {},
     "output_type": "execute_result"
    }
   ],
   "source": [
    "# Vamos a iterar sobre range(10)\n",
    "# Vamos a cambiar los números menores a 4 a -1 y los mayores a 4 a 1\n",
    "\n",
    "[1 if i > 4 else -1 for i in range(10)]"
   ]
  },
  {
   "cell_type": "code",
   "execution_count": 15,
   "id": "8b35d570",
   "metadata": {},
   "outputs": [
    {
     "data": {
      "text/plain": [
       "[0.0, 0.1, 0.2, 0.3, 0.4, 25, 36, 49, 64, 81]"
      ]
     },
     "execution_count": 15,
     "metadata": {},
     "output_type": "execute_result"
    }
   ],
   "source": [
    "# Aquí vamos a dividir entre 10 a los números menores a 4\n",
    "# Si el número es mayor a 4 lo elevamos al cuadrado\n",
    "\n",
    "[i**2 if i > 4 else i/10 for i in range(10)]"
   ]
  },
  {
   "cell_type": "code",
   "execution_count": 17,
   "id": "9470f593",
   "metadata": {},
   "outputs": [
    {
     "data": {
      "text/plain": [
       "[66, 1, 85, 3, 47, 5, 9, 7, 54, 9]"
      ]
     },
     "execution_count": 17,
     "metadata": {},
     "output_type": "execute_result"
    }
   ],
   "source": [
    "# Evalua si el valor de i es par o impar, si es par se reemplaza por un \n",
    "#número aleatorio entre 1 y 100, y si es impar se mantiene el valor.\n",
    "[randint(1, 100) if i % 2 == 0 else i for i in range(10)]"
   ]
  },
  {
   "cell_type": "code",
   "execution_count": 18,
   "id": "d9ec2fb3",
   "metadata": {},
   "outputs": [
    {
     "data": {
      "text/plain": [
       "['Hola!', 'esto', 'es', 'una', 'cadena', 'en', 'python!']"
      ]
     },
     "execution_count": 18,
     "metadata": {},
     "output_type": "execute_result"
    }
   ],
   "source": [
    "string = \"Hola! esto es una cadena en python!\"\n",
    "\n",
    "#Te separa cada palabra (separada por espacio) \n",
    "string = string.split()\n",
    "\n",
    "string\n",
    "# Ahora string es una lista que contiene 7 elementos."
   ]
  },
  {
   "cell_type": "code",
   "execution_count": 19,
   "id": "700095cc",
   "metadata": {},
   "outputs": [
    {
     "data": {
      "text/plain": [
       "['Hola!', 'ESTO', 'ES', 'una', 'CADENA', 'EN', 'python!']"
      ]
     },
     "execution_count": 19,
     "metadata": {},
     "output_type": "execute_result"
    }
   ],
   "source": [
    "# 1. Recorremos cada elemento de la lista string (los 7 con for)\n",
    "# 2. Evaluamos la condición: si la cantidad de caracteres que tiene\n",
    "# la palabra es par (len), entonces la muestra en mayúsculas (upper)\n",
    "# y en caso contrario, la muestra como está.\n",
    "[cadena.upper() if len(cadena) % 2 == 0 else cadena for cadena in string]"
   ]
  },
  {
   "cell_type": "code",
   "execution_count": 20,
   "id": "3a5fc1f5",
   "metadata": {},
   "outputs": [
    {
     "data": {
      "text/plain": [
       "['Hola!', 'ESTO', 'ES', 'una', 'CADENA', 'EN', 'python!']"
      ]
     },
     "execution_count": 20,
     "metadata": {},
     "output_type": "execute_result"
    }
   ],
   "source": [
    "lista_vacia = []\n",
    "\n",
    "for cadena in string:\n",
    "    \n",
    "    if len(cadena) % 2 == 0:\n",
    "        lista_vacia.append(cadena.upper())\n",
    "        \n",
    "    else:\n",
    "        lista_vacia.append(cadena)\n",
    "        \n",
    "lista_vacia"
   ]
  },
  {
   "cell_type": "markdown",
   "id": "b9b0fea5",
   "metadata": {},
   "source": [
    "### Sintaxis 3\n",
    "- Con esta sintaxis podemos crear listas.\n",
    "- Podemos modificar elementos de una lista y acortar la lista.\n",
    "- Solo usamos el condicional **`if`**.\n",
    "- **La condición va al final de la lista, no al comienzo.**"
   ]
  },
  {
   "cell_type": "code",
   "execution_count": 22,
   "id": "ff0b8fac",
   "metadata": {},
   "outputs": [
    {
     "data": {
      "text/plain": [
       "[50, 52, 54, 56, 58, 60, 62, 64, 66, 68]"
      ]
     },
     "execution_count": 22,
     "metadata": {},
     "output_type": "execute_result"
    }
   ],
   "source": [
    "# Aquí vamos a iterar sobre range(50, 70)\n",
    "# La condición va a \"filtrar\" los elementos de la lista\n",
    "# Solamente se quiere almacenar los valores pares\n",
    "[i for i in range(50, 70) if i % 2 == 0]"
   ]
  },
  {
   "cell_type": "code",
   "execution_count": 23,
   "id": "c3affe7f-0eaf-49b2-b589-224223cdf4c2",
   "metadata": {},
   "outputs": [
    {
     "data": {
      "text/plain": [
       "[21, 23, 25, 27, 29]"
      ]
     },
     "execution_count": 23,
     "metadata": {},
     "output_type": "execute_result"
    }
   ],
   "source": [
    "# Quiero obtener una lista que contenga los números impares contenidos entre 20 y 30.\n",
    "[i for i in range(20, 30) if i % 2 != 0]"
   ]
  },
  {
   "cell_type": "code",
   "execution_count": 25,
   "id": "8a2ada2a-3348-4ac2-81ef-4e4e41de0774",
   "metadata": {},
   "outputs": [
    {
     "data": {
      "text/plain": [
       "[21, 23, 25, 27, 29]"
      ]
     },
     "execution_count": 25,
     "metadata": {},
     "output_type": "execute_result"
    }
   ],
   "source": [
    "[2*i-1 for i in range(11, 16)]"
   ]
  },
  {
   "cell_type": "code",
   "execution_count": 26,
   "id": "0398f744",
   "metadata": {},
   "outputs": [
    {
     "data": {
      "text/plain": [
       "[50, 0, 52, 0, 54, 0, 56, 0, 58, 0, 60, 0, 62, 0, 64, 0, 66, 0, 68, 0]"
      ]
     },
     "execution_count": 26,
     "metadata": {},
     "output_type": "execute_result"
    }
   ],
   "source": [
    "# Aquí está la misma condición pero con if-else (sintaxis 2)\n",
    "# La lista es más larga porque no elimina los elementos que no cumplan la condición, solo los transforma\n",
    "\n",
    "[i if i % 2 == 0 else 0 for i in range(50, 70)]"
   ]
  },
  {
   "cell_type": "code",
   "execution_count": 27,
   "id": "29fc7f3d",
   "metadata": {},
   "outputs": [
    {
     "data": {
      "text/plain": [
       "[64, 49, 36, 196, 49, 169, 196, 49, 196, 64]"
      ]
     },
     "execution_count": 27,
     "metadata": {},
     "output_type": "execute_result"
    }
   ],
   "source": [
    "lista_1 = [randint(5, 15)**2 for i in range(5, 15)] # Sintaxis 1\n",
    "\n",
    "lista_1"
   ]
  },
  {
   "cell_type": "code",
   "execution_count": 28,
   "id": "2f95473e",
   "metadata": {},
   "outputs": [
    {
     "data": {
      "text/plain": [
       "[64, 49, 36, 49, 49, 64]"
      ]
     },
     "execution_count": 28,
     "metadata": {},
     "output_type": "execute_result"
    }
   ],
   "source": [
    "lista_2 = [num for num in lista_1 if len(str(num)) == 2] # Sintaxis 3\n",
    "# lista_2 mostrará solo aquellos números de 2 dígitos de lista_1\n",
    "lista_2\n",
    "\n",
    "# Ahora la lista es más corta"
   ]
  },
  {
   "cell_type": "markdown",
   "id": "f8b8ad41",
   "metadata": {},
   "source": [
    "### Generator expressions (generadores)\n",
    "\n",
    "Los generadores son tuplas creadas con la misma lógica de los **`list comprehensions`**. \n",
    "- Comparten la misma sintaxis que los **`lists compehensions`**, la única diferencia es que usan **`( )`** en lugar de **`[ ]`**\n",
    "- Ocupan **menos memoria** que una lista.\n",
    "- Luego de iterar sobre ellas, **el generador se vacia**.\n",
    "- Este generador **se puede asignar a una variable**, aunque es poco común hacer esto. (La variable se vacía al final de iterar sobre ella)."
   ]
  },
  {
   "cell_type": "code",
   "execution_count": 29,
   "id": "65988e90",
   "metadata": {},
   "outputs": [
    {
     "data": {
      "text/plain": [
       "<generator object <genexpr> at 0x00000148BA3A9150>"
      ]
     },
     "execution_count": 29,
     "metadata": {},
     "output_type": "execute_result"
    }
   ],
   "source": [
    "(i**2 for i in range(10))"
   ]
  },
  {
   "cell_type": "code",
   "execution_count": 30,
   "id": "b7bc0dd4",
   "metadata": {},
   "outputs": [
    {
     "data": {
      "text/plain": [
       "<generator object <genexpr> at 0x00000148BA3A9CB0>"
      ]
     },
     "execution_count": 30,
     "metadata": {},
     "output_type": "execute_result"
    }
   ],
   "source": [
    "generador = (i**2 for i in range(10))\n",
    "\n",
    "generador"
   ]
  },
  {
   "cell_type": "code",
   "execution_count": 31,
   "id": "93b00db7",
   "metadata": {},
   "outputs": [
    {
     "name": "stdout",
     "output_type": "stream",
     "text": [
      "0\n",
      "1\n",
      "4\n",
      "9\n",
      "16\n",
      "25\n",
      "36\n",
      "49\n",
      "64\n",
      "81\n"
     ]
    }
   ],
   "source": [
    "# Vamos a recorrer el generador\n",
    "\n",
    "for i in generador:\n",
    "    print(i)"
   ]
  },
  {
   "cell_type": "code",
   "execution_count": 32,
   "id": "7b8d5d28",
   "metadata": {},
   "outputs": [
    {
     "name": "stdout",
     "output_type": "stream",
     "text": [
      "Ha terminado el bucle.\n"
     ]
    }
   ],
   "source": [
    "# Ya una vez ejecutado el bucle anterior, el generador se vacia\n",
    "# Por lo que si intentamos iterar sobre él, estaríamos iterando sobre un elemento vacio\n",
    "\n",
    "for i in generador:\n",
    "    print(i)\n",
    "    \n",
    "print(\"Ha terminado el bucle.\")"
   ]
  },
  {
   "cell_type": "markdown",
   "id": "640313c1",
   "metadata": {},
   "source": [
    "### Sets Comprehensions\n",
    "\n",
    "Otra forma de crear sets, utiliza la misma lógica que las **`lists comprehensions`**.\n",
    "\n",
    "- Por ser un set, utiliza las **`{ }`**.\n",
    "- No permite elementos repetidos y no está ordenado.\n",
    "- El resultado se puede asignar a una variable."
   ]
  },
  {
   "cell_type": "code",
   "execution_count": 37,
   "id": "3aa3ae2a",
   "metadata": {},
   "outputs": [
    {
     "data": {
      "text/plain": [
       "{1, 2, 3, 4, 5}"
      ]
     },
     "execution_count": 37,
     "metadata": {},
     "output_type": "execute_result"
    }
   ],
   "source": [
    "# Vamos a iterar sobre range(100)\n",
    "# Crea un set que muestre 100 números aleatorios entre el 1 y 5\n",
    "{randint(1, 5) for i in range(100)}\n",
    "# No va a mostrar más de 5 (a pesar de poner range 100) porque NO REPITE VALORES."
   ]
  },
  {
   "cell_type": "code",
   "execution_count": 35,
   "id": "2a2f96d8",
   "metadata": {},
   "outputs": [
    {
     "data": {
      "text/plain": [
       "{' ', 'a', 'd', 'h', 'l', 'm', 'n', 'o', 'u'}"
      ]
     },
     "execution_count": 35,
     "metadata": {},
     "output_type": "execute_result"
    }
   ],
   "source": [
    "string = \"HOla mundo\"\n",
    "\n",
    "\n",
    "{s.lower() for s in string}"
   ]
  },
  {
   "cell_type": "markdown",
   "id": "faa81ff1",
   "metadata": {},
   "source": [
    "### Dictionaries Comprehensions\n",
    "\n",
    "Como dice su nombre, es una forma de crear diccionarios usando un elemento iterable y el operador ternario.\n",
    "\n",
    "- Al igual que el punto anterior, comparte la misma sintaxis que los **`lists comprehensions`**.\n",
    "- La diferencia es que ahora usan **`{ }`** y **`:`** y necesita una llave y un valor por cada elemento.\n",
    "- El resultado se puede asignar a una variable."
   ]
  },
  {
   "cell_type": "code",
   "execution_count": 38,
   "id": "811022ed",
   "metadata": {},
   "outputs": [
    {
     "data": {
      "text/plain": [
       "{0: 0, 1: 1, 2: 4, 3: 9, 4: 16, 5: 25, 6: 36, 7: 49, 8: 64, 9: 81}"
      ]
     },
     "execution_count": 38,
     "metadata": {},
     "output_type": "execute_result"
    }
   ],
   "source": [
    "# Vamos a iterar sobre range(10)\n",
    "\n",
    "{i : i**2 for i in range(10)}\n",
    "\n",
    "# Como es un diccionario es obligatorio tener llave : valor"
   ]
  },
  {
   "cell_type": "code",
   "execution_count": 41,
   "id": "f8addcd1",
   "metadata": {
    "scrolled": true
   },
   "outputs": [
    {
     "data": {
      "text/plain": [
       "{0: 'C',\n",
       " 1: 'o',\n",
       " 2: 'm',\n",
       " 3: 'p',\n",
       " 4: 'r',\n",
       " 5: 'e',\n",
       " 6: 'h',\n",
       " 7: 'e',\n",
       " 8: 'n',\n",
       " 9: 's',\n",
       " 10: 'i',\n",
       " 11: 'o',\n",
       " 12: 'n',\n",
       " 13: 's'}"
      ]
     },
     "execution_count": 41,
     "metadata": {},
     "output_type": "execute_result"
    }
   ],
   "source": [
    "string = \"Comprehensions\"\n",
    "\n",
    "{num : s for num, s in enumerate(string)}"
   ]
  },
  {
   "cell_type": "code",
   "execution_count": 42,
   "id": "c2ba4344",
   "metadata": {},
   "outputs": [
    {
     "data": {
      "text/plain": [
       "{'C': 0,\n",
       " 'o': 11,\n",
       " 'm': 2,\n",
       " 'p': 3,\n",
       " 'r': 4,\n",
       " 'e': 7,\n",
       " 'h': 6,\n",
       " 'n': 12,\n",
       " 's': 13,\n",
       " 'i': 10}"
      ]
     },
     "execution_count": 42,
     "metadata": {},
     "output_type": "execute_result"
    }
   ],
   "source": [
    "string = \"Comprehensions\"\n",
    "\n",
    "{s : num for num, s in enumerate(string)}\n",
    "\n",
    "# Por ser un diccionario, no permite llaves repetidas, por lo que se queda con el último valor para cada llave"
   ]
  },
  {
   "cell_type": "code",
   "execution_count": 43,
   "id": "a582ffca",
   "metadata": {
    "scrolled": true
   },
   "outputs": [
    {
     "name": "stdout",
     "output_type": "stream",
     "text": [
      "['Daniel', 'Clara', 'Jesus', 'Antonio', 'Miguel', 'Ana']\n",
      "[22, 23, 28, 28, 24, 26]\n"
     ]
    }
   ],
   "source": [
    "nombres = [\"Daniel\", \"Clara\", \"Jesus\", \"Antonio\", \"Miguel\", \"Ana\"]\n",
    "edades = [randint(20, 30) for i in nombres] \n",
    "\n",
    "print(nombres)\n",
    "print(edades)"
   ]
  },
  {
   "cell_type": "code",
   "execution_count": 45,
   "id": "ce01551a",
   "metadata": {},
   "outputs": [
    {
     "data": {
      "text/plain": [
       "{'Daniel': 22,\n",
       " 'Clara': 23,\n",
       " 'Jesus': 28,\n",
       " 'Antonio': 28,\n",
       " 'Miguel': 24,\n",
       " 'Ana': 26}"
      ]
     },
     "execution_count": 45,
     "metadata": {},
     "output_type": "execute_result"
    }
   ],
   "source": [
    "# Con estas 2 listas vamos a crear un diccionario\n",
    "\n",
    "{nombre : edad for nombre, edad in zip(nombres, edades)}"
   ]
  },
  {
   "cell_type": "markdown",
   "id": "1f88cd39",
   "metadata": {},
   "source": [
    "### Any & All\n",
    "\n",
    "**`any`** y **`all`** son funciones especiales (y palabras reservadas) que recorren una lista comparando **`True`** y **`False`**.\n",
    "\n",
    "- La función **`any`** toma una secuencia de valores booleanos y devuelve **`True`** si **ALGUNO** de los valores de la secuencia es **`True`** de lo contrario devuelve **`False`**.\n",
    "\n",
    "\n",
    "\n",
    "- La función **`all`** toma una secuencia de valores booleanos y devuelve **`True`** si **TODOS** los valores de la secuencia son **`True`**, de los contrario devuelve **`False`**."
   ]
  },
  {
   "cell_type": "code",
   "execution_count": 55,
   "id": "22a9feec",
   "metadata": {},
   "outputs": [
    {
     "data": {
      "text/plain": [
       "[True, False, False]"
      ]
     },
     "execution_count": 55,
     "metadata": {},
     "output_type": "execute_result"
    }
   ],
   "source": [
    "lista_1 = [True, False, False]\n",
    "\n",
    "lista_1"
   ]
  },
  {
   "cell_type": "code",
   "execution_count": 53,
   "id": "086d3860",
   "metadata": {},
   "outputs": [
    {
     "data": {
      "text/plain": [
       "True"
      ]
     },
     "execution_count": 53,
     "metadata": {},
     "output_type": "execute_result"
    }
   ],
   "source": [
    "any(lista_1) # existe al menos un valor True en Lista_1"
   ]
  },
  {
   "cell_type": "code",
   "execution_count": 54,
   "id": "91a91765",
   "metadata": {},
   "outputs": [
    {
     "data": {
      "text/plain": [
       "False"
      ]
     },
     "execution_count": 54,
     "metadata": {},
     "output_type": "execute_result"
    }
   ],
   "source": [
    "all(lista_1) # No todos los valores de la lista_1 son True"
   ]
  },
  {
   "cell_type": "code",
   "execution_count": 49,
   "id": "f15da825",
   "metadata": {},
   "outputs": [
    {
     "data": {
      "text/plain": [
       "[True, True, True]"
      ]
     },
     "execution_count": 49,
     "metadata": {},
     "output_type": "execute_result"
    }
   ],
   "source": [
    "lista_2 = [True, True, True]\n",
    "\n",
    "lista_2"
   ]
  },
  {
   "cell_type": "code",
   "execution_count": 50,
   "id": "5059e708",
   "metadata": {},
   "outputs": [
    {
     "data": {
      "text/plain": [
       "True"
      ]
     },
     "execution_count": 50,
     "metadata": {},
     "output_type": "execute_result"
    }
   ],
   "source": [
    "any(lista_2)"
   ]
  },
  {
   "cell_type": "code",
   "execution_count": 51,
   "id": "be5147f1",
   "metadata": {},
   "outputs": [
    {
     "data": {
      "text/plain": [
       "True"
      ]
     },
     "execution_count": 51,
     "metadata": {},
     "output_type": "execute_result"
    }
   ],
   "source": [
    "all(lista_2)"
   ]
  },
  {
   "cell_type": "code",
   "execution_count": null,
   "id": "16e6ad04",
   "metadata": {},
   "outputs": [],
   "source": [
    "################################################################################################################################"
   ]
  }
 ],
 "metadata": {
  "kernelspec": {
   "display_name": "Python 3 (ipykernel)",
   "language": "python",
   "name": "python3"
  },
  "language_info": {
   "codemirror_mode": {
    "name": "ipython",
    "version": 3
   },
   "file_extension": ".py",
   "mimetype": "text/x-python",
   "name": "python",
   "nbconvert_exporter": "python",
   "pygments_lexer": "ipython3",
   "version": "3.12.7"
  }
 },
 "nbformat": 4,
 "nbformat_minor": 5
}
