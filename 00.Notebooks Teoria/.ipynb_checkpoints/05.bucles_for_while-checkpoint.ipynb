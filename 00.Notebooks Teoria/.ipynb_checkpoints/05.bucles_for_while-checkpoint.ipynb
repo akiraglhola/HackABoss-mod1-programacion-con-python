{
 "cells": [
  {
   "cell_type": "markdown",
   "id": "66258df1",
   "metadata": {},
   "source": [
    "## Bucles\n",
    "\n",
    "### for\n",
    "\n",
    "Los bucles _**for**_ son utilizados cuando se quiere **repetir un bloque de código un número determinado de veces** por lo que en algún momento el bucle se detiene.\n",
    "\n",
    "En python, podemos usar los bucles _**for**_ para recorrer cualquier objeto iterable (tuplas, listas, diccionarios, strings, ...) y para hacerlo \"creamos\" una variable para el bucle.\n",
    "\n",
    "Existe la función _**range()**_ que crea objetos iterables que podemos usar en el bucle.\n",
    "\n",
    "**Dentro del bucle podemos escribir cualquier tipo de codigo que queramos.**"
   ]
  },
  {
   "cell_type": "markdown",
   "id": "2f765290-b37e-4258-a715-6f3a023da28d",
   "metadata": {},
   "source": [
    "**`range()`**\n",
    "Es una función que genera un rango de valores, según:\n",
    "* Si se coloca directamente un valor `range(10)` asume que recorrá los valores del 0 al 9 (10-1)\n",
    "* Si no se quiere iniciar el rango con 0, entonces se colocará como primer **parámetro** el valor de inicio, y como segundo parámetro el valor de fin+1. `range(inicio, fin+1)`\n",
    "* Por defecto, el salto entre valores en `range` es de 1 (unidad). Si se quisiera establecer un salto entre valores diferente, se coloca como un tercer parámetro. Por ejemplo, los valores que van del 2 al 20, saltando en 3 `range(2, 21, 3)`"
   ]
  },
  {
   "cell_type": "code",
   "execution_count": 5,
   "id": "66262aa2",
   "metadata": {},
   "outputs": [
    {
     "name": "stdout",
     "output_type": "stream",
     "text": [
      "0\n",
      "1\n",
      "2\n",
      "3\n",
      "4\n",
      "5\n",
      "6\n",
      "7\n",
      "8\n",
      "9\n"
     ]
    }
   ],
   "source": [
    "# Definimos un bucle \"for\" que lo que hace es:\n",
    "# para cada valor i que se encuentra en el rango de 0 a 9 (10-1)\n",
    "# se mostrará los valores de \"i\"\n",
    "for i in range(10):\n",
    "    print(i)"
   ]
  },
  {
   "cell_type": "code",
   "execution_count": 6,
   "id": "91747f20",
   "metadata": {},
   "outputs": [
    {
     "name": "stdout",
     "output_type": "stream",
     "text": [
      "5\n",
      "6\n",
      "7\n",
      "8\n",
      "9\n",
      "10\n",
      "11\n",
      "12\n",
      "13\n",
      "14\n"
     ]
    }
   ],
   "source": [
    "# Devolverá para i los valores del rango 5 al 14.\n",
    "for i in range(5, 15):\n",
    "    print(i)"
   ]
  },
  {
   "cell_type": "code",
   "execution_count": 7,
   "id": "726bdad2",
   "metadata": {},
   "outputs": [
    {
     "name": "stdout",
     "output_type": "stream",
     "text": [
      "5\n",
      "7\n",
      "9\n",
      "11\n",
      "13\n"
     ]
    }
   ],
   "source": [
    "for i in range(5, 15, 2):\n",
    "    print(i)"
   ]
  },
  {
   "cell_type": "markdown",
   "id": "c909c1fb-5c9e-4f11-bed3-cf41b06c3dfc",
   "metadata": {},
   "source": [
    "**Ejercicio Express:**\n",
    "\n",
    "Generar un bucle `for` que muestre los valores impares contenidos entre 0 y 20."
   ]
  },
  {
   "cell_type": "code",
   "execution_count": 8,
   "id": "e7dfb544-7c0c-418a-a370-81fc0d77d68f",
   "metadata": {},
   "outputs": [
    {
     "name": "stdout",
     "output_type": "stream",
     "text": [
      "1\n",
      "3\n",
      "5\n",
      "7\n",
      "9\n",
      "11\n",
      "13\n",
      "15\n",
      "17\n",
      "19\n"
     ]
    }
   ],
   "source": [
    "for i in range(1,20,2):\n",
    "    print(i)"
   ]
  },
  {
   "cell_type": "code",
   "execution_count": 11,
   "id": "ccacca34-e23f-4027-bf70-e86ad247a0ba",
   "metadata": {},
   "outputs": [
    {
     "name": "stdout",
     "output_type": "stream",
     "text": [
      "1\n",
      "3\n",
      "5\n",
      "7\n",
      "9\n",
      "11\n",
      "13\n",
      "15\n",
      "17\n",
      "19\n"
     ]
    }
   ],
   "source": [
    "for i in range(0,10):\n",
    "    print(2*i + 1) #fórmula del número impar."
   ]
  },
  {
   "cell_type": "code",
   "execution_count": 13,
   "id": "e64dbcac",
   "metadata": {},
   "outputs": [
    {
     "name": "stdout",
     "output_type": "stream",
     "text": [
      "1\n",
      "10\n",
      "100\n",
      "1000\n",
      "10000\n",
      "100000\n"
     ]
    }
   ],
   "source": [
    "lista = [1, 10, 100, 1000, 10000, 100000]\n",
    "\n",
    "# Se puede iterar con el bucle for sobre los elementos de una lista\n",
    "for numero in lista:\n",
    "    print(numero)"
   ]
  },
  {
   "cell_type": "code",
   "execution_count": 14,
   "id": "793ce0d0",
   "metadata": {},
   "outputs": [
    {
     "name": "stdout",
     "output_type": "stream",
     "text": [
      "H\n",
      "o\n",
      "l\n",
      "a\n",
      " \n",
      "M\n",
      "u\n",
      "n\n",
      "d\n",
      "o\n"
     ]
    }
   ],
   "source": [
    "string = \"Hola Mundo\"\n",
    "\n",
    "# Los string terminando siendo colecciones de caracteres\n",
    "# Entonces, al interar sobre un string, pasaremos por cada uno de sus caracteres\n",
    "for i in string:\n",
    "    print(i)"
   ]
  },
  {
   "cell_type": "code",
   "execution_count": 15,
   "id": "734e2ed1",
   "metadata": {
    "scrolled": true
   },
   "outputs": [
    {
     "name": "stdout",
     "output_type": "stream",
     "text": [
      "El numero 0 es par.\n",
      "El numero 1 es impar.\n",
      "El numero 2 es par.\n",
      "El numero 3 es impar.\n",
      "El numero 4 es par.\n",
      "El numero 5 es impar.\n",
      "El numero 6 es par.\n",
      "El numero 7 es impar.\n",
      "El numero 8 es par.\n",
      "El numero 9 es impar.\n",
      "El numero 10 es par.\n",
      "El numero 11 es impar.\n",
      "El numero 12 es par.\n",
      "El numero 13 es impar.\n",
      "El numero 14 es par.\n",
      "El numero 15 es impar.\n",
      "El numero 16 es par.\n",
      "El numero 17 es impar.\n",
      "El numero 18 es par.\n",
      "El numero 19 es impar.\n",
      "El numero 20 es par.\n",
      "El numero 21 es impar.\n",
      "El numero 22 es par.\n",
      "El numero 23 es impar.\n",
      "El numero 24 es par.\n",
      "El numero 25 es impar.\n",
      "El numero 26 es par.\n",
      "El numero 27 es impar.\n",
      "El numero 28 es par.\n",
      "El numero 29 es impar.\n"
     ]
    }
   ],
   "source": [
    "# Bucle for combinado con la condicional\n",
    "# El bucle evalua los valores del 0 al 29 (30-1)\n",
    "# y dependiendo si es par o impar muestra un mensaje.\n",
    "\n",
    "for i in range(30):\n",
    "    \n",
    "    if i % 2 == 0:\n",
    "        print(\"El numero\", i, \"es par.\")\n",
    "        \n",
    "    else:\n",
    "        print(\"El numero\", i, \"es impar.\")"
   ]
  },
  {
   "cell_type": "code",
   "execution_count": 16,
   "id": "3346e08a",
   "metadata": {
    "scrolled": true
   },
   "outputs": [
    {
     "name": "stdout",
     "output_type": "stream",
     "text": [
      "Consonante. H\n",
      "Vocal. o\n",
      "Consonante. l\n",
      "Vocal. a\n",
      "Consonante.  \n",
      "Consonante. m\n",
      "Vocal. u\n",
      "Consonante. n\n",
      "Consonante. d\n",
      "Vocal. o\n"
     ]
    }
   ],
   "source": [
    "string = \"Hola mundo\"\n",
    "\n",
    "# Tenemos un iterador llamado \"letra\" que recorrá todos los caracteres del elemento \"string\"\n",
    "# y luego se evaluará si esa letra es una vocal o una consonante.\n",
    "\n",
    "for letra in string:\n",
    "    \n",
    "    if letra == \"a\" or letra == \"e\" or letra == \"i\" or letra == \"o\" or letra == \"u\":\n",
    "        print(\"Vocal.\", letra)\n",
    "    \n",
    "    else:\n",
    "        print(\"Consonante.\", letra)"
   ]
  },
  {
   "cell_type": "markdown",
   "id": "9b702d18-ea3c-48a3-bab0-468eea0cdfa1",
   "metadata": {},
   "source": [
    "**Reto:**\n",
    "\n",
    "Mejorar el bucle anterior considerando:\n",
    "1. Que no aparezca el resultado para el espacio en blanco.\n",
    "2. Que las letras que se muestren en el print esten en minúsculas (H)"
   ]
  },
  {
   "cell_type": "code",
   "execution_count": 18,
   "id": "37303dd4-b569-4f95-8201-dbe5e5dd6b52",
   "metadata": {},
   "outputs": [
    {
     "name": "stdout",
     "output_type": "stream",
     "text": [
      "Consonante. h\n",
      "Vocal. o\n",
      "Consonante. l\n",
      "Vocal. a\n",
      "Espacio\n",
      "Consonante. m\n",
      "Vocal. u\n",
      "Consonante. n\n",
      "Consonante. d\n",
      "Vocal. o\n"
     ]
    }
   ],
   "source": [
    "string = \"Hola mundo\"\n",
    "for letra in string:\n",
    "    letra = letra.lower()\n",
    "    if letra == \"a\" or letra == \"e\" or letra == \"i\" or letra == \"o\" or letra == \"u\":\n",
    "        print(\"Vocal.\", letra)\n",
    "    elif letra == \" \":\n",
    "        print(\"Espacio\")\n",
    "    else:\n",
    "        print(\"Consonante.\", letra)"
   ]
  },
  {
   "cell_type": "code",
   "execution_count": 19,
   "id": "407f7761-d2ef-4384-a031-7cb39fcb1b14",
   "metadata": {},
   "outputs": [
    {
     "name": "stdout",
     "output_type": "stream",
     "text": [
      "Consonante. h\n",
      "Vocal. o\n",
      "Consonante. l\n",
      "Vocal. a\n",
      "Consonante. m\n",
      "Vocal. u\n",
      "Consonante. n\n",
      "Consonante. d\n",
      "Vocal. o\n"
     ]
    }
   ],
   "source": [
    "string = \"Hola mundo\"\n",
    "string = string.lower()\n",
    "for letra in string:\n",
    "    if letra != ' ': \n",
    "        if letra == \"a\" or letra == \"e\" or letra == \"i\" or letra == \"o\" or letra == \"u\":\n",
    "            print(\"Vocal.\", letra)\n",
    "    \n",
    "        else:\n",
    "            print(\"Consonante.\", letra)"
   ]
  },
  {
   "cell_type": "markdown",
   "id": "054f8cdd",
   "metadata": {},
   "source": [
    "**Esta forma de recorrer bucles _for_ sobre objetos iterables tiene una sintaxis única, es decir, solo se puede hacer en python.**\n",
    "\n",
    "**Si quisieramos recorrer un bucle como lo hacen en otros lenguajes podemos hacer uso de los indices de los elementos usando las funciones _range()_ y _len()_.**"
   ]
  },
  {
   "cell_type": "code",
   "execution_count": 23,
   "id": "9bd5fa90-e9d6-405b-8175-2760fd410590",
   "metadata": {},
   "outputs": [
    {
     "data": {
      "text/plain": [
       "10"
      ]
     },
     "execution_count": 23,
     "metadata": {},
     "output_type": "execute_result"
    }
   ],
   "source": [
    "len(string)"
   ]
  },
  {
   "cell_type": "code",
   "execution_count": 25,
   "id": "fabfb026-8b27-461d-b543-27ce058c2a64",
   "metadata": {},
   "outputs": [
    {
     "data": {
      "text/plain": [
       "'u'"
      ]
     },
     "execution_count": 25,
     "metadata": {},
     "output_type": "execute_result"
    }
   ],
   "source": [
    "string[6]"
   ]
  },
  {
   "cell_type": "code",
   "execution_count": 22,
   "id": "dbaa68e0",
   "metadata": {},
   "outputs": [
    {
     "name": "stdout",
     "output_type": "stream",
     "text": [
      "H\n",
      "o\n",
      "l\n",
      "a\n",
      " \n",
      "M\n",
      "u\n",
      "n\n",
      "d\n",
      "o\n"
     ]
    }
   ],
   "source": [
    "string = \"Hola Mundo\"\n",
    "\n",
    "for i in range(len(string)):\n",
    "    print(string[i])"
   ]
  },
  {
   "cell_type": "code",
   "execution_count": 26,
   "id": "1f81a698",
   "metadata": {},
   "outputs": [
    {
     "name": "stdout",
     "output_type": "stream",
     "text": [
      "1\n",
      "10\n",
      "100\n",
      "1000\n",
      "10000\n",
      "100000\n"
     ]
    }
   ],
   "source": [
    "lista = [1, 10, 100, 1000, 10000, 100000]\n",
    "\n",
    "for i in range(len(lista)):\n",
    "    print(lista[i])"
   ]
  },
  {
   "cell_type": "markdown",
   "id": "6e94fbe3",
   "metadata": {},
   "source": [
    "### for y lists\n",
    "\n",
    "Los bucles _**for**_ se usan en conjunto con las listas para agregar o quitar elementos."
   ]
  },
  {
   "cell_type": "code",
   "execution_count": 27,
   "id": "ebb632a2",
   "metadata": {},
   "outputs": [
    {
     "data": {
      "text/plain": [
       "[0, 1, 2, 3, 4, 5, 6, 7, 8, 9]"
      ]
     },
     "execution_count": 27,
     "metadata": {},
     "output_type": "execute_result"
    }
   ],
   "source": [
    "lista = []  # Lista vacia\n",
    "\n",
    "for i in range(10):\n",
    "    lista.append(i)\n",
    "    \n",
    "lista"
   ]
  },
  {
   "cell_type": "code",
   "execution_count": 28,
   "id": "3cd3987a",
   "metadata": {},
   "outputs": [
    {
     "name": "stdout",
     "output_type": "stream",
     "text": [
      "['H', 'o', 'l', 'a', ' ', 'M', 'u', 'n', 'd', 'o', '!', '!', '!', '!', '!', '!']\n"
     ]
    }
   ],
   "source": [
    "lista = []\n",
    "\n",
    "string = \"Hola Mundo!!!!!!\"\n",
    "\n",
    "for letra in string:\n",
    "    lista.append(letra)\n",
    "    \n",
    "    \n",
    "print(lista)"
   ]
  },
  {
   "cell_type": "code",
   "execution_count": 29,
   "id": "c9d93429",
   "metadata": {},
   "outputs": [
    {
     "name": "stdout",
     "output_type": "stream",
     "text": [
      "['H', 'O', 'L', 'A', ' ', 'M', 'U', 'N', 'D', 'O', '!', '!', '!', '!', '!', '!']\n"
     ]
    }
   ],
   "source": [
    "lista = []\n",
    "\n",
    "string = \"Hola Mundo!!!!!!\"\n",
    "\n",
    "for letra in string:\n",
    "    lista.append(letra.upper()) #devuelve los caracteres en mayúsculas\n",
    "    \n",
    "    \n",
    "print(lista)"
   ]
  },
  {
   "cell_type": "code",
   "execution_count": 30,
   "id": "8cd47172",
   "metadata": {},
   "outputs": [
    {
     "data": {
      "text/plain": [
       "['c',\n",
       " 'd',\n",
       " 'e',\n",
       " 'n',\n",
       " ' ',\n",
       " 'c',\n",
       " 'o',\n",
       " 'n',\n",
       " ' ',\n",
       " 'v',\n",
       " 'r',\n",
       " 'i',\n",
       " 's',\n",
       " ' ',\n",
       " 'l',\n",
       " 'e',\n",
       " 't',\n",
       " 'r',\n",
       " 's',\n",
       " ' ']"
      ]
     },
     "execution_count": 30,
     "metadata": {},
     "output_type": "execute_result"
    }
   ],
   "source": [
    "# También podemos usar condicionales\n",
    "\n",
    "lista = []\n",
    "\n",
    "string = \"cadena con varias letras a\"\n",
    "\n",
    "# Añadiremos a una lista en blanco todos los caracteres diferentes de \"a\"\n",
    "# del elemento string.\n",
    "for letra in string:\n",
    "    if letra != \"a\":\n",
    "        lista.append(letra)\n",
    "        \n",
    "lista"
   ]
  },
  {
   "cell_type": "markdown",
   "id": "43483695",
   "metadata": {},
   "source": [
    "### while\n",
    "\n",
    "Los bucles _**while**_ son bucles que se ejecutan siempre que se cumpla una condición, si la condición dejase de cumplirse el bucle se detendría.\n",
    "\n",
    "La principal diferencia con el bucle _**for**_ es que el bucle _**while**_ necesita una condición para poder ejecutarse y no se detendrá hasta que la condición sea **False**, es decir, puede ejecutarse un número variable de veces o incluso nunca detenerse."
   ]
  },
  {
   "cell_type": "code",
   "execution_count": null,
   "id": "4320dfb3",
   "metadata": {},
   "outputs": [],
   "source": [
    "i = 0\n",
    "\n",
    "while i < 5:\n",
    "    print(\"El valor de i es:\", i)\n",
    "    print(\"Es menor a 5.\")\n",
    "    print(\"***\"*10)\n",
    "    \n",
    "    i += 1"
   ]
  },
  {
   "cell_type": "code",
   "execution_count": null,
   "id": "178d523d",
   "metadata": {},
   "outputs": [],
   "source": [
    "# No ejecutar\n",
    "\n",
    "i = 0\n",
    "\n",
    "while i < 5:\n",
    "    print(\"El valor de i es:\", i)\n",
    "    print(\"Es menor a 5.\")\n",
    "    print(\"***\"*10)"
   ]
  },
  {
   "cell_type": "code",
   "execution_count": null,
   "id": "de288bed",
   "metadata": {},
   "outputs": [],
   "source": [
    "i = 0\n",
    "nombre = \"Daniel\"\n",
    "\n",
    "while (i < 10) and (nombre == \"Daniel\"):\n",
    "    \n",
    "    if i % 2 == 0:\n",
    "        print(\"i es par\", i)\n",
    "        \n",
    "        nombre = input(\"Ingrese un nombre: \")\n",
    "    \n",
    "    i += 1"
   ]
  },
  {
   "cell_type": "markdown",
   "id": "63c52966",
   "metadata": {},
   "source": [
    "### break\n",
    "\n",
    "La palabra reservada _**break**_ detiene un bucle y continua con el código que va después del bucle."
   ]
  },
  {
   "cell_type": "code",
   "execution_count": null,
   "id": "712bcbfa",
   "metadata": {},
   "outputs": [],
   "source": [
    "for i in range(100000000):\n",
    "    print(i)\n",
    "    if i == 10:\n",
    "        break"
   ]
  },
  {
   "cell_type": "code",
   "execution_count": null,
   "id": "1e46fe63",
   "metadata": {},
   "outputs": [],
   "source": [
    "i = 0\n",
    "\n",
    "while i < 10000000000:\n",
    "    \n",
    "    i += 1\n",
    "    print(i)\n",
    "    \n",
    "    if i == 10:\n",
    "        break"
   ]
  },
  {
   "cell_type": "markdown",
   "id": "1d857128",
   "metadata": {},
   "source": [
    "### Bucles anidados\n",
    "\n",
    "Como muchas cosas en Python, se pueden anidar bucles. Dependiendo del bucle, esto puede alargar el tiempo de ejecución."
   ]
  },
  {
   "cell_type": "code",
   "execution_count": null,
   "id": "896f3dae",
   "metadata": {},
   "outputs": [],
   "source": [
    "for i in range(5):\n",
    "    \n",
    "    for j in range(5):\n",
    "        \n",
    "        print(i, j)"
   ]
  },
  {
   "cell_type": "code",
   "execution_count": null,
   "id": "56b8989b",
   "metadata": {},
   "outputs": [],
   "source": [
    "string_1 = \"hola\"\n",
    "string_2 = \"mundo\"\n",
    "\n",
    "for i in string_1:\n",
    "    \n",
    "    for j in string_2:\n",
    "        \n",
    "        print(i, j)"
   ]
  },
  {
   "cell_type": "markdown",
   "id": "da4d983f",
   "metadata": {},
   "source": [
    "### zip y enumerate\n",
    "\n",
    "- _**zip**_: Esta función toma como argumento objetos iterables para recorrerlos al mismo tiempo en un bucle."
   ]
  },
  {
   "cell_type": "code",
   "execution_count": null,
   "id": "91c0739e",
   "metadata": {},
   "outputs": [],
   "source": [
    "lista_1 = [\"a\", \"b\", \"c\", \"d\", \"e\"]\n",
    "lista_2 = [1, 2, 3, 4, 5]\n",
    "\n",
    "for i, j in zip(lista_1, lista_2):\n",
    "    print(i, j)"
   ]
  },
  {
   "cell_type": "markdown",
   "id": "3608202c",
   "metadata": {},
   "source": [
    "**Si alguna de las dos listas es mas grande que otra, el bucle con zip se detendrá cuando la lista mas corta termine.**"
   ]
  },
  {
   "cell_type": "code",
   "execution_count": null,
   "id": "53135e57",
   "metadata": {},
   "outputs": [],
   "source": [
    "lista_1 = [\"a\", \"b\", \"c\", \"d\", \"e\"]\n",
    "lista_2 = [1, 2, 3, 4, 5, 6, 7, 8, 9, 10, 11, 12, 13, 14, 15]\n",
    "\n",
    "for i, j in zip(lista_1, lista_2):\n",
    "    print(i, j)"
   ]
  },
  {
   "cell_type": "markdown",
   "id": "44ebcc4c",
   "metadata": {},
   "source": [
    "- _**enumerate**_: Esta función \"crea\" un índice utilizando un objeto iterable, se usa en conjunto con los bucles para tener un tipo de \"contador\"."
   ]
  },
  {
   "cell_type": "code",
   "execution_count": null,
   "id": "3c8c7f70",
   "metadata": {},
   "outputs": [],
   "source": [
    "lista = [\"a\", \"b\", \"c\", \"d\", \"e\"]\n",
    "\n",
    "for enum, letra in enumerate(lista):\n",
    "    print(enum, letra)"
   ]
  },
  {
   "cell_type": "markdown",
   "id": "530d1aa9",
   "metadata": {},
   "source": [
    "**Si quisieramos, podriamos comenzar el contador en otro número**"
   ]
  },
  {
   "cell_type": "code",
   "execution_count": null,
   "id": "09afdeb2",
   "metadata": {},
   "outputs": [],
   "source": [
    "lista = [\"a\", \"b\", \"c\", \"d\", \"e\"]\n",
    "\n",
    "for enum, letra in enumerate(lista, start = 100):\n",
    "    print(enum, letra)"
   ]
  },
  {
   "cell_type": "code",
   "execution_count": null,
   "id": "b698cbd7",
   "metadata": {},
   "outputs": [],
   "source": [
    "##############################################################################################################################"
   ]
  }
 ],
 "metadata": {
  "kernelspec": {
   "display_name": "Python 3 (ipykernel)",
   "language": "python",
   "name": "python3"
  },
  "language_info": {
   "codemirror_mode": {
    "name": "ipython",
    "version": 3
   },
   "file_extension": ".py",
   "mimetype": "text/x-python",
   "name": "python",
   "nbconvert_exporter": "python",
   "pygments_lexer": "ipython3",
   "version": "3.12.7"
  }
 },
 "nbformat": 4,
 "nbformat_minor": 5
}
