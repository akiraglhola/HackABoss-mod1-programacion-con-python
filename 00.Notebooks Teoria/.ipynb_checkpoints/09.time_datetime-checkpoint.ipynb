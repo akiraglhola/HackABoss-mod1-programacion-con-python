{
 "cells": [
  {
   "cell_type": "markdown",
   "id": "5793e42e",
   "metadata": {},
   "source": [
    "## time\n",
    "\n",
    "Esta libreria proporciona varias funciones relacionadas con el tiempo."
   ]
  },
  {
   "cell_type": "code",
   "execution_count": 1,
   "id": "de62ebed",
   "metadata": {},
   "outputs": [],
   "source": [
    "import time"
   ]
  },
  {
   "cell_type": "code",
   "execution_count": 2,
   "id": "6e89ae05",
   "metadata": {},
   "outputs": [
    {
     "data": {
      "text/plain": [
       "1738084601.614629"
      ]
     },
     "execution_count": 2,
     "metadata": {},
     "output_type": "execute_result"
    }
   ],
   "source": [
    "# Regresa el número de segundos pasados, utilizando el formato Time Unix\n",
    "# Formato Time Unix: el número de segundos que han pasado desde el 1 de Enero de 1970\n",
    "\n",
    "time.time()"
   ]
  },
  {
   "cell_type": "code",
   "execution_count": 3,
   "id": "56625f79",
   "metadata": {},
   "outputs": [
    {
     "data": {
      "text/plain": [
       "1738084725.9927137"
      ]
     },
     "execution_count": 3,
     "metadata": {},
     "output_type": "execute_result"
    }
   ],
   "source": [
    "# Toma como parametro de entrada una fecha en formato Time Unix\n",
    "\n",
    "hoy = time.time()\n",
    "hoy"
   ]
  },
  {
   "cell_type": "code",
   "execution_count": 4,
   "id": "21afe8cb-4994-4733-b54e-eed98ab39b95",
   "metadata": {},
   "outputs": [
    {
     "data": {
      "text/plain": [
       "'Tue Jan 28 18:18:45 2025'"
      ]
     },
     "execution_count": 4,
     "metadata": {},
     "output_type": "execute_result"
    }
   ],
   "source": [
    "# Retorna un string representando esa fecha\n",
    "time.ctime(hoy)"
   ]
  },
  {
   "cell_type": "code",
   "execution_count": 5,
   "id": "448071c2-23d0-4823-bf47-f38246139231",
   "metadata": {},
   "outputs": [
    {
     "data": {
      "text/plain": [
       "str"
      ]
     },
     "execution_count": 5,
     "metadata": {},
     "output_type": "execute_result"
    }
   ],
   "source": [
    "# Comprobamos que el resultado es un dato de tipo string.\n",
    "type(time.ctime(hoy))"
   ]
  },
  {
   "cell_type": "code",
   "execution_count": 9,
   "id": "79806962",
   "metadata": {},
   "outputs": [
    {
     "name": "stdout",
     "output_type": "stream",
     "text": [
      "Hola mundo!\n"
     ]
    }
   ],
   "source": [
    "# Función sleep\n",
    "# Toma como argumento un número entero\n",
    "# Esta función detiene la ejecución por X segundos (X un número entero o decimal)\n",
    "\n",
    "time.sleep(5)\n",
    "\n",
    "# Detiene la celda 5 segundo\n",
    "\n",
    "print(\"Hola mundo!\")"
   ]
  },
  {
   "cell_type": "markdown",
   "id": "ea507a8f",
   "metadata": {},
   "source": [
    "## datetime\n",
    "Este módulo contiene funciones para hacer análisis, formateo y aritmética con fechas y hora.\n",
    "\n",
    "**Propiedades de los objetos datetime:**\n",
    "- Los objetos son inmutables.\n",
    "- Los objetos pueden ser utilizados como llave en un diccionario. \n",
    "- Son eficientes para ser almacenados utilizando el módulo pickle. \n",
    "- Los objetos de tipo **date** y **datetime** pueden almacenar un año mínimo de 1 y máximo de 9999."
   ]
  },
  {
   "cell_type": "code",
   "execution_count": 10,
   "id": "7918ba30",
   "metadata": {},
   "outputs": [],
   "source": [
    "import datetime"
   ]
  },
  {
   "cell_type": "code",
   "execution_count": 11,
   "id": "02108d27",
   "metadata": {},
   "outputs": [
    {
     "data": {
      "text/plain": [
       "datetime.datetime(2025, 1, 28, 18, 27, 45, 356915)"
      ]
     },
     "execution_count": 11,
     "metadata": {},
     "output_type": "execute_result"
    }
   ],
   "source": [
    "# Con datetime.datetime.now() sacamos la hora y fecha de este momento\n",
    "# Si nos fijamos, se crea un objeto datetime.datetime()\n",
    "\n",
    "datetime.datetime.now()"
   ]
  },
  {
   "cell_type": "code",
   "execution_count": 12,
   "id": "4eb65cf6",
   "metadata": {},
   "outputs": [
    {
     "name": "stdout",
     "output_type": "stream",
     "text": [
      "2025-01-28 18:29:00.091819\n"
     ]
    }
   ],
   "source": [
    "# Usando print() se cambia el formato de vista\n",
    "# Al aplicar \"print\" sobre un objeto datetime.datetime,\n",
    "# Este se muestra en el formato AAAA-MM-DD HH:mm:SS.ms\n",
    "print(datetime.datetime.now())"
   ]
  },
  {
   "cell_type": "code",
   "execution_count": 13,
   "id": "608e729d",
   "metadata": {},
   "outputs": [
    {
     "data": {
      "text/plain": [
       "datetime.datetime(2025, 1, 28, 18, 30, 55, 948154)"
      ]
     },
     "execution_count": 13,
     "metadata": {},
     "output_type": "execute_result"
    }
   ],
   "source": [
    "# Creamos una variable que contenga el objeto datetime de la fecha actual (now)\n",
    "datetime_object = datetime.datetime.now()\n",
    "datetime_object"
   ]
  },
  {
   "cell_type": "code",
   "execution_count": 14,
   "id": "ad5a646a-34a6-4b3e-9827-771f7ca582be",
   "metadata": {},
   "outputs": [
    {
     "data": {
      "text/plain": [
       "datetime.datetime"
      ]
     },
     "execution_count": 14,
     "metadata": {},
     "output_type": "execute_result"
    }
   ],
   "source": [
    "#Validar tipo de dato de la variable datetime_object\n",
    "type(datetime_object)"
   ]
  },
  {
   "cell_type": "code",
   "execution_count": 17,
   "id": "2331b825-910e-4b4b-81fb-4a3e2296b428",
   "metadata": {},
   "outputs": [
    {
     "data": {
      "text/plain": [
       "1"
      ]
     },
     "execution_count": 17,
     "metadata": {},
     "output_type": "execute_result"
    }
   ],
   "source": [
    "# El tipo datetime.datetime contiene muchos elementos a los cuales podemos consultar\n",
    "# estos elementos son las partes de la fecha.\n",
    "\n",
    "# Para acceder al mes de un objeto datetime.datetime utilizamos:\n",
    "datetime_object.month"
   ]
  },
  {
   "cell_type": "code",
   "execution_count": 18,
   "id": "e2739bf1",
   "metadata": {},
   "outputs": [
    {
     "name": "stdout",
     "output_type": "stream",
     "text": [
      "Año: 2025\n",
      "Mes: 1\n",
      "Dia: 28\n",
      "Hora: 18\n",
      "Minuto: 30\n",
      "Segundos: 55\n",
      "Microsegundos: 948154\n"
     ]
    }
   ],
   "source": [
    "# Mostrando todos los valores del objeto datetime_object\n",
    "print(\"Año:\", datetime_object.year)\n",
    "\n",
    "print(\"Mes:\", datetime_object.month)\n",
    "\n",
    "print(\"Dia:\", datetime_object.day)\n",
    "\n",
    "print(\"Hora:\", datetime_object.hour)\n",
    "\n",
    "print(\"Minuto:\", datetime_object.minute)\n",
    "\n",
    "print(\"Segundos:\", datetime_object.second)\n",
    "\n",
    "print(\"Microsegundos:\", datetime_object.microsecond)"
   ]
  },
  {
   "cell_type": "markdown",
   "id": "e98ecf25",
   "metadata": {},
   "source": [
    "### De objeto datetime a string\n",
    "\n",
    "Usando el método **.strftime()** podemos aplicar el formato que queramos a las fechas."
   ]
  },
  {
   "cell_type": "code",
   "execution_count": 19,
   "id": "492fb070",
   "metadata": {},
   "outputs": [
    {
     "name": "stdout",
     "output_type": "stream",
     "text": [
      "2025-01-28 18:44:49.423539\n"
     ]
    }
   ],
   "source": [
    "# string from time\n",
    "\n",
    "from datetime import datetime\n",
    "\n",
    "now = datetime.now()\n",
    "\n",
    "print(now)"
   ]
  },
  {
   "cell_type": "code",
   "execution_count": 20,
   "id": "e7a07d0c",
   "metadata": {},
   "outputs": [
    {
     "data": {
      "text/plain": [
       "datetime.datetime"
      ]
     },
     "execution_count": 20,
     "metadata": {},
     "output_type": "execute_result"
    }
   ],
   "source": [
    "type(now)"
   ]
  },
  {
   "cell_type": "code",
   "execution_count": 22,
   "id": "bcf03a36",
   "metadata": {},
   "outputs": [
    {
     "name": "stdout",
     "output_type": "stream",
     "text": [
      "18-44-49\n"
     ]
    }
   ],
   "source": [
    "# La función strftime pide que le especifiques el formato en el que quieres visualizar\n",
    "# la fecha, o lo que quieres obtener de la fecha (una parte).\n",
    "\n",
    "# En este ejemplo, con .strftime() solo sacamos la hora\n",
    "string = now.strftime(\"%H:%M:%S\")\n",
    "\n",
    "# Las letras con el simbolo % representan a la parte de la fecha y hora.\n",
    "\n",
    "print(string)"
   ]
  },
  {
   "cell_type": "code",
   "execution_count": 23,
   "id": "a7ebdc9d",
   "metadata": {},
   "outputs": [
    {
     "data": {
      "text/plain": [
       "str"
      ]
     },
     "execution_count": 23,
     "metadata": {},
     "output_type": "execute_result"
    }
   ],
   "source": [
    "type(string)"
   ]
  },
  {
   "cell_type": "markdown",
   "id": "f7822c42",
   "metadata": {},
   "source": [
    "**href**: _https://strftime.org/_"
   ]
  },
  {
   "cell_type": "markdown",
   "id": "6837bcba",
   "metadata": {},
   "source": [
    "|Code    |Example                 |Description                                                                                |\n",
    "|--------|------------------------|-------------------------------------------------------------------------------------------|\n",
    "| **%a** | Sun                    |\tWeekday as locale’s abbreviated name.                                                     |\n",
    "| **%A** | Sunday                 |\tWeekday as locale’s full name.                                                            |\n",
    "| **%w** | 0                      |\tWeekday as a decimal number, where 0 is Sunday and 6 is Saturday.                         |\n",
    "| **%d** | 08                     |\tDay of the month as a zero-padded decimal number.                                         |\n",
    "| **%b** | Sep                    |\tMonth as locale’s abbreviated name.                                                       |\n",
    "| **%B** | September              |\tMonth as locale’s full name.                                                              |\n",
    "| **%m** | 09                     |\tMonth as a zero-padded decimal number.                                                    |\n",
    "| **%y** | 13                     |\tYear without century as a zero-padded decimal number.                                     |\n",
    "| **%Y** | 2013                   |\tYear with century as a decimal number.                                                    |\n",
    "| **%H** | 07                     |\tHour (24-hour clock) as a zero-padded decimal number.                                     |\n",
    "| **%I** | 07                     |\tHour (12-hour clock) as a zero-padded decimal number.                                     |\n",
    "| **%p** | AM                     |\tLocale’s equivalent of either AM or PM.                                                   |\n",
    "| **%M** | 06                     |\tMinute as a zero-padded decimal number.                                                   |\n",
    "| **%S** | 05                     |\tSecond as a zero-padded decimal number.                                                   |\n",
    "| **%f** | 000000                 |\tMicrosecond as a decimal number, zero-padded on the left.                                 |\n",
    "| **%z** | +0000                  |\tUTC offset in the form ±HHMM[SS[.ffffff]] (empty string if the object is naive).          |\n",
    "| **%Z** | UTC                    |\tTime zone name (empty string if the object is naive).                                     |\n",
    "| **%j** | 251                    |\tDay of the year as a zero-padded decimal number.                                          |\n",
    "| **%U** | 36                     |\tWeek number of the year (Sunday as the first day of the week) as a zero padded decimal number. All days in a new year |preceding the first Sunday are considered to be in week 0.|\n",
    "| **%W** | 35                     |\tWeek number of the year (Monday as the first day of the week) as a decimal number. All days in a new year preceding the |first Monday are considered to be in week 0.           |\n",
    "| **%c** | Sun Sep 8 07:06:05 2013|\tLocale’s appropriate date and time representation.                                        |\n",
    "| **%x** | 09/08/13               |\tLocale’s appropriate date representation.                                                 |\n",
    "| **%X** | 07:06:05               |\tLocale’s appropriate time representation.                                                 |\n",
    "| **%%** | %                      |\tA literal '%' character.                                                                  |"
   ]
  },
  {
   "cell_type": "code",
   "execution_count": 24,
   "id": "1cd6f67a",
   "metadata": {},
   "outputs": [
    {
     "name": "stdout",
     "output_type": "stream",
     "text": [
      "25/01/28, 18:44:49\n"
     ]
    }
   ],
   "source": [
    "# En este ejemplo cambiamos la forma en la que imprime la fecha y agregamos una coma\n",
    "\n",
    "string = now.strftime(\"%y/%m/%d, %H:%M:%S\")\n",
    "\n",
    "print(string)"
   ]
  },
  {
   "cell_type": "code",
   "execution_count": 25,
   "id": "d557b973",
   "metadata": {
    "scrolled": true
   },
   "outputs": [
    {
     "name": "stdout",
     "output_type": "stream",
     "text": [
      "01/28/25, 18:44:49\n"
     ]
    }
   ],
   "source": [
    "# Y podemos hacer el formato que queramos\n",
    "\n",
    "string = now.strftime(\"%m/%d/%y, %H:%M:%S\")\n",
    "\n",
    "print(string)"
   ]
  },
  {
   "cell_type": "markdown",
   "id": "b44a420e-8af0-406e-ac6b-0fbe5e881b9f",
   "metadata": {},
   "source": [
    "**Ejercicio:**\n",
    "\n",
    "Mostrar la fecha almacenada en la variable \"now\" en el siguiente formato:\n",
    "\"Tuesday Jan 28, 2025 18:44\""
   ]
  },
  {
   "cell_type": "code",
   "execution_count": 26,
   "id": "6ceeb06a-e944-43e4-a057-5e45fb744a12",
   "metadata": {},
   "outputs": [
    {
     "data": {
      "text/plain": [
       "'Tuesday Jan 28, 2025 18:44'"
      ]
     },
     "execution_count": 26,
     "metadata": {},
     "output_type": "execute_result"
    }
   ],
   "source": [
    "now.strftime(\"%A %b %d, %Y %H:%M\")"
   ]
  },
  {
   "cell_type": "code",
   "execution_count": 31,
   "id": "6bb78b15-3dfa-4c47-aaf6-76b269ab2c1b",
   "metadata": {},
   "outputs": [
    {
     "data": {
      "text/plain": [
       "'Tuesday Jan 28, 2025 06:44 PM'"
      ]
     },
     "execution_count": 31,
     "metadata": {},
     "output_type": "execute_result"
    }
   ],
   "source": [
    "# Mostrando la hora en formato AM/PM\n",
    "now.strftime(\"%A %b %d, %Y %I:%M %p\")"
   ]
  },
  {
   "cell_type": "markdown",
   "id": "470c82a0",
   "metadata": {},
   "source": [
    "### De string a objeto datetime\n",
    "\n",
    "Usando la función **datetime.strptime()** podemos transformar un **string** a formato **datetime**.\n",
    "\n",
    "**Esta función recibe 2 argumentos:**\n",
    "1. Un string con fecha y hora\n",
    "2. El formato en el que esta escrito la cadena\n",
    "\n",
    "**Ejemplo:**"
   ]
  },
  {
   "cell_type": "code",
   "execution_count": 32,
   "id": "7513345a",
   "metadata": {},
   "outputs": [
    {
     "name": "stdout",
     "output_type": "stream",
     "text": [
      "31 January, 2022\n"
     ]
    }
   ],
   "source": [
    "# string parse time\n",
    "\n",
    "date_string = \"31 January, 2022\"\n",
    "print(date_string)"
   ]
  },
  {
   "cell_type": "code",
   "execution_count": 33,
   "id": "2cdfefa5",
   "metadata": {},
   "outputs": [
    {
     "data": {
      "text/plain": [
       "str"
      ]
     },
     "execution_count": 33,
     "metadata": {},
     "output_type": "execute_result"
    }
   ],
   "source": [
    "type(date_string)"
   ]
  },
  {
   "cell_type": "code",
   "execution_count": 34,
   "id": "52474e71",
   "metadata": {},
   "outputs": [
    {
     "data": {
      "text/plain": [
       "datetime.datetime(2022, 1, 31, 0, 0)"
      ]
     },
     "execution_count": 34,
     "metadata": {},
     "output_type": "execute_result"
    }
   ],
   "source": [
    "# Para convertir ese valor string en una fecha, utilizamos strptime\n",
    "date_object = datetime.strptime(date_string, \"%d %B, %Y\")\n",
    "\n",
    "date_object"
   ]
  },
  {
   "cell_type": "code",
   "execution_count": 35,
   "id": "589fceb5",
   "metadata": {},
   "outputs": [
    {
     "name": "stdout",
     "output_type": "stream",
     "text": [
      "2022-01-31 00:00:00\n"
     ]
    }
   ],
   "source": [
    "print(date_object)"
   ]
  },
  {
   "cell_type": "code",
   "execution_count": 36,
   "id": "8943f985-74d5-4cea-8f45-262e7292febc",
   "metadata": {},
   "outputs": [
    {
     "data": {
      "text/plain": [
       "datetime.datetime"
      ]
     },
     "execution_count": 36,
     "metadata": {},
     "output_type": "execute_result"
    }
   ],
   "source": [
    "type(date_object)"
   ]
  },
  {
   "cell_type": "markdown",
   "id": "a2f90933-edb4-4cd0-a1f3-ae22f15f57d0",
   "metadata": {},
   "source": [
    "**Ejercicio:**\n",
    "\n",
    "Al importar la base de datos de ventas de una tienda, se encontó que la fecha de transacción se ha cargado como tipo string, ya que este valor se mostraba de la siguiente forma:\n",
    "'May 25, 24 - 7:15 PM'\n",
    "Construir un elemento del tipo datetime.datetime que lea correctamente ese valor string."
   ]
  },
  {
   "cell_type": "code",
   "execution_count": 41,
   "id": "989acf55-eb47-43bf-83ce-f2c3416e72ed",
   "metadata": {},
   "outputs": [
    {
     "data": {
      "text/plain": [
       "datetime.datetime(2024, 5, 25, 19, 15)"
      ]
     },
     "execution_count": 41,
     "metadata": {},
     "output_type": "execute_result"
    }
   ],
   "source": [
    "fecha_tr = 'May 25, 24 - 7:15 PM'\n",
    "datetime.strptime(fecha_tr, \"%b %d, %y - %I:%M %p\")"
   ]
  },
  {
   "cell_type": "code",
   "execution_count": 42,
   "id": "16201fe2-2cc0-4f60-b469-2c318a00272c",
   "metadata": {},
   "outputs": [
    {
     "name": "stdout",
     "output_type": "stream",
     "text": [
      "2024-05-25 19:15:00\n"
     ]
    }
   ],
   "source": [
    "print(datetime.strptime(fecha_tr, \"%b %d, %y - %I:%M %p\"))"
   ]
  },
  {
   "cell_type": "markdown",
   "id": "817c3bac-61e9-4f8c-bcd8-217ef0c46ca4",
   "metadata": {},
   "source": [
    "Cuando usamos `strftime` y cuando `strptime`:\n",
    "\n",
    "| **`strftime`** | **`strptime`** |\n",
    "|-|-|\n",
    "| Cuando quieres estilizar un elemento de tipo fecha (datetime.datetime) según un formato específico.| Cuando quieres leer un valor string, que representa una fecha, y que por su formato es leído como string. |"
   ]
  },
  {
   "cell_type": "markdown",
   "id": "a9ebd20c",
   "metadata": {},
   "source": [
    "### Objeto time de datetime\n",
    "\n",
    "Con el objeto **time** de **datetime** podemos usar un objeto que solo maneja tiempos."
   ]
  },
  {
   "cell_type": "code",
   "execution_count": 49,
   "id": "e963e941",
   "metadata": {},
   "outputs": [],
   "source": [
    "from datetime import time"
   ]
  },
  {
   "cell_type": "code",
   "execution_count": 50,
   "id": "78a07879",
   "metadata": {},
   "outputs": [
    {
     "data": {
      "text/plain": [
       "datetime.time(0, 0)"
      ]
     },
     "execution_count": 50,
     "metadata": {},
     "output_type": "execute_result"
    }
   ],
   "source": [
    "# Para inicializar un objeto time, si no ponemos argumentos, se inicializa en 0\n",
    "# Todos los argumentos son opcionales\n",
    "\n",
    "objeto_time = time()\n",
    "\n",
    "objeto_time"
   ]
  },
  {
   "cell_type": "code",
   "execution_count": 51,
   "id": "c036e222",
   "metadata": {},
   "outputs": [
    {
     "data": {
      "text/plain": [
       "datetime.time(20, 10, 50, 1345)"
      ]
     },
     "execution_count": 51,
     "metadata": {},
     "output_type": "execute_result"
    }
   ],
   "source": [
    "# Podemos inicializarlo con diferentes valores\n",
    "\n",
    "objeto_time = time(hour = 20, minute = 10, second = 50, microsecond = 1345)\n",
    "\n",
    "objeto_time"
   ]
  },
  {
   "cell_type": "code",
   "execution_count": 52,
   "id": "d77a7fe1",
   "metadata": {},
   "outputs": [
    {
     "name": "stdout",
     "output_type": "stream",
     "text": [
      "20:10:50.001345\n"
     ]
    }
   ],
   "source": [
    "# Al igual con datetime.datetime() el formato cambia cuando hacemos print()\n",
    "\n",
    "print(objeto_time)"
   ]
  },
  {
   "cell_type": "markdown",
   "id": "bbd52fbd",
   "metadata": {},
   "source": [
    "Con esta clase, podemos usar **.strftime()** para darle el formato que queramos al tiempo."
   ]
  },
  {
   "cell_type": "code",
   "execution_count": 55,
   "id": "cda9a870",
   "metadata": {},
   "outputs": [
    {
     "data": {
      "text/plain": [
       "'8:10:50 PM'"
      ]
     },
     "execution_count": 55,
     "metadata": {},
     "output_type": "execute_result"
    }
   ],
   "source": [
    "objeto_time.strftime(\"%#I:%M:%S %p\")"
   ]
  },
  {
   "cell_type": "markdown",
   "id": "b1b1e10a",
   "metadata": {},
   "source": [
    "### Objeto date de datetime\n",
    "\n",
    "Con el objeto **date** de **datetime** podemos usar un objeto que solo maneja fechas."
   ]
  },
  {
   "cell_type": "code",
   "execution_count": 43,
   "id": "a49b2f0c",
   "metadata": {},
   "outputs": [],
   "source": [
    "from datetime import date"
   ]
  },
  {
   "cell_type": "code",
   "execution_count": 44,
   "id": "6f2b41ac",
   "metadata": {},
   "outputs": [
    {
     "data": {
      "text/plain": [
       "datetime.date(2022, 1, 1)"
      ]
     },
     "execution_count": 44,
     "metadata": {},
     "output_type": "execute_result"
    }
   ],
   "source": [
    "# Para inicializar un objeto date, debemos darle año, mes y día\n",
    "objeto_date = date(year = 2022, month = 1, day = 1)\n",
    "\n",
    "objeto_date"
   ]
  },
  {
   "cell_type": "markdown",
   "id": "7f18937e",
   "metadata": {},
   "source": [
    "Con esta clase, podemos usar **.strftime()** para darle el formato que queramos a la fecha."
   ]
  },
  {
   "cell_type": "code",
   "execution_count": null,
   "id": "d968d92b-829e-46f7-af15-af5adcc75674",
   "metadata": {},
   "outputs": [],
   "source": [
    "#date tiene un comando llamado .today() que nos devuelve\n",
    "# solo la fecha actual (la de hoy)"
   ]
  },
  {
   "cell_type": "code",
   "execution_count": 45,
   "id": "e71410f6-97e4-45f2-935a-bf1bafbd8004",
   "metadata": {},
   "outputs": [
    {
     "data": {
      "text/plain": [
       "datetime.date(2025, 1, 28)"
      ]
     },
     "execution_count": 45,
     "metadata": {},
     "output_type": "execute_result"
    }
   ],
   "source": [
    "date.today()"
   ]
  },
  {
   "cell_type": "code",
   "execution_count": 46,
   "id": "4ade9b09-9caa-44ac-b84a-d8c6e38ef9a5",
   "metadata": {},
   "outputs": [
    {
     "name": "stdout",
     "output_type": "stream",
     "text": [
      "2025-01-28\n"
     ]
    }
   ],
   "source": [
    "print(date.today())"
   ]
  },
  {
   "cell_type": "code",
   "execution_count": 47,
   "id": "32081f16",
   "metadata": {},
   "outputs": [
    {
     "data": {
      "text/plain": [
       "'2025'"
      ]
     },
     "execution_count": 47,
     "metadata": {},
     "output_type": "execute_result"
    }
   ],
   "source": [
    "date.today().strftime(\"%Y\")"
   ]
  },
  {
   "cell_type": "code",
   "execution_count": 48,
   "id": "4511bae5",
   "metadata": {},
   "outputs": [
    {
     "data": {
      "text/plain": [
       "'2025-01-28'"
      ]
     },
     "execution_count": 48,
     "metadata": {},
     "output_type": "execute_result"
    }
   ],
   "source": [
    "date.today().strftime(\"%Y-%m-%d\")"
   ]
  },
  {
   "cell_type": "markdown",
   "id": "20b0347e",
   "metadata": {},
   "source": [
    "### Objeto datetime de datetime\n",
    "\n",
    "Esta clase se usa para craer objetos que tenga fechas, horas, minutos y segundos."
   ]
  },
  {
   "cell_type": "code",
   "execution_count": 56,
   "id": "bb715a11",
   "metadata": {},
   "outputs": [],
   "source": [
    "from datetime import datetime\n",
    "\n",
    "# Al ejecutar esta celda, hemos sobreescrito el nombre datetime\n",
    "# Ahora datetime hará referencia a la clase y no a la libreria"
   ]
  },
  {
   "cell_type": "code",
   "execution_count": 58,
   "id": "6dd59c2f",
   "metadata": {},
   "outputs": [
    {
     "data": {
      "text/plain": [
       "datetime.datetime(2025, 1, 28, 20, 10, 4, 256099)"
      ]
     },
     "execution_count": 58,
     "metadata": {},
     "output_type": "execute_result"
    }
   ],
   "source": [
    "datetime.now()"
   ]
  },
  {
   "cell_type": "code",
   "execution_count": 59,
   "id": "9bec7b04",
   "metadata": {},
   "outputs": [
    {
     "ename": "AttributeError",
     "evalue": "type object 'datetime.datetime' has no attribute 'datetime'",
     "output_type": "error",
     "traceback": [
      "\u001b[1;31m---------------------------------------------------------------------------\u001b[0m",
      "\u001b[1;31mAttributeError\u001b[0m                            Traceback (most recent call last)",
      "Cell \u001b[1;32mIn[59], line 3\u001b[0m\n\u001b[0;32m      1\u001b[0m \u001b[38;5;66;03m# Ya no podremos usar este código\u001b[39;00m\n\u001b[1;32m----> 3\u001b[0m datetime\u001b[38;5;241m.\u001b[39mdatetime\u001b[38;5;241m.\u001b[39mnow()\n",
      "\u001b[1;31mAttributeError\u001b[0m: type object 'datetime.datetime' has no attribute 'datetime'"
     ]
    }
   ],
   "source": [
    "# Ya no podremos usar este código\n",
    "\n",
    "datetime.datetime.now()"
   ]
  },
  {
   "cell_type": "code",
   "execution_count": 60,
   "id": "eaa7ab5c",
   "metadata": {},
   "outputs": [
    {
     "data": {
      "text/plain": [
       "datetime.datetime(2022, 1, 31, 0, 0)"
      ]
     },
     "execution_count": 60,
     "metadata": {},
     "output_type": "execute_result"
    }
   ],
   "source": [
    "# A diferencia de time, para inicializar un objeto datetime necesitamos año, mes y dia\n",
    "\n",
    "datetime(year = 2022, month = 1, day = 31)"
   ]
  },
  {
   "cell_type": "code",
   "execution_count": 61,
   "id": "1476caae",
   "metadata": {},
   "outputs": [
    {
     "data": {
      "text/plain": [
       "datetime.datetime(2022, 1, 31, 11, 10, 50)"
      ]
     },
     "execution_count": 61,
     "metadata": {},
     "output_type": "execute_result"
    }
   ],
   "source": [
    "# Y podemos agregar los parametros de tiempo\n",
    "\n",
    "datetime(year = 2022, month = 1, day = 31, hour = 11, minute = 10, second = 50)"
   ]
  },
  {
   "cell_type": "markdown",
   "id": "4dd322ab",
   "metadata": {},
   "source": [
    "### datetime y timestamp\n",
    "\n",
    "**Timestamp es una secuencia de caracteres que denotan la fecha y hora**. Es muy común encontrar bases de datos que manejan esta marca temporal, utilizando el formato Tiempo Unix.\n",
    "\n",
    "Con la libreria **datetime** podemos:\n",
    "- Convertir un objeto **datetime a timestamp** con la función **datetime.timestamp()** .\n",
    "- Convertir un **timestamp a datetime** con la función **datetime.fromtimestamp()**."
   ]
  },
  {
   "cell_type": "code",
   "execution_count": 62,
   "id": "ca493c6c",
   "metadata": {},
   "outputs": [
    {
     "name": "stdout",
     "output_type": "stream",
     "text": [
      "2025-01-28 20:12:47.924479\n"
     ]
    }
   ],
   "source": [
    "now = datetime.now()\n",
    "\n",
    "print(now)"
   ]
  },
  {
   "cell_type": "code",
   "execution_count": 63,
   "id": "19f5eb51",
   "metadata": {},
   "outputs": [
    {
     "name": "stdout",
     "output_type": "stream",
     "text": [
      "1738091567.924479\n"
     ]
    }
   ],
   "source": [
    "# De datetime a timestamp\n",
    "\n",
    "timestamp = datetime.timestamp(now)\n",
    "print(timestamp)"
   ]
  },
  {
   "cell_type": "code",
   "execution_count": 64,
   "id": "8bfa7eb7",
   "metadata": {},
   "outputs": [
    {
     "name": "stdout",
     "output_type": "stream",
     "text": [
      "2025-01-28 20:12:47.924479\n"
     ]
    }
   ],
   "source": [
    "# De timestamp a datetime\n",
    "\n",
    "objeto_datetime = datetime.fromtimestamp(timestamp)\n",
    "\n",
    "print(objeto_datetime)"
   ]
  },
  {
   "cell_type": "markdown",
   "id": "758e8ed6",
   "metadata": {},
   "source": [
    "### Resta de fechas\n",
    "\n",
    "Para restar fechas podemos usar los objetos **date** y **datetime** de la libreria **datetime**.\n",
    "\n",
    "Estas operaciones nos retorna un objeto de tipo **timedelta**."
   ]
  },
  {
   "cell_type": "code",
   "execution_count": 67,
   "id": "f4e7e88d",
   "metadata": {},
   "outputs": [],
   "source": [
    "from datetime import date, datetime"
   ]
  },
  {
   "cell_type": "code",
   "execution_count": 68,
   "id": "30f41ed5",
   "metadata": {},
   "outputs": [
    {
     "name": "stdout",
     "output_type": "stream",
     "text": [
      "2022-07-10\n",
      "2021-06-11\n"
     ]
    }
   ],
   "source": [
    "# Se construyen dos variables t1 y t2 con distintas fechas:\n",
    "t1 = date(year = 2022, month = 7, day = 10)\n",
    "t2 = date(year = 2021, month = 6, day = 11)\n",
    "print(t1)\n",
    "print(t2)"
   ]
  },
  {
   "cell_type": "code",
   "execution_count": 69,
   "id": "316dc186-480d-4d15-900e-ec7f5c0c89c7",
   "metadata": {},
   "outputs": [
    {
     "name": "stdout",
     "output_type": "stream",
     "text": [
      "394 days, 0:00:00\n"
     ]
    }
   ],
   "source": [
    "# Se calcularán la diferencia entre dos fechas como si fuesen números.\n",
    "t3 = t1 - t2\n",
    "print(t3)"
   ]
  },
  {
   "cell_type": "code",
   "execution_count": 70,
   "id": "f339daa3-3353-4093-a432-e48bfe64b26c",
   "metadata": {},
   "outputs": [
    {
     "name": "stdout",
     "output_type": "stream",
     "text": [
      "<class 'datetime.timedelta'>\n"
     ]
    }
   ],
   "source": [
    "# Validando el tipo de dato de t3\n",
    "print(type(t3))"
   ]
  },
  {
   "cell_type": "code",
   "execution_count": 71,
   "id": "f8db0e65",
   "metadata": {},
   "outputs": [
    {
     "data": {
      "text/plain": [
       "datetime.timedelta(days=394)"
      ]
     },
     "execution_count": 71,
     "metadata": {},
     "output_type": "execute_result"
    }
   ],
   "source": [
    "t3"
   ]
  },
  {
   "cell_type": "code",
   "execution_count": 74,
   "id": "eeed329a",
   "metadata": {},
   "outputs": [
    {
     "name": "stdout",
     "output_type": "stream",
     "text": [
      "265 days, 7:41:31\n",
      "<class 'datetime.timedelta'>\n"
     ]
    }
   ],
   "source": [
    "# Se construyen dos fechasyhora y se restan, y el tipo de dato de esta diferencia\n",
    "# es datetime.delta\n",
    "t4 = datetime(year = 2019, month = 12, day = 15, hour = 21, minute = 12, second = 41)\n",
    "t5 = datetime(year = 2020, month = 9, day = 6, hour = 4, minute = 54, second = 12)\n",
    "\n",
    "t6 = t5 - t4\n",
    "\n",
    "print(t6)\n",
    "\n",
    "print(type(t6))"
   ]
  },
  {
   "cell_type": "code",
   "execution_count": 75,
   "id": "8863eaa1",
   "metadata": {},
   "outputs": [
    {
     "data": {
      "text/plain": [
       "datetime.timedelta(days=265, seconds=27691)"
      ]
     },
     "execution_count": 75,
     "metadata": {},
     "output_type": "execute_result"
    }
   ],
   "source": [
    "t6"
   ]
  },
  {
   "cell_type": "markdown",
   "id": "bdd4284d",
   "metadata": {},
   "source": [
    "### Operaciones con timedelta\n",
    "\n",
    "Un objeto **timedelta** puede ser sumado por otro objecto **timedelta** y/o multiplicado y dividido por un entero o flotante."
   ]
  },
  {
   "cell_type": "code",
   "execution_count": 76,
   "id": "087187f6",
   "metadata": {},
   "outputs": [],
   "source": [
    "from datetime import timedelta"
   ]
  },
  {
   "cell_type": "code",
   "execution_count": 77,
   "id": "1352c2ae",
   "metadata": {},
   "outputs": [],
   "source": [
    "t1 = timedelta(weeks = 2, days = 5, hours = 1, seconds = 35)\n",
    "t2 = timedelta(days = 6, hours = 11, minutes = 5, seconds = 43)"
   ]
  },
  {
   "cell_type": "code",
   "execution_count": 78,
   "id": "19d11f94-185c-41d8-a1ad-c557b5e3a9fd",
   "metadata": {
    "scrolled": true
   },
   "outputs": [
    {
     "name": "stdout",
     "output_type": "stream",
     "text": [
      "19 days, 1:00:35\n",
      "6 days, 11:05:43\n"
     ]
    }
   ],
   "source": [
    "print(t1)\n",
    "print(t2)"
   ]
  },
  {
   "cell_type": "code",
   "execution_count": null,
   "id": "9e781ab3-6cc0-4c88-8ee8-ad0af44800de",
   "metadata": {},
   "outputs": [],
   "source": [
    "# Los objetos timedelta trabajan con un conteo de días como elemento principal.\n",
    "# y para las horas si maneja el esquema %H:%M:%S."
   ]
  },
  {
   "cell_type": "code",
   "execution_count": 79,
   "id": "248b4b00-8d4e-4503-a52e-62003ab7cb4b",
   "metadata": {},
   "outputs": [],
   "source": [
    "# Aplicamos algunas operaciones sobre t1 y t2 del tipo datime.timedelta\n",
    "t3 = t1 - t2\n",
    "\n",
    "t4 = t1 + t2\n",
    "\n",
    "t5 = t1 * 2.5\n",
    "\n",
    "t6 = t1 / 2"
   ]
  },
  {
   "cell_type": "code",
   "execution_count": 80,
   "id": "488fc0e8",
   "metadata": {},
   "outputs": [
    {
     "name": "stdout",
     "output_type": "stream",
     "text": [
      "Resta: 12 days, 13:54:52\n",
      "Suma: 25 days, 12:06:18\n",
      "Multiplicando por un numero: 47 days, 14:31:27.500000\n",
      "Dividiendo por un numero: 9 days, 12:30:17.500000\n"
     ]
    }
   ],
   "source": [
    "print(\"Resta:\",t3)\n",
    "\n",
    "print(\"Suma:\", t4)\n",
    "\n",
    "print(\"Multiplicando por un numero:\", t5)\n",
    "\n",
    "print(\"Dividiendo por un numero:\", t6)"
   ]
  },
  {
   "cell_type": "code",
   "execution_count": null,
   "id": "ae17191d",
   "metadata": {},
   "outputs": [],
   "source": [
    "################################################################################################################################"
   ]
  },
  {
   "cell_type": "code",
   "execution_count": 81,
   "id": "9369292d-9da4-40c5-b84f-cce6288ffe59",
   "metadata": {},
   "outputs": [
    {
     "data": {
      "text/plain": [
       "19"
      ]
     },
     "execution_count": 81,
     "metadata": {},
     "output_type": "execute_result"
    }
   ],
   "source": [
    "# Para obtener el valor de los días (el número) de timedelta,\n",
    "# utilizamos el atributo \"days\" en el elemento del tipo\n",
    "\n",
    "# Obtener el valor número days para la variable t1\n",
    "t1.days"
   ]
  }
 ],
 "metadata": {
  "kernelspec": {
   "display_name": "Python 3 (ipykernel)",
   "language": "python",
   "name": "python3"
  },
  "language_info": {
   "codemirror_mode": {
    "name": "ipython",
    "version": 3
   },
   "file_extension": ".py",
   "mimetype": "text/x-python",
   "name": "python",
   "nbconvert_exporter": "python",
   "pygments_lexer": "ipython3",
   "version": "3.12.7"
  }
 },
 "nbformat": 4,
 "nbformat_minor": 5
}
