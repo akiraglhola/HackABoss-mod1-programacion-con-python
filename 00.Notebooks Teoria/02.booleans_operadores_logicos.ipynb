{
 "cells": [
  {
   "cell_type": "markdown",
   "id": "8631a289",
   "metadata": {},
   "source": [
    "## Booleans (True & False)\n",
    "\n",
    "Los **Boolans** representan uno de estos dos valores: **True** o **False**.\n",
    "\n",
    "En programación existen situaciones donde es necesario saber si una expresión es verdadera (**True**) o falsa (**False**).\n",
    "\n",
    "En python se pueden evaluar o comparar expresiones y obtener uno de los dos resultados, verdadero o falso.\n",
    "\n",
    "En python, **True** es considerado 1 y **False** es considerado 0.\n",
    "\n",
    "Este tipo de dato se representa con la palabra reservada _**bool**_."
   ]
  },
  {
   "cell_type": "code",
   "execution_count": 1,
   "id": "75f01150",
   "metadata": {},
   "outputs": [
    {
     "data": {
      "text/plain": [
       "True"
      ]
     },
     "execution_count": 1,
     "metadata": {},
     "output_type": "execute_result"
    }
   ],
   "source": [
    "True"
   ]
  },
  {
   "cell_type": "code",
   "execution_count": 2,
   "id": "8abea607",
   "metadata": {},
   "outputs": [
    {
     "data": {
      "text/plain": [
       "False"
      ]
     },
     "execution_count": 2,
     "metadata": {},
     "output_type": "execute_result"
    }
   ],
   "source": [
    "False"
   ]
  },
  {
   "cell_type": "code",
   "execution_count": 3,
   "id": "6b239a8d-a5dd-4f02-a573-8f8460c2dc44",
   "metadata": {},
   "outputs": [
    {
     "data": {
      "text/plain": [
       "bool"
      ]
     },
     "execution_count": 3,
     "metadata": {},
     "output_type": "execute_result"
    }
   ],
   "source": [
    "#Consultar el tipo de dato de False\n",
    "type(False)"
   ]
  },
  {
   "cell_type": "code",
   "execution_count": 4,
   "id": "c0d8f59a",
   "metadata": {},
   "outputs": [],
   "source": [
    "verdadero = True\n",
    "falso = False"
   ]
  },
  {
   "cell_type": "code",
   "execution_count": 5,
   "id": "22cfcbd6",
   "metadata": {},
   "outputs": [
    {
     "data": {
      "text/plain": [
       "1"
      ]
     },
     "execution_count": 5,
     "metadata": {},
     "output_type": "execute_result"
    }
   ],
   "source": [
    "verdadero + falso"
   ]
  },
  {
   "cell_type": "code",
   "execution_count": 6,
   "id": "2637e310",
   "metadata": {},
   "outputs": [
    {
     "data": {
      "text/plain": [
       "-1"
      ]
     },
     "execution_count": 6,
     "metadata": {},
     "output_type": "execute_result"
    }
   ],
   "source": [
    "falso - verdadero"
   ]
  },
  {
   "cell_type": "markdown",
   "id": "fe1716a8",
   "metadata": {},
   "source": [
    "## Operadores de Comparación\n",
    "\n",
    "Como dice su nombre, se utiliza para comparar elementos, su resultado siempre es **True** o **False**.\n",
    "\n",
    "| Operador     | Operación     | Ejemplo |\n",
    "|--------------|---------------|---------|\n",
    "| **==**       | Igual         | x == y  |\n",
    "| **!=**       | Diferente     | x != y  |\n",
    "| **>**        | Mayor que     | x > y   |\n",
    "| **<**        | Menor que     | x < y   |\n",
    "| **>=**       | Mayor o igual | x >= y  |\n",
    "| **<=**       | Menor o igual | x <= y  |"
   ]
  },
  {
   "cell_type": "code",
   "execution_count": 7,
   "id": "910fb03a",
   "metadata": {},
   "outputs": [
    {
     "data": {
      "text/plain": [
       "True"
      ]
     },
     "execution_count": 7,
     "metadata": {},
     "output_type": "execute_result"
    }
   ],
   "source": [
    "# Comparación de igualdad\n",
    "1 == 1"
   ]
  },
  {
   "cell_type": "code",
   "execution_count": 8,
   "id": "0a2284ce",
   "metadata": {},
   "outputs": [
    {
     "data": {
      "text/plain": [
       "False"
      ]
     },
     "execution_count": 8,
     "metadata": {},
     "output_type": "execute_result"
    }
   ],
   "source": [
    "#Comparación de desigualdad\n",
    "1 != 1"
   ]
  },
  {
   "cell_type": "code",
   "execution_count": 9,
   "id": "c58c75e9",
   "metadata": {},
   "outputs": [
    {
     "data": {
      "text/plain": [
       "False"
      ]
     },
     "execution_count": 9,
     "metadata": {},
     "output_type": "execute_result"
    }
   ],
   "source": [
    "# También se pueden aplicar comparativas entre variables.\n",
    "a = 3\n",
    "b = 4\n",
    "\n",
    "a == b"
   ]
  },
  {
   "cell_type": "code",
   "execution_count": 10,
   "id": "586bb6ef",
   "metadata": {},
   "outputs": [
    {
     "data": {
      "text/plain": [
       "True"
      ]
     },
     "execution_count": 10,
     "metadata": {},
     "output_type": "execute_result"
    }
   ],
   "source": [
    "4 > 0"
   ]
  },
  {
   "cell_type": "code",
   "execution_count": 11,
   "id": "278a4510",
   "metadata": {},
   "outputs": [
    {
     "data": {
      "text/plain": [
       "True"
      ]
     },
     "execution_count": 11,
     "metadata": {},
     "output_type": "execute_result"
    }
   ],
   "source": [
    "3.1 < 10"
   ]
  },
  {
   "cell_type": "code",
   "execution_count": 12,
   "id": "a3f184f5",
   "metadata": {},
   "outputs": [
    {
     "data": {
      "text/plain": [
       "True"
      ]
     },
     "execution_count": 12,
     "metadata": {},
     "output_type": "execute_result"
    }
   ],
   "source": [
    "b >= a"
   ]
  },
  {
   "cell_type": "markdown",
   "id": "9dc8b7f3",
   "metadata": {},
   "source": [
    "## Operadores Lógicos\n",
    "\n",
    "Se utilizan en conjunto con los operadores de comparación, su función es unir diferentes declaraciones:\n",
    "\n",
    "| Operador          | Descripción                                                                                                   | Ejemplo                     |\n",
    "|-------------------|---------------------------------------------------------------------------------------------------------------|-----------------------------|\n",
    "| **and** o **&** | Retorna **True** si todas las declaraciones son **True**, sino, retorna **False**.                            | x > 5 **and** x < 10        |\n",
    "| **or** o **\\|** | Retorna **True** si al menos una de las declaraciones son **True**, retorna **False** si todas son **False**. | x > 5 **or** x < 10         |\n",
    "| **not** o **~** | Invierte el resultado de la operación.                                                                        | **not**(x > 5 **or** x < 10)|"
   ]
  },
  {
   "cell_type": "code",
   "execution_count": 13,
   "id": "fa41cc63",
   "metadata": {},
   "outputs": [],
   "source": [
    "# Definimos 4 variables.\n",
    "a = 100\n",
    "b = 200\n",
    "c = 300\n",
    "d = 500"
   ]
  },
  {
   "cell_type": "code",
   "execution_count": 14,
   "id": "e8c4e3a6",
   "metadata": {},
   "outputs": [
    {
     "data": {
      "text/plain": [
       "True"
      ]
     },
     "execution_count": 14,
     "metadata": {},
     "output_type": "execute_result"
    }
   ],
   "source": [
    "b > a"
   ]
  },
  {
   "cell_type": "code",
   "execution_count": 15,
   "id": "3eb452fa",
   "metadata": {},
   "outputs": [
    {
     "data": {
      "text/plain": [
       "True"
      ]
     },
     "execution_count": 15,
     "metadata": {},
     "output_type": "execute_result"
    }
   ],
   "source": [
    "b < c"
   ]
  },
  {
   "cell_type": "code",
   "execution_count": 16,
   "id": "50ac8b5f",
   "metadata": {},
   "outputs": [
    {
     "data": {
      "text/plain": [
       "True"
      ]
     },
     "execution_count": 16,
     "metadata": {},
     "output_type": "execute_result"
    }
   ],
   "source": [
    "b > a and b < c"
   ]
  },
  {
   "cell_type": "code",
   "execution_count": 17,
   "id": "f7ad5928",
   "metadata": {},
   "outputs": [
    {
     "data": {
      "text/plain": [
       "True"
      ]
     },
     "execution_count": 17,
     "metadata": {},
     "output_type": "execute_result"
    }
   ],
   "source": [
    "b > a & b < c"
   ]
  },
  {
   "cell_type": "code",
   "execution_count": 18,
   "id": "58ba64db",
   "metadata": {},
   "outputs": [
    {
     "data": {
      "text/plain": [
       "True"
      ]
     },
     "execution_count": 18,
     "metadata": {},
     "output_type": "execute_result"
    }
   ],
   "source": [
    "c > a or c > d"
   ]
  },
  {
   "cell_type": "code",
   "execution_count": 19,
   "id": "ac7f599f",
   "metadata": {},
   "outputs": [
    {
     "data": {
      "text/plain": [
       "True"
      ]
     },
     "execution_count": 19,
     "metadata": {},
     "output_type": "execute_result"
    }
   ],
   "source": [
    "(c > a) | (c > d)"
   ]
  },
  {
   "cell_type": "code",
   "execution_count": 20,
   "id": "a888d028",
   "metadata": {},
   "outputs": [
    {
     "data": {
      "text/plain": [
       "True"
      ]
     },
     "execution_count": 20,
     "metadata": {},
     "output_type": "execute_result"
    }
   ],
   "source": [
    "b > a"
   ]
  },
  {
   "cell_type": "code",
   "execution_count": 21,
   "id": "564c48fc",
   "metadata": {},
   "outputs": [
    {
     "data": {
      "text/plain": [
       "False"
      ]
     },
     "execution_count": 21,
     "metadata": {},
     "output_type": "execute_result"
    }
   ],
   "source": [
    "not(b > a)"
   ]
  },
  {
   "cell_type": "code",
   "execution_count": null,
   "id": "443e7993",
   "metadata": {},
   "outputs": [],
   "source": [
    "##############################################################################################################################"
   ]
  },
  {
   "cell_type": "markdown",
   "id": "008e3941-621f-4fd0-8ef1-46abbdb3e0b5",
   "metadata": {},
   "source": [
    "**Ejercicios:**\n",
    "\n",
    "1. Sean las siguientes variables:\n",
    "   - x = 100\n",
    "   - y = 77\n",
    "   - z = 22.6\n",
    "   \n",
    "   Crear una nueva variable llamada xyz obtenida a partir de:\n",
    "\n",
    "   $$ \\frac{(y - z)^4}{(x*y*z - y*z^2)} $$"
   ]
  },
  {
   "cell_type": "code",
   "execution_count": 28,
   "id": "1c37e6bb-f086-4457-bbea-f3bfb8cfacc9",
   "metadata": {},
   "outputs": [
    {
     "data": {
      "text/plain": [
       "65.02127387419011"
      ]
     },
     "execution_count": 28,
     "metadata": {},
     "output_type": "execute_result"
    }
   ],
   "source": [
    "# Creando las variables x, y, z\n",
    "x = 100\n",
    "y = 77\n",
    "z = 22.6\n",
    "\n",
    "# Ejecutando la operación solicitada\n",
    "xyz = ((y-z)**4) / ((x*y*z) - (y * z**2))\n",
    "xyz"
   ]
  },
  {
   "cell_type": "markdown",
   "id": "58f14e71-858b-475c-8368-b4f9560aa0fe",
   "metadata": {},
   "source": [
    "2. ¿Es $xyz$ mayor a $y^x$ ?"
   ]
  },
  {
   "cell_type": "code",
   "execution_count": 32,
   "id": "cf1ecdd0-bd50-4043-95bc-0102fd9ced81",
   "metadata": {},
   "outputs": [
    {
     "data": {
      "text/plain": [
       "False"
      ]
     },
     "execution_count": 32,
     "metadata": {},
     "output_type": "execute_result"
    }
   ],
   "source": [
    "xyz > (y**x)"
   ]
  },
  {
   "cell_type": "markdown",
   "id": "d4a95702-7938-4460-b97d-79ae74098076",
   "metadata": {},
   "source": [
    "3. ¿Son iguales $xyz$ y $z * y$ ?"
   ]
  },
  {
   "cell_type": "code",
   "execution_count": 33,
   "id": "b84365a1-48ed-4b1b-ae67-60f1612a7676",
   "metadata": {},
   "outputs": [
    {
     "data": {
      "text/plain": [
       "False"
      ]
     },
     "execution_count": 33,
     "metadata": {},
     "output_type": "execute_result"
    }
   ],
   "source": [
    "xyz == (z*y)"
   ]
  },
  {
   "cell_type": "markdown",
   "id": "1afdc87a-0196-4238-9779-46924338919f",
   "metadata": {},
   "source": [
    "4. Crear dos variables nuevas $a$ y $b$ y asignarles los resultados de las operaciones de los ejercicios 2 y 3"
   ]
  },
  {
   "cell_type": "code",
   "execution_count": 34,
   "id": "7d709b4f-6d99-4dff-ae94-7495ef5f09da",
   "metadata": {},
   "outputs": [],
   "source": [
    "a = (xyz > y**x)\n",
    "b = (xyz == z*y)"
   ]
  },
  {
   "cell_type": "code",
   "execution_count": 35,
   "id": "d43607d4-71cb-41a1-88d7-789afd2a72de",
   "metadata": {},
   "outputs": [
    {
     "name": "stdout",
     "output_type": "stream",
     "text": [
      "False\n"
     ]
    }
   ],
   "source": [
    "print(a)"
   ]
  },
  {
   "cell_type": "code",
   "execution_count": 36,
   "id": "9dae7cd5-9ead-4347-9550-f6e9fc98f4c0",
   "metadata": {},
   "outputs": [
    {
     "name": "stdout",
     "output_type": "stream",
     "text": [
      "False\n"
     ]
    }
   ],
   "source": [
    "print(b)"
   ]
  },
  {
   "cell_type": "markdown",
   "id": "f1e97509-f969-492c-bc8b-23cf7062a204",
   "metadata": {},
   "source": [
    "5. ¿Es $a$ mayor que $xyz$ y a su vez menor a $b$?"
   ]
  },
  {
   "cell_type": "code",
   "execution_count": 37,
   "id": "88aa3a75-f779-45b7-a991-f93955b2c8b6",
   "metadata": {},
   "outputs": [
    {
     "data": {
      "text/plain": [
       "False"
      ]
     },
     "execution_count": 37,
     "metadata": {},
     "output_type": "execute_result"
    }
   ],
   "source": [
    "(a > xyz) & (a < b)"
   ]
  },
  {
   "cell_type": "code",
   "execution_count": 38,
   "id": "b85e80bb-25c4-45a4-9d8f-9473d2048a2f",
   "metadata": {},
   "outputs": [
    {
     "data": {
      "text/plain": [
       "False"
      ]
     },
     "execution_count": 38,
     "metadata": {},
     "output_type": "execute_result"
    }
   ],
   "source": [
    "(a > xyz) and (a < b)"
   ]
  }
 ],
 "metadata": {
  "kernelspec": {
   "display_name": "Python 3 (ipykernel)",
   "language": "python",
   "name": "python3"
  },
  "language_info": {
   "codemirror_mode": {
    "name": "ipython",
    "version": 3
   },
   "file_extension": ".py",
   "mimetype": "text/x-python",
   "name": "python",
   "nbconvert_exporter": "python",
   "pygments_lexer": "ipython3",
   "version": "3.12.7"
  }
 },
 "nbformat": 4,
 "nbformat_minor": 5
}
