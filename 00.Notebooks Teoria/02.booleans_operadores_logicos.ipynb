{
 "cells": [
  {
   "cell_type": "markdown",
   "id": "8631a289",
   "metadata": {},
   "source": [
    "## Booleans (True & False)\n",
    "\n",
    "Los **Boolans** representan uno de estos dos valores: **True** o **False**.\n",
    "\n",
    "En programación existen situaciones donde es necesario saber si una expresión es verdadera (**True**) o falsa (**False**).\n",
    "\n",
    "En python se pueden evaluar o comparar expresiones y obtener uno de los dos resultados, verdadero o falso.\n",
    "\n",
    "En python, **True** es considerado 1 y **False** es considerado 0.\n",
    "\n",
    "Este tipo de dato se representa con la palabra reservada _**bool**_."
   ]
  },
  {
   "cell_type": "code",
   "execution_count": null,
   "id": "75f01150",
   "metadata": {},
   "outputs": [],
   "source": [
    "True"
   ]
  },
  {
   "cell_type": "code",
   "execution_count": null,
   "id": "8abea607",
   "metadata": {},
   "outputs": [],
   "source": [
    "False"
   ]
  },
  {
   "cell_type": "code",
   "execution_count": null,
   "id": "c0d8f59a",
   "metadata": {},
   "outputs": [],
   "source": [
    "verdadero = True\n",
    "falso = False"
   ]
  },
  {
   "cell_type": "code",
   "execution_count": null,
   "id": "22cfcbd6",
   "metadata": {},
   "outputs": [],
   "source": [
    "verdadero + falso"
   ]
  },
  {
   "cell_type": "code",
   "execution_count": null,
   "id": "2637e310",
   "metadata": {},
   "outputs": [],
   "source": [
    "falso - verdadero"
   ]
  },
  {
   "cell_type": "markdown",
   "id": "fe1716a8",
   "metadata": {},
   "source": [
    "## Operadores de Comparación\n",
    "\n",
    "Como dice su nombre, se utiliza para comparar elementos, su resultado siempre es **True** o **False**.\n",
    "\n",
    "| Operador     | Operación     | Ejemplo |\n",
    "|--------------|---------------|---------|\n",
    "| **==**       | Igual         | x == y  |\n",
    "| **!=**       | Diferente     | x != y  |\n",
    "| **>**        | Mayor que     | x > y   |\n",
    "| **<**        | Menor que     | x < y   |\n",
    "| **>=**       | Mayor o igual | x >= y  |\n",
    "| **<=**       | Menor o igual | x <= y  |"
   ]
  },
  {
   "cell_type": "code",
   "execution_count": null,
   "id": "910fb03a",
   "metadata": {},
   "outputs": [],
   "source": [
    "1 == 1"
   ]
  },
  {
   "cell_type": "code",
   "execution_count": null,
   "id": "0a2284ce",
   "metadata": {},
   "outputs": [],
   "source": [
    "1 != 1"
   ]
  },
  {
   "cell_type": "code",
   "execution_count": null,
   "id": "c58c75e9",
   "metadata": {},
   "outputs": [],
   "source": [
    "a = 3\n",
    "b = 4\n",
    "\n",
    "a == b"
   ]
  },
  {
   "cell_type": "code",
   "execution_count": null,
   "id": "586bb6ef",
   "metadata": {},
   "outputs": [],
   "source": [
    "4 > 0"
   ]
  },
  {
   "cell_type": "code",
   "execution_count": null,
   "id": "278a4510",
   "metadata": {},
   "outputs": [],
   "source": [
    "3.1 < 10"
   ]
  },
  {
   "cell_type": "code",
   "execution_count": null,
   "id": "a3f184f5",
   "metadata": {},
   "outputs": [],
   "source": [
    "b >= a"
   ]
  },
  {
   "cell_type": "markdown",
   "id": "9dc8b7f3",
   "metadata": {},
   "source": [
    "## Operadores Lógicos\n",
    "\n",
    "Se utilizan en conjunto con los operadores de comparación, su función es unir diferentes declaraciones:\n",
    "\n",
    "| Operador          | Descripción                                                                                                   | Ejemplo                     |\n",
    "|-------------------|---------------------------------------------------------------------------------------------------------------|-----------------------------|\n",
    "| **and** o **&** | Retorna **True** si todas las declaraciones son **True**, sino, retorna **False**.                            | x > 5 **and** x < 10        |\n",
    "| **or** o **\\|** | Retorna **True** si al menos una de las declaraciones son **True**, retorna **False** si todas son **False**. | x > 5 **or** x < 10         |\n",
    "| **not** o **~** | Invierte el resultado de la operación.                                                                        | **not**(x > 5 **or** x < 10)|"
   ]
  },
  {
   "cell_type": "code",
   "execution_count": null,
   "id": "fa41cc63",
   "metadata": {},
   "outputs": [],
   "source": [
    "a = 100\n",
    "b = 200\n",
    "c = 300\n",
    "d = 500"
   ]
  },
  {
   "cell_type": "code",
   "execution_count": null,
   "id": "e8c4e3a6",
   "metadata": {},
   "outputs": [],
   "source": [
    "b > a"
   ]
  },
  {
   "cell_type": "code",
   "execution_count": null,
   "id": "3eb452fa",
   "metadata": {},
   "outputs": [],
   "source": [
    "b < c"
   ]
  },
  {
   "cell_type": "code",
   "execution_count": null,
   "id": "50ac8b5f",
   "metadata": {},
   "outputs": [],
   "source": [
    "b > a and b < c"
   ]
  },
  {
   "cell_type": "code",
   "execution_count": null,
   "id": "f7ad5928",
   "metadata": {},
   "outputs": [],
   "source": [
    "b > a & b < c"
   ]
  },
  {
   "cell_type": "code",
   "execution_count": null,
   "id": "58ba64db",
   "metadata": {},
   "outputs": [],
   "source": [
    "c > a or c > d"
   ]
  },
  {
   "cell_type": "code",
   "execution_count": null,
   "id": "ac7f599f",
   "metadata": {},
   "outputs": [],
   "source": [
    "(c > a) | (c > d)"
   ]
  },
  {
   "cell_type": "code",
   "execution_count": null,
   "id": "a888d028",
   "metadata": {},
   "outputs": [],
   "source": [
    "b > a"
   ]
  },
  {
   "cell_type": "code",
   "execution_count": null,
   "id": "564c48fc",
   "metadata": {},
   "outputs": [],
   "source": [
    "not(b > a)"
   ]
  },
  {
   "cell_type": "code",
   "execution_count": null,
   "id": "443e7993",
   "metadata": {},
   "outputs": [],
   "source": [
    "##############################################################################################################################"
   ]
  }
 ],
 "metadata": {
  "kernelspec": {
   "display_name": "Python 3 (ipykernel)",
   "language": "python",
   "name": "python3"
  },
  "language_info": {
   "codemirror_mode": {
    "name": "ipython",
    "version": 3
   },
   "file_extension": ".py",
   "mimetype": "text/x-python",
   "name": "python",
   "nbconvert_exporter": "python",
   "pygments_lexer": "ipython3",
   "version": "3.11.5"
  }
 },
 "nbformat": 4,
 "nbformat_minor": 5
}
