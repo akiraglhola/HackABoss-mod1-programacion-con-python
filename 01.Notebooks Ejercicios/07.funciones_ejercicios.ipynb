{
 "cells": [
  {
   "cell_type": "markdown",
   "id": "617e80df",
   "metadata": {},
   "source": [
    "## Ejercicios - Funciones"
   ]
  },
  {
   "cell_type": "markdown",
   "id": "9ff17fdc",
   "metadata": {},
   "source": [
    "### Ejercicio 1\n",
    "- Crea una función que retorne el minimo de 2 números, no puedes usar la función **min()**."
   ]
  },
  {
   "cell_type": "code",
   "execution_count": 1,
   "id": "b2988ac2",
   "metadata": {},
   "outputs": [],
   "source": [
    "def minimo(a,b):\n",
    "    if a < b:\n",
    "        return a\n",
    "    else:\n",
    "        return b"
   ]
  },
  {
   "cell_type": "code",
   "execution_count": 3,
   "id": "c1bf472d",
   "metadata": {},
   "outputs": [
    {
     "data": {
      "text/plain": [
       "3"
      ]
     },
     "execution_count": 3,
     "metadata": {},
     "output_type": "execute_result"
    }
   ],
   "source": [
    "minimo(4,3)"
   ]
  },
  {
   "cell_type": "code",
   "execution_count": null,
   "id": "1a08c3b9",
   "metadata": {},
   "outputs": [],
   "source": []
  },
  {
   "cell_type": "markdown",
   "id": "299d07e1",
   "metadata": {},
   "source": [
    "### Ejercicio 2\n",
    "- Crea una función que tenga como parametro de entrada 4 números y devuelva la suma y multiplicación de dichos números en dos variables."
   ]
  },
  {
   "cell_type": "code",
   "execution_count": 5,
   "id": "29dc4315",
   "metadata": {},
   "outputs": [],
   "source": [
    "def suma_multi (a, b):\n",
    "    return a+b, a*b"
   ]
  },
  {
   "cell_type": "code",
   "execution_count": 6,
   "id": "771dd0ed",
   "metadata": {},
   "outputs": [
    {
     "data": {
      "text/plain": [
       "(9, 20)"
      ]
     },
     "execution_count": 6,
     "metadata": {},
     "output_type": "execute_result"
    }
   ],
   "source": [
    "suma_multi(4,5)"
   ]
  },
  {
   "cell_type": "code",
   "execution_count": null,
   "id": "06eb5e0e",
   "metadata": {},
   "outputs": [],
   "source": []
  },
  {
   "cell_type": "markdown",
   "id": "b33d16b5",
   "metadata": {},
   "source": [
    "### Ejercicio 3\n",
    "- Crea una función que devuelva los dos números menores (en forma de lista) de 4 números."
   ]
  },
  {
   "cell_type": "code",
   "execution_count": 13,
   "id": "413447a6",
   "metadata": {},
   "outputs": [],
   "source": [
    "def dosmenores(a,b,c,d):\n",
    "    lista =[a,b,c,d]\n",
    "    min1 = lista[0]\n",
    "    \n",
    "    print(lista)\n",
    "    for i in lista:\n",
    "        if min1 > i:\n",
    "            min1 = i\n",
    "        \n",
    "        print(f\"i: {i}, min1: {min1}\")\n",
    "\n",
    "    lista.remove(min1)\n",
    "    print(lista)\n",
    "    min2 = lista[0]\n",
    "\n",
    "    for i in lista:\n",
    "        if min2 > i:\n",
    "            min2 = i\n",
    "        \n",
    "        print(f\"i: {i}, min: {min2}\")\n",
    "\n",
    "    return min1, min2\n",
    "        \n",
    "    "
   ]
  },
  {
   "cell_type": "code",
   "execution_count": 14,
   "id": "763659b4",
   "metadata": {},
   "outputs": [
    {
     "name": "stdout",
     "output_type": "stream",
     "text": [
      "[4, 5, 2, 1]\n",
      "i: 4, min1: 4\n",
      "i: 5, min1: 4\n",
      "i: 2, min1: 2\n",
      "i: 1, min1: 1\n",
      "[4, 5, 2]\n",
      "i: 4, min: 4\n",
      "i: 5, min: 4\n",
      "i: 2, min: 2\n"
     ]
    },
    {
     "data": {
      "text/plain": [
       "(1, 2)"
      ]
     },
     "execution_count": 14,
     "metadata": {},
     "output_type": "execute_result"
    }
   ],
   "source": [
    "dosmenores(4,5,2,1)"
   ]
  },
  {
   "cell_type": "code",
   "execution_count": null,
   "id": "6c0e5415",
   "metadata": {},
   "outputs": [],
   "source": []
  },
  {
   "cell_type": "markdown",
   "id": "b5b102ac",
   "metadata": {},
   "source": [
    "### Ejercicio 4\n",
    "- Crea una función que devuelva los 10 números menores de una lista de 20 números aleatorios entre 10 y 50. (Recuerda importar la libreria)\n",
    "- La lista de número aleatorios se puede crear fuera o dentro de la función."
   ]
  },
  {
   "cell_type": "code",
   "execution_count": 15,
   "id": "6f33698b",
   "metadata": {},
   "outputs": [],
   "source": [
    "import random"
   ]
  },
  {
   "cell_type": "code",
   "execution_count": 28,
   "id": "77d7dacb",
   "metadata": {},
   "outputs": [
    {
     "data": {
      "text/plain": [
       "[30,\n",
       " 33,\n",
       " 38,\n",
       " 18,\n",
       " 40,\n",
       " 33,\n",
       " 28,\n",
       " 50,\n",
       " 37,\n",
       " 16,\n",
       " 27,\n",
       " 45,\n",
       " 29,\n",
       " 41,\n",
       " 49,\n",
       " 15,\n",
       " 22,\n",
       " 30,\n",
       " 13,\n",
       " 30]"
      ]
     },
     "execution_count": 28,
     "metadata": {},
     "output_type": "execute_result"
    }
   ],
   "source": [
    "#creando una lista de 20 numeros aleatorios \n",
    "\n",
    "aleatorios = []\n",
    "for i in range(20):\n",
    "    num = random.randint(10,50)\n",
    "    aleatorios.append(num)\n",
    "\n",
    "aleatorios"
   ]
  },
  {
   "cell_type": "code",
   "execution_count": 29,
   "id": "f80ee060",
   "metadata": {},
   "outputs": [],
   "source": [
    "def menores(lista, k = 10):\n",
    "    lista = lista.copy()\n",
    "    resultado = []\n",
    "    min = lista[0]\n",
    "    \n",
    "    for j in range(k):\n",
    "        min = lista[0]\n",
    "        for i in lista:\n",
    "            if min > i:\n",
    "                min = i\n",
    "        resultado.append(min)\n",
    "        lista.remove(min)\n",
    "        \n",
    "    return resultado\n",
    "    "
   ]
  },
  {
   "cell_type": "code",
   "execution_count": 30,
   "id": "8251f552",
   "metadata": {},
   "outputs": [
    {
     "data": {
      "text/plain": [
       "[30,\n",
       " 33,\n",
       " 38,\n",
       " 18,\n",
       " 40,\n",
       " 33,\n",
       " 28,\n",
       " 50,\n",
       " 37,\n",
       " 16,\n",
       " 27,\n",
       " 45,\n",
       " 29,\n",
       " 41,\n",
       " 49,\n",
       " 15,\n",
       " 22,\n",
       " 30,\n",
       " 13,\n",
       " 30]"
      ]
     },
     "execution_count": 30,
     "metadata": {},
     "output_type": "execute_result"
    }
   ],
   "source": [
    "aleatorios"
   ]
  },
  {
   "cell_type": "code",
   "execution_count": 31,
   "id": "d3c461b1",
   "metadata": {},
   "outputs": [
    {
     "data": {
      "text/plain": [
       "[13, 15, 16, 18, 22, 27, 28, 29, 30, 30]"
      ]
     },
     "execution_count": 31,
     "metadata": {},
     "output_type": "execute_result"
    }
   ],
   "source": [
    "menores(aleatorios)"
   ]
  },
  {
   "cell_type": "markdown",
   "id": "af2c3e2a",
   "metadata": {},
   "source": [
    "### Ejercicio 5\n",
    "- Crea una función que realice la misma tarea que **len()**. "
   ]
  },
  {
   "cell_type": "code",
   "execution_count": 35,
   "id": "fd7e71ac",
   "metadata": {},
   "outputs": [],
   "source": [
    "def tamaño(x):\n",
    "    contar = 0\n",
    "    for i in x:\n",
    "        contar += 1\n",
    "\n",
    "    return contar"
   ]
  },
  {
   "cell_type": "code",
   "execution_count": 36,
   "id": "d0271389",
   "metadata": {},
   "outputs": [
    {
     "data": {
      "text/plain": [
       "3"
      ]
     },
     "execution_count": 36,
     "metadata": {},
     "output_type": "execute_result"
    }
   ],
   "source": [
    "tamaño(\"abc\")"
   ]
  },
  {
   "cell_type": "code",
   "execution_count": 37,
   "id": "68d70a18",
   "metadata": {},
   "outputs": [
    {
     "data": {
      "text/plain": [
       "20"
      ]
     },
     "execution_count": 37,
     "metadata": {},
     "output_type": "execute_result"
    }
   ],
   "source": [
    "tamaño(aleatorios)"
   ]
  },
  {
   "cell_type": "markdown",
   "id": "16725232",
   "metadata": {},
   "source": [
    "### Ejercicio 6\n",
    "- Escribe una función que:\n",
    "- Tome como parametro de entrada una lista de números y letras\n",
    "- Convierta las letras a su forma en mayuscula.\n",
    "- Que calcule el cuadrado de los números\n",
    "- Que retorne ese resultado en una lista en el mismo orden.\n",
    "\n",
    "**Ejemplo:**\n",
    "\n",
    "**entrada = [1, 2, 3, 4, \"a\", \"b\", \"c\", \"d\"]**\n",
    "\n",
    "**salida = [1, 4, 9, 16, \"A\", \"B\", \"C\", \"D\"]**"
   ]
  },
  {
   "cell_type": "code",
   "execution_count": 46,
   "id": "f47c456d",
   "metadata": {},
   "outputs": [],
   "source": [
    "def modificar(lista):\n",
    "    lista = lista.copy()\n",
    "\n",
    "    for i in range(len(lista)):\n",
    "        if type(lista[i]) == str:\n",
    "            lista[i] = lista[i].upper()\n",
    "        elif type(lista[i]) == int:\n",
    "            lista[i] = lista[i]**2\n",
    "    \n",
    "    return lista"
   ]
  },
  {
   "cell_type": "code",
   "execution_count": 47,
   "id": "ca5a46ed",
   "metadata": {},
   "outputs": [
    {
     "data": {
      "text/plain": [
       "[1, 4, 9, 16, 'A', 'B', 'C', 'D']"
      ]
     },
     "execution_count": 47,
     "metadata": {},
     "output_type": "execute_result"
    }
   ],
   "source": [
    "modificar([1, 2, 3, 4, \"a\", \"b\", \"c\", \"d\"])"
   ]
  },
  {
   "cell_type": "markdown",
   "id": "b4a5e1be",
   "metadata": {},
   "source": [
    "### Ejercicio 7\n",
    "\n",
    "- Crea una funcion que reciba una lista de enteros y que retorne la misma lista sin numeros repetidos y ordenados."
   ]
  },
  {
   "cell_type": "code",
   "execution_count": 60,
   "id": "1b368b6a",
   "metadata": {},
   "outputs": [],
   "source": [
    "def short(lista):\n",
    "    lista = lista.copy()\n",
    "    \n",
    "    resultado = []\n",
    "    min = lista[0]\n",
    "    \n",
    "    for j in range(len(lista)):\n",
    "        min = lista[0]\n",
    "        for i in lista:\n",
    "            if min > i:\n",
    "                min = i\n",
    "        if len(resultado) < 1:\n",
    "            resultado.append(min)\n",
    "        elif min != resultado[-1]:\n",
    "            resultado.append(min)\n",
    "        lista.remove(min)\n",
    "        \n",
    "    return resultado"
   ]
  },
  {
   "cell_type": "code",
   "execution_count": 61,
   "id": "65caaaf1",
   "metadata": {},
   "outputs": [
    {
     "data": {
      "text/plain": [
       "[13, 15, 16, 18, 22, 27, 28, 29, 30, 33, 37, 38, 40, 41, 45, 49, 50]"
      ]
     },
     "execution_count": 61,
     "metadata": {},
     "output_type": "execute_result"
    }
   ],
   "source": [
    "short(aleatorios)"
   ]
  },
  {
   "cell_type": "code",
   "execution_count": null,
   "id": "9210d8ac",
   "metadata": {},
   "outputs": [],
   "source": []
  },
  {
   "cell_type": "markdown",
   "id": "46a6ff3d",
   "metadata": {},
   "source": [
    "### Ejercicio 8\n",
    "- Dada una lista de numeros enteros, retornar cuantos numeros hay con un numero par de digitos."
   ]
  },
  {
   "cell_type": "code",
   "execution_count": 65,
   "id": "d1077bbf",
   "metadata": {},
   "outputs": [],
   "source": [
    "def dig_par (lista):\n",
    "    \n",
    "    resultado = []\n",
    "    for i in lista:\n",
    "        if len(str(i))%2 == 0:\n",
    "            resultado.append(i)\n",
    "\n",
    "    return resultado"
   ]
  },
  {
   "cell_type": "code",
   "execution_count": 66,
   "id": "dfe055e2",
   "metadata": {},
   "outputs": [
    {
     "data": {
      "text/plain": [
       "[12, 1234]"
      ]
     },
     "execution_count": 66,
     "metadata": {},
     "output_type": "execute_result"
    }
   ],
   "source": [
    "dig_par([1,2,12,123,1234,12345])"
   ]
  },
  {
   "cell_type": "code",
   "execution_count": null,
   "id": "ccf746a3",
   "metadata": {},
   "outputs": [],
   "source": []
  },
  {
   "cell_type": "code",
   "execution_count": null,
   "id": "f3a41a72-ec75-4125-a921-435af6484930",
   "metadata": {},
   "outputs": [],
   "source": [
    "##############################################################################################################################"
   ]
  }
 ],
 "metadata": {
  "kernelspec": {
   "display_name": "base",
   "language": "python",
   "name": "python3"
  },
  "language_info": {
   "codemirror_mode": {
    "name": "ipython",
    "version": 3
   },
   "file_extension": ".py",
   "mimetype": "text/x-python",
   "name": "python",
   "nbconvert_exporter": "python",
   "pygments_lexer": "ipython3",
   "version": "3.12.7"
  }
 },
 "nbformat": 4,
 "nbformat_minor": 5
}
