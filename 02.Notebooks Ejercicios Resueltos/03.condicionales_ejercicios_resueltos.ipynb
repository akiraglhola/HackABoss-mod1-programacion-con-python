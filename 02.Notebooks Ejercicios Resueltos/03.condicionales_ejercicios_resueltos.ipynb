{
 "cells": [
  {
   "cell_type": "markdown",
   "id": "cc6f0931",
   "metadata": {},
   "source": [
    "## Ejecicios - Condicionales"
   ]
  },
  {
   "cell_type": "markdown",
   "id": "45bf39fc",
   "metadata": {},
   "source": [
    "### Ejercicio 1\n",
    "\n",
    "- Perdirle al usuario que ingrese un número mayor a 0\n",
    "- Luego que imprima por pantalla si el número es par o impar."
   ]
  },
  {
   "cell_type": "code",
   "execution_count": null,
   "id": "ce78094c",
   "metadata": {},
   "outputs": [],
   "source": [
    "x = int(input(\"Ingresa un número mayor a 0: \"))\n",
    "\n",
    "print(x)"
   ]
  },
  {
   "cell_type": "code",
   "execution_count": null,
   "id": "4047176c",
   "metadata": {},
   "outputs": [],
   "source": [
    "type(x)"
   ]
  },
  {
   "cell_type": "code",
   "execution_count": null,
   "id": "b98b7cc7",
   "metadata": {},
   "outputs": [],
   "source": [
    "if x % 2 == 0:\n",
    "    print(\"Es un número par.\")\n",
    "else:\n",
    "    print(\"Es un número impar.\")"
   ]
  },
  {
   "cell_type": "markdown",
   "id": "50f7c887",
   "metadata": {},
   "source": [
    "### Ejercicio 2\n",
    "- Pedirle al usuario que ingrese una palabra.\n",
    "- Contar el número de letras y decir si es una palabra larga (10 caracteres o más) o corta."
   ]
  },
  {
   "cell_type": "code",
   "execution_count": null,
   "id": "dd695bac",
   "metadata": {},
   "outputs": [],
   "source": [
    "palabra = input(\"Ingresa palabra: \")\n",
    "\n",
    "if len(palabra) >= 10:\n",
    "    print(\"Palabra larga.\")\n",
    "else:\n",
    "    print(\"Palabra corta.\")"
   ]
  },
  {
   "cell_type": "code",
   "execution_count": null,
   "id": "9fbdea13",
   "metadata": {},
   "outputs": [],
   "source": []
  },
  {
   "cell_type": "code",
   "execution_count": null,
   "id": "8f385606",
   "metadata": {},
   "outputs": [],
   "source": []
  },
  {
   "cell_type": "markdown",
   "id": "c3b58038",
   "metadata": {},
   "source": [
    "### Ejercicio 3\n",
    "- Pedirle al usuario que ingrese una palabra.\n",
    "- Contar cuantas vocales tiene e imprimir cuantas hay de cada una.\n",
    "- Luego imprimir por pantalla si tiene más vocales que consonantes."
   ]
  },
  {
   "cell_type": "code",
   "execution_count": null,
   "id": "e31e702d",
   "metadata": {},
   "outputs": [],
   "source": [
    "palabra = input(\"Ingresa una palabra: \")\n",
    "\n",
    "vocal_a = palabra.count(\"a\")\n",
    "vocal_e = palabra.count(\"e\")\n",
    "vocal_i = palabra.count(\"i\")\n",
    "vocal_o = palabra.count(\"o\")\n",
    "vocal_u = palabra.count(\"u\")\n",
    "\n",
    "print(f\"Vocal a: {vocal_a}\")\n",
    "print(f\"Vocal e: {vocal_e}\")\n",
    "print(f\"Vocal i: {vocal_i}\")\n",
    "print(f\"Vocal o: {vocal_o}\")\n",
    "print(f\"Vocal u: {vocal_u}\")"
   ]
  },
  {
   "cell_type": "code",
   "execution_count": null,
   "id": "21726bb9",
   "metadata": {},
   "outputs": [],
   "source": [
    "vocales = vocal_a + vocal_e + vocal_i + vocal_o + vocal_u\n",
    "\n",
    "consonantes = len(palabra) - vocales\n",
    "\n",
    "print(vocales)\n",
    "print(consonantes)"
   ]
  },
  {
   "cell_type": "code",
   "execution_count": null,
   "id": "0e3bb7e3",
   "metadata": {},
   "outputs": [],
   "source": [
    "if vocales > consonantes:\n",
    "    print(\"Hay mas vocales.\")\n",
    "elif vocales == consonantes:\n",
    "    print(\"Hay el mismo número.\")\n",
    "else:\n",
    "    print(\"Hay mas consonantes.\")"
   ]
  },
  {
   "cell_type": "markdown",
   "id": "c075c77b",
   "metadata": {},
   "source": [
    "### Ejercicio 4\n",
    "- Pedir al usuario que ingrese una frase.\n",
    "- Contar el número de palabras.\n",
    "- Si el número de palabras es impar imprimir \"El número de palabras es impar\" de lo contrario imprimir \"El número de palabras es par\"."
   ]
  },
  {
   "cell_type": "code",
   "execution_count": null,
   "id": "67962e21",
   "metadata": {},
   "outputs": [],
   "source": [
    "frase = input(\"Ingresa una frase: \")\n",
    "\n",
    "n_palabras = len(frase.split())\n",
    "\n",
    "if n_palabras % 2 == 0:\n",
    "    print(\"Numero de palabras par.\")\n",
    "else:\n",
    "    print(\"Numero de palabras impar.\")"
   ]
  },
  {
   "cell_type": "code",
   "execution_count": null,
   "id": "0cdfdbbd",
   "metadata": {},
   "outputs": [],
   "source": []
  },
  {
   "cell_type": "code",
   "execution_count": null,
   "id": "8c1baece",
   "metadata": {},
   "outputs": [],
   "source": []
  },
  {
   "cell_type": "code",
   "execution_count": null,
   "id": "38fb44c7",
   "metadata": {},
   "outputs": [],
   "source": [
    "##############################################################################################################################"
   ]
  }
 ],
 "metadata": {
  "kernelspec": {
   "display_name": "Python 3 (ipykernel)",
   "language": "python",
   "name": "python3"
  },
  "language_info": {
   "codemirror_mode": {
    "name": "ipython",
    "version": 3
   },
   "file_extension": ".py",
   "mimetype": "text/x-python",
   "name": "python",
   "nbconvert_exporter": "python",
   "pygments_lexer": "ipython3",
   "version": "3.11.5"
  }
 },
 "nbformat": 4,
 "nbformat_minor": 5
}
