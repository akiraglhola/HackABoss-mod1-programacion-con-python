{
 "cells": [
  {
   "cell_type": "markdown",
   "id": "617e80df",
   "metadata": {},
   "source": [
    "## Ejercicios - Funciones"
   ]
  },
  {
   "cell_type": "markdown",
   "id": "9ff17fdc",
   "metadata": {},
   "source": [
    "### Ejercicio 1\n",
    "- Crea una función que retorne el minimo de 2 números, no puedes usar la función **min()**."
   ]
  },
  {
   "cell_type": "code",
   "execution_count": null,
   "id": "b2988ac2",
   "metadata": {},
   "outputs": [],
   "source": [
    "def func_minimo(a, b):\n",
    "    \n",
    "    if a <= b:\n",
    "        return a\n",
    "\n",
    "    else:\n",
    "        return b"
   ]
  },
  {
   "cell_type": "code",
   "execution_count": null,
   "id": "c1bf472d",
   "metadata": {},
   "outputs": [],
   "source": [
    "func_minimo(10, 100)"
   ]
  },
  {
   "cell_type": "code",
   "execution_count": null,
   "id": "1a08c3b9",
   "metadata": {},
   "outputs": [],
   "source": []
  },
  {
   "cell_type": "markdown",
   "id": "299d07e1",
   "metadata": {},
   "source": [
    "### Ejercicio 2\n",
    "- Crea una función que tenga como parametro de entrada 4 números y devuelva la suma y multiplicación de dichos números en dos variables."
   ]
  },
  {
   "cell_type": "code",
   "execution_count": null,
   "id": "29dc4315",
   "metadata": {},
   "outputs": [],
   "source": [
    "def func_sum_mult(a, b, c, d):\n",
    "    suma = a + b + c + d\n",
    "    mult = a * b * c * d\n",
    "    \n",
    "    return suma, mult"
   ]
  },
  {
   "cell_type": "code",
   "execution_count": null,
   "id": "771dd0ed",
   "metadata": {},
   "outputs": [],
   "source": [
    "suma, mult = func_sum_mult(1, 2, 3, 4)"
   ]
  },
  {
   "cell_type": "code",
   "execution_count": null,
   "id": "06eb5e0e",
   "metadata": {},
   "outputs": [],
   "source": [
    "print(suma)\n",
    "print(mult)"
   ]
  },
  {
   "cell_type": "markdown",
   "id": "b33d16b5",
   "metadata": {},
   "source": [
    "### Ejercicio 3\n",
    "- Crea una función que devuelva los dos números menores (en forma de lista) de 4 números."
   ]
  },
  {
   "cell_type": "code",
   "execution_count": null,
   "id": "413447a6",
   "metadata": {},
   "outputs": [],
   "source": [
    "def func_menores(lista):\n",
    "    lista.sort()\n",
    "    \n",
    "    return lista[:2]"
   ]
  },
  {
   "cell_type": "code",
   "execution_count": null,
   "id": "763659b4",
   "metadata": {},
   "outputs": [],
   "source": [
    "func_menores([0, 2, 9, 10])"
   ]
  },
  {
   "cell_type": "code",
   "execution_count": null,
   "id": "6c0e5415",
   "metadata": {},
   "outputs": [],
   "source": []
  },
  {
   "cell_type": "markdown",
   "id": "b5b102ac",
   "metadata": {},
   "source": [
    "### Ejercicio 4\n",
    "- Crea una función que devuelva los 10 números menores de una lista de 20 números aleatorios entre 10 y 50. (Recuerda importar la libreria)\n",
    "- La lista de número aleatorios se puede crear fuera o dentro de la función."
   ]
  },
  {
   "cell_type": "code",
   "execution_count": null,
   "id": "6f33698b",
   "metadata": {},
   "outputs": [],
   "source": [
    "import random\n",
    "\n",
    "def func_random_menores():\n",
    "    lista = []\n",
    "    \n",
    "    for i in range(20):\n",
    "        lista.append(random.randint(10, 50))\n",
    "        \n",
    "    lista.sort()\n",
    "    \n",
    "    return lista[:10]"
   ]
  },
  {
   "cell_type": "code",
   "execution_count": null,
   "id": "77d7dacb",
   "metadata": {},
   "outputs": [],
   "source": [
    "func_random_menores()"
   ]
  },
  {
   "cell_type": "code",
   "execution_count": null,
   "id": "f80ee060",
   "metadata": {},
   "outputs": [],
   "source": []
  },
  {
   "cell_type": "markdown",
   "id": "af2c3e2a",
   "metadata": {},
   "source": [
    "### Ejercicio 5\n",
    "- Crea una función que realice la misma tarea que **len()**. "
   ]
  },
  {
   "cell_type": "code",
   "execution_count": null,
   "id": "fd7e71ac",
   "metadata": {},
   "outputs": [],
   "source": [
    "def func_len(objeto):\n",
    "    conteo = 0\n",
    "    \n",
    "    for elem in objeto:\n",
    "        conteo += 1\n",
    "        \n",
    "    return conteo"
   ]
  },
  {
   "cell_type": "code",
   "execution_count": null,
   "id": "d0271389",
   "metadata": {},
   "outputs": [],
   "source": [
    "func_len([1, 2, 3, 4 ,5])"
   ]
  },
  {
   "cell_type": "code",
   "execution_count": null,
   "id": "68d70a18",
   "metadata": {},
   "outputs": [],
   "source": [
    "func_len(\"string\")"
   ]
  },
  {
   "cell_type": "markdown",
   "id": "16725232",
   "metadata": {},
   "source": [
    "### Ejercicio 6\n",
    "- Escribe una función que:\n",
    "- Tome como parametro de entrada una lista de números y letras\n",
    "- Convierta las letras a su forma en mayuscula.\n",
    "- Que calcule el cuadrado de los números\n",
    "- Que retorne ese resultado en una lista en el mismo orden.\n",
    "\n",
    "**Ejemplo:**\n",
    "\n",
    "**entrada = [1, 2, 3, 4, \"a\", \"b\", \"c\", \"d\"]**\n",
    "\n",
    "**salida = [1, 4, 9, 16, \"A\", \"B\", \"C\", \"D\"]**"
   ]
  },
  {
   "cell_type": "code",
   "execution_count": null,
   "id": "f47c456d",
   "metadata": {},
   "outputs": [],
   "source": [
    "def func_transformar(lista):\n",
    "    \n",
    "    lista_nueva = []\n",
    "    \n",
    "    for elem in lista:\n",
    "        \n",
    "        if type(elem) == str:\n",
    "            lista_nueva.append(elem.upper())\n",
    "            \n",
    "        else:\n",
    "            lista_nueva.append(elem**2)\n",
    "     \n",
    "    \n",
    "    return lista_nueva"
   ]
  },
  {
   "cell_type": "code",
   "execution_count": null,
   "id": "ca5a46ed",
   "metadata": {},
   "outputs": [],
   "source": [
    "func_transformar([1, 2, 3, 4, \"a\", \"b\", \"c\", \"d\"])"
   ]
  },
  {
   "cell_type": "code",
   "execution_count": null,
   "id": "73fc8a6f",
   "metadata": {},
   "outputs": [],
   "source": []
  },
  {
   "cell_type": "markdown",
   "id": "b4a5e1be",
   "metadata": {},
   "source": [
    "### Ejercicio 7\n",
    "\n",
    "- Crea una funcion que reciba una lista de enteros y que retorne la misma lista sin numeros repetidos y ordenados."
   ]
  },
  {
   "cell_type": "code",
   "execution_count": null,
   "id": "1b368b6a",
   "metadata": {},
   "outputs": [],
   "source": [
    "def func_ordenar(lista):\n",
    "    \n",
    "    lista = set(lista)\n",
    "    \n",
    "    lista = list(lista)\n",
    "    \n",
    "    lista.sort()\n",
    "    \n",
    "    return lista"
   ]
  },
  {
   "cell_type": "code",
   "execution_count": null,
   "id": "65caaaf1",
   "metadata": {},
   "outputs": [],
   "source": [
    "func_ordenar([13, 5, 12, 13, 13, 6, 17, 3, 13, 5, 14, 9, 12, 13, 18, 10, 6, 13, 8, 3])"
   ]
  },
  {
   "cell_type": "code",
   "execution_count": null,
   "id": "9210d8ac",
   "metadata": {},
   "outputs": [],
   "source": []
  },
  {
   "cell_type": "markdown",
   "id": "46a6ff3d",
   "metadata": {},
   "source": [
    "### Ejercicio 8\n",
    "- Dada una lista de numeros enteros, retornar cuantos numeros hay con un numero par de digitos."
   ]
  },
  {
   "cell_type": "code",
   "execution_count": null,
   "id": "d1077bbf",
   "metadata": {},
   "outputs": [],
   "source": [
    "def func_digitos_par(lista):\n",
    "    \n",
    "    conteo = 0\n",
    "    \n",
    "    for num in lista:\n",
    "        \n",
    "        if num % 2 == 0:\n",
    "            conteo += 1\n",
    "            \n",
    "    return conteo"
   ]
  },
  {
   "cell_type": "code",
   "execution_count": null,
   "id": "dfe055e2",
   "metadata": {},
   "outputs": [],
   "source": [
    "func_digitos_par([13, 5, 12, 13, 13, 6, 17, 3, 13, 5, 14, 9, 12, 13, 18, 10, 6, 13, 8, 3])"
   ]
  },
  {
   "cell_type": "code",
   "execution_count": null,
   "id": "ccf746a3",
   "metadata": {},
   "outputs": [],
   "source": []
  },
  {
   "cell_type": "code",
   "execution_count": null,
   "id": "f3a41a72-ec75-4125-a921-435af6484930",
   "metadata": {},
   "outputs": [],
   "source": [
    "##############################################################################################################################"
   ]
  }
 ],
 "metadata": {
  "kernelspec": {
   "display_name": "Python 3 (ipykernel)",
   "language": "python",
   "name": "python3"
  },
  "language_info": {
   "codemirror_mode": {
    "name": "ipython",
    "version": 3
   },
   "file_extension": ".py",
   "mimetype": "text/x-python",
   "name": "python",
   "nbconvert_exporter": "python",
   "pygments_lexer": "ipython3",
   "version": "3.11.5"
  }
 },
 "nbformat": 4,
 "nbformat_minor": 5
}
