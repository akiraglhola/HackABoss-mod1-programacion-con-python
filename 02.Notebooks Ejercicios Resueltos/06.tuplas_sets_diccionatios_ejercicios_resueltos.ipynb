{
 "cells": [
  {
   "cell_type": "markdown",
   "id": "bd9af8bb",
   "metadata": {},
   "source": [
    "## Ejercicios - Tuplas, Sets y Diccionarios"
   ]
  },
  {
   "cell_type": "markdown",
   "id": "5cd0dbdf",
   "metadata": {},
   "source": [
    "### Tuplas"
   ]
  },
  {
   "cell_type": "markdown",
   "id": "5fcfd082",
   "metadata": {},
   "source": [
    "### Ejercicio 1\n",
    "- Crea una tupla utilizando la función **range()**, que tenga un rango del 11 al 19.\n",
    "    - Ejemplo: **tupla = tuple(range(3))**"
   ]
  },
  {
   "cell_type": "code",
   "execution_count": null,
   "id": "5767cc8f",
   "metadata": {
    "tags": []
   },
   "outputs": [],
   "source": [
    "tupla = tuple(range(11, 20))"
   ]
  },
  {
   "cell_type": "code",
   "execution_count": null,
   "id": "69f61ed6",
   "metadata": {
    "tags": []
   },
   "outputs": [],
   "source": [
    "tupla"
   ]
  },
  {
   "cell_type": "code",
   "execution_count": null,
   "id": "08f36833-c061-44ca-b7d8-da66a68fa4b0",
   "metadata": {},
   "outputs": [],
   "source": []
  },
  {
   "cell_type": "markdown",
   "id": "dd868625",
   "metadata": {},
   "source": [
    "### Ejercicio 2\n",
    "- Crea una lista vacia y llenala con los números de la tupla anterior usando un bucle."
   ]
  },
  {
   "cell_type": "code",
   "execution_count": null,
   "id": "e261324e",
   "metadata": {},
   "outputs": [],
   "source": [
    "lista = []\n",
    "\n",
    "for num in tupla:\n",
    "    lista.append(num)\n",
    "    \n",
    "lista"
   ]
  },
  {
   "cell_type": "code",
   "execution_count": null,
   "id": "a42632ec",
   "metadata": {},
   "outputs": [],
   "source": []
  },
  {
   "cell_type": "code",
   "execution_count": null,
   "id": "db02aa24-427c-42b0-b724-6132f200688f",
   "metadata": {},
   "outputs": [],
   "source": []
  },
  {
   "cell_type": "markdown",
   "id": "8fa8417c",
   "metadata": {},
   "source": [
    "### Ejercicio 3\n",
    "- Ordena la lista de mayor a menor."
   ]
  },
  {
   "cell_type": "code",
   "execution_count": null,
   "id": "9b9fe725",
   "metadata": {},
   "outputs": [],
   "source": [
    "lista.reverse()"
   ]
  },
  {
   "cell_type": "code",
   "execution_count": null,
   "id": "3c27e0b7",
   "metadata": {},
   "outputs": [],
   "source": [
    "lista"
   ]
  },
  {
   "cell_type": "code",
   "execution_count": null,
   "id": "c8e7c213-812b-4a9c-a911-5ef2400863ab",
   "metadata": {},
   "outputs": [],
   "source": []
  },
  {
   "cell_type": "markdown",
   "id": "a4aba352",
   "metadata": {},
   "source": [
    "### Ejercicio 4\n",
    "- Transforma la lista a tupla y ordenala de menor a mayor."
   ]
  },
  {
   "cell_type": "code",
   "execution_count": null,
   "id": "9693f765",
   "metadata": {},
   "outputs": [],
   "source": [
    "tupla = tuple(lista)\n",
    "\n",
    "tupla = sorted(tupla)\n",
    "\n",
    "tupla"
   ]
  },
  {
   "cell_type": "code",
   "execution_count": null,
   "id": "0042ff89",
   "metadata": {},
   "outputs": [],
   "source": []
  },
  {
   "cell_type": "code",
   "execution_count": null,
   "id": "13630611-7ff7-4c34-8f96-1e8b7c8efd0a",
   "metadata": {},
   "outputs": [],
   "source": []
  },
  {
   "cell_type": "markdown",
   "id": "11e327bc",
   "metadata": {},
   "source": [
    "### Ejercicio 5\n",
    "- ¿Que tipo de dato es la variable resultante?"
   ]
  },
  {
   "cell_type": "code",
   "execution_count": null,
   "id": "de6614c0",
   "metadata": {},
   "outputs": [],
   "source": [
    "type(tupla)"
   ]
  },
  {
   "cell_type": "code",
   "execution_count": null,
   "id": "6825680a",
   "metadata": {},
   "outputs": [],
   "source": []
  },
  {
   "cell_type": "code",
   "execution_count": null,
   "id": "2f8705c8-5238-4fb0-bda1-735182a9939d",
   "metadata": {},
   "outputs": [],
   "source": []
  },
  {
   "cell_type": "markdown",
   "id": "51174939",
   "metadata": {},
   "source": [
    "### Ejercicio 6\n",
    "- Dada la siguiente **frase = \"Fui programado para servir, no para destruir - C3PO\"**, conviertela en tupla, ordenala y manten la tupla. (El resultado final debe ser una tupla)"
   ]
  },
  {
   "cell_type": "code",
   "execution_count": null,
   "id": "22386983",
   "metadata": {},
   "outputs": [],
   "source": [
    "frase = \"Fui programado para servir, no para destruir - C3PO\""
   ]
  },
  {
   "cell_type": "code",
   "execution_count": null,
   "id": "abb46d56",
   "metadata": {
    "scrolled": true
   },
   "outputs": [],
   "source": [
    "tupla_frase = tuple(frase)\n",
    "\n",
    "print(tupla_frase)"
   ]
  },
  {
   "cell_type": "code",
   "execution_count": null,
   "id": "e7a47319",
   "metadata": {},
   "outputs": [],
   "source": [
    "tupla_frase = sorted(tupla_frase)\n",
    "\n",
    "print(tupla_frase)"
   ]
  },
  {
   "cell_type": "code",
   "execution_count": null,
   "id": "1c137acf",
   "metadata": {},
   "outputs": [],
   "source": [
    "tupla_frase = tuple(tupla_frase)\n",
    "\n",
    "print(tupla_frase)"
   ]
  },
  {
   "cell_type": "markdown",
   "id": "12437162",
   "metadata": {},
   "source": [
    "### Ejercicio 7\n",
    "- Del resultado anterior, muestra cuantas veces aparece cada vocal.\n",
    "    - Utiliza un bucle **for** que recorra la siguiente tupla: **(\"a\", \"e\", \"i\", \"o\", \"u\")**"
   ]
  },
  {
   "cell_type": "code",
   "execution_count": null,
   "id": "fee4bc57",
   "metadata": {},
   "outputs": [],
   "source": [
    "vocales = (\"a\", \"e\", \"i\", \"o\", \"u\")\n",
    "\n",
    "for vocal in vocales:\n",
    "    print(vocal, tupla_frase.count(vocal))"
   ]
  },
  {
   "cell_type": "code",
   "execution_count": null,
   "id": "3faf738d",
   "metadata": {},
   "outputs": [],
   "source": []
  },
  {
   "cell_type": "code",
   "execution_count": null,
   "id": "17451ea0-b6c1-491d-a2a1-8fef75062e11",
   "metadata": {},
   "outputs": [],
   "source": []
  },
  {
   "cell_type": "markdown",
   "id": "f8790981",
   "metadata": {},
   "source": [
    "### Ejercicio 8\n",
    "- Dada la siguiente tupla: **(9, 8, 7, 5, \"a\", 3, 6, 5)**, encuentra la forma para eliminar la letra **\"a\"**. (El resultado final debe ser una tupla)"
   ]
  },
  {
   "cell_type": "code",
   "execution_count": null,
   "id": "7fbf5374",
   "metadata": {},
   "outputs": [],
   "source": [
    "tupla = (9, 8, 7, 5, \"a\", 3, 6, 5)\n",
    "\n",
    "tupla = list(tupla)\n",
    "\n",
    "tupla.remove(\"a\")\n",
    "\n",
    "tupla"
   ]
  },
  {
   "cell_type": "code",
   "execution_count": null,
   "id": "8165221e",
   "metadata": {},
   "outputs": [],
   "source": [
    "tupla = tuple(tupla)\n",
    "\n",
    "tupla"
   ]
  },
  {
   "cell_type": "code",
   "execution_count": null,
   "id": "31a8ddac-e105-4336-b326-6c3629fee757",
   "metadata": {},
   "outputs": [],
   "source": []
  },
  {
   "cell_type": "markdown",
   "id": "82c7eea3",
   "metadata": {},
   "source": [
    "### Ejercicio 9\n",
    "- Pregunta a un usuario que ingrese 5 elementos diferentes separados por coma y convierte estos elementos a una tupla, pueden ser palabras o un números."
   ]
  },
  {
   "cell_type": "code",
   "execution_count": null,
   "id": "20c8cf64",
   "metadata": {},
   "outputs": [],
   "source": [
    "string = input(\"Ingresa 5 elemento separados por coma: \")\n",
    "\n",
    "string = string.split(\",\")\n",
    "\n",
    "print(string)"
   ]
  },
  {
   "cell_type": "code",
   "execution_count": null,
   "id": "bf819dbf",
   "metadata": {},
   "outputs": [],
   "source": [
    "string = tuple(string)\n",
    "\n",
    "print(string)"
   ]
  },
  {
   "cell_type": "code",
   "execution_count": null,
   "id": "9cdad5d2-36bf-433e-b980-0281c342cbbd",
   "metadata": {},
   "outputs": [],
   "source": []
  },
  {
   "cell_type": "markdown",
   "id": "1743bc9c",
   "metadata": {},
   "source": [
    "### Ejercicio 10\n",
    "- Dada la siguiente lista de tuplas: **[(10, 20, 40), (40, 50, 60), (70, 80, 90)]**, elimina el último elemento de cada tupla dentro de la lista."
   ]
  },
  {
   "cell_type": "code",
   "execution_count": null,
   "id": "bf3562a3",
   "metadata": {},
   "outputs": [],
   "source": [
    "tuplas = [(10, 20, 40), (40, 50, 60), (70, 80, 90)]\n",
    "\n",
    "print(tuplas)"
   ]
  },
  {
   "cell_type": "code",
   "execution_count": null,
   "id": "073bceb1",
   "metadata": {},
   "outputs": [],
   "source": [
    "# Usando indexing\n",
    "\n",
    "tuplas[0] = tuplas[0][:2]\n",
    "tuplas[1] = tuplas[1][:2]\n",
    "tuplas[2] = tuplas[2][:2]\n",
    "\n",
    "print(tuplas)"
   ]
  },
  {
   "cell_type": "code",
   "execution_count": null,
   "id": "780e0be9",
   "metadata": {},
   "outputs": [],
   "source": [
    "# Usando bucle for\n",
    "\n",
    "for i in range(len(tuplas)):\n",
    "    tuplas[i] = list(tuplas[i])\n",
    "    tuplas[i].pop()\n",
    "    tuplas[i] = tuple(tuplas[i])\n",
    "    \n",
    "    \n",
    "print(tuplas)"
   ]
  },
  {
   "cell_type": "markdown",
   "id": "3b2ac10b",
   "metadata": {},
   "source": [
    "### Sets"
   ]
  },
  {
   "cell_type": "markdown",
   "id": "47aecaf8",
   "metadata": {},
   "source": [
    "### Ejercicio 11\n",
    "- Pide al usuario que ingrese 3 empresas de tecnología, estos elementos agregalos al **set_1 = {\"Meta\", \"Google\", \"Amazon\"}**\n",
    "\n",
    "- Verifica que no se repita ninguna empresa y dile al usuario que no se repitio ninguna empresa."
   ]
  },
  {
   "cell_type": "code",
   "execution_count": null,
   "id": "a7d1d7b5",
   "metadata": {},
   "outputs": [],
   "source": [
    "set_1 = {\"Meta\", \"Google\", \"Amazon\"}"
   ]
  },
  {
   "cell_type": "code",
   "execution_count": null,
   "id": "e6b9b4e8",
   "metadata": {},
   "outputs": [],
   "source": [
    "empresas = input(\"Ingrese 3 empresas de tecnologia separados por comas: \")\n",
    "\n",
    "empresas = empresas.split(\",\")\n",
    "\n",
    "print(empresas)"
   ]
  },
  {
   "cell_type": "code",
   "execution_count": null,
   "id": "66785b60",
   "metadata": {},
   "outputs": [],
   "source": [
    "set_1.update(empresas)\n",
    "\n",
    "set_1"
   ]
  },
  {
   "cell_type": "code",
   "execution_count": null,
   "id": "36ec123d",
   "metadata": {},
   "outputs": [],
   "source": [
    "if len(set_1) == 6:\n",
    "    print(\"Ninguna empresa se repite.\")\n",
    "\n",
    "else:\n",
    "    print(\"Hay empresas que se repiten.\")"
   ]
  },
  {
   "cell_type": "markdown",
   "id": "1d24f6da",
   "metadata": {},
   "source": [
    "### Ejercicio 12\n",
    "- Repite el ejercicio anterior pero ahora imprime las empresas que se repiten en caso de que existiera uno o más que se repitan."
   ]
  },
  {
   "cell_type": "code",
   "execution_count": null,
   "id": "b8f919bc",
   "metadata": {},
   "outputs": [],
   "source": [
    "set_1 = {\"Meta\", \"Google\", \"Amazon\"}"
   ]
  },
  {
   "cell_type": "code",
   "execution_count": null,
   "id": "f27eda2a",
   "metadata": {},
   "outputs": [],
   "source": [
    "set_2 = input(\"Ingrese 3 empresas de tecnologia separados por comas: \")\n",
    "\n",
    "set_2 = set_2.split(\" \")\n",
    "\n",
    "print(set_2)"
   ]
  },
  {
   "cell_type": "code",
   "execution_count": null,
   "id": "8d4aac1a",
   "metadata": {},
   "outputs": [],
   "source": [
    "set_2 = set(set_2)\n",
    "\n",
    "set_2"
   ]
  },
  {
   "cell_type": "code",
   "execution_count": null,
   "id": "4c043fc5",
   "metadata": {},
   "outputs": [],
   "source": [
    "for empresa in set_2:\n",
    "    \n",
    "    if empresa in set_1:\n",
    "        print(\"Esta empresa se repite:\", empresa)\n",
    "        \n",
    "    else:\n",
    "        set_1.update([empresa])"
   ]
  },
  {
   "cell_type": "code",
   "execution_count": null,
   "id": "0dc66a42",
   "metadata": {},
   "outputs": [],
   "source": [
    "print(set_1)"
   ]
  },
  {
   "cell_type": "markdown",
   "id": "090eb0fb",
   "metadata": {},
   "source": [
    "### Ejercicio 13\n",
    "- Dadas las siguientes **frases_1 = \"En una galaxia lejana\"** y **frase_2 = \"Una galaxia llamadá Via Lactea\"**, haz la intersección de las palabras."
   ]
  },
  {
   "cell_type": "code",
   "execution_count": null,
   "id": "656f4cf7",
   "metadata": {},
   "outputs": [],
   "source": [
    "frase_1 = \"En una galaxia lejana\"\n",
    "frase_2 = \"Una galaxia llamadá Via Lactea\"\n",
    "\n",
    "frase_1 = frase_1.split(\" \")\n",
    "frase_2 = frase_2.split(\" \")\n",
    "\n",
    "print(frase_1)\n",
    "print(frase_2)"
   ]
  },
  {
   "cell_type": "code",
   "execution_count": null,
   "id": "b2dd0b00",
   "metadata": {},
   "outputs": [],
   "source": [
    "frase_1 = set(frase_1)\n",
    "frase_2 = set(frase_2)\n",
    "\n",
    "print(frase_1)\n",
    "print(frase_2)"
   ]
  },
  {
   "cell_type": "code",
   "execution_count": null,
   "id": "93a2643a",
   "metadata": {},
   "outputs": [],
   "source": [
    "frase_1.intersection(frase_2)"
   ]
  },
  {
   "cell_type": "markdown",
   "id": "4783b135",
   "metadata": {},
   "source": [
    "### Ejercicio 14\n",
    "- Encuentra la diferencia entre el **set_1 = {9, 8, 7, 6, 5, 4, 3, 2}** y el **set_2 = {9, 8, 10}**\n",
    "- **Extra**: hazlo utilizando un bucle **for** y no la función."
   ]
  },
  {
   "cell_type": "code",
   "execution_count": null,
   "id": "b9c1f6da",
   "metadata": {},
   "outputs": [],
   "source": [
    "set_1 = {9, 8, 7, 6, 5, 4, 3, 2}\n",
    "set_2 = {9, 8, 10}"
   ]
  },
  {
   "cell_type": "code",
   "execution_count": null,
   "id": "9c022e32",
   "metadata": {},
   "outputs": [],
   "source": [
    "set_1.difference(set_2)"
   ]
  },
  {
   "cell_type": "code",
   "execution_count": null,
   "id": "bacca9a5",
   "metadata": {},
   "outputs": [],
   "source": [
    "# Con bucle\n",
    "\n",
    "lista = []\n",
    "\n",
    "for elem in set_1:\n",
    "    if elem not in set_2:\n",
    "        lista.append(elem)\n",
    "        \n",
    "lista = tuple(lista)\n",
    "        \n",
    "print(lista)"
   ]
  },
  {
   "cell_type": "markdown",
   "id": "551a5435",
   "metadata": {},
   "source": [
    "### Diccionarios"
   ]
  },
  {
   "cell_type": "markdown",
   "id": "d8f629e4",
   "metadata": {},
   "source": [
    "### Ejercicio 15\n",
    "- Crea un diccionario con 5 elementos (5 llaves y 5 valores)\n",
    "    - **Llave**: Color\n",
    "    - **Valor**: Numero de letras del color"
   ]
  },
  {
   "cell_type": "code",
   "execution_count": null,
   "id": "19a8538b",
   "metadata": {},
   "outputs": [],
   "source": [
    "dict_1 = {\"Amarillo\" : 8, \"Azul\" : 4, \"Rojo\" : 4, \"Verde\" : 5, \"Morado\" : 6}\n",
    "\n",
    "dict_1"
   ]
  },
  {
   "cell_type": "code",
   "execution_count": null,
   "id": "93b5e05d-e06b-4af8-afc8-9f01953a883d",
   "metadata": {},
   "outputs": [],
   "source": []
  },
  {
   "cell_type": "code",
   "execution_count": null,
   "id": "09c5ec06",
   "metadata": {},
   "outputs": [],
   "source": []
  },
  {
   "cell_type": "markdown",
   "id": "e8f4f57c",
   "metadata": {},
   "source": [
    "### Ejercicio 16\n",
    "- Crea un diccionario con 5 elementos pero esta vez pregunta el usuario por cada llave y valor.\n",
    "    - **Llave**: Color\n",
    "    - **Valor**: Numero de letras del color"
   ]
  },
  {
   "cell_type": "code",
   "execution_count": null,
   "id": "90c9b8de",
   "metadata": {},
   "outputs": [],
   "source": [
    "dict_vacio = {}\n",
    "\n",
    "for i in range(5):\n",
    "    llave = input(\"Ingrese 1 color: \")\n",
    "    valor = len(llave)\n",
    "    \n",
    "    dict_vacio[llave] = valor"
   ]
  },
  {
   "cell_type": "code",
   "execution_count": null,
   "id": "506738f1",
   "metadata": {},
   "outputs": [],
   "source": [
    "dict_vacio"
   ]
  },
  {
   "cell_type": "code",
   "execution_count": null,
   "id": "21c199ae-a350-427a-bd96-9d8971a0249b",
   "metadata": {},
   "outputs": [],
   "source": []
  },
  {
   "cell_type": "markdown",
   "id": "f1d25834",
   "metadata": {},
   "source": [
    "### Ejercicio 17\n",
    "- Repite el ejercicio anterior pero de la siguiente forma:\n",
    "    - Primero crea en una lista los colores y en otra lista el numero de letras\n",
    "    - Después crea el diccionario a partir de las listas."
   ]
  },
  {
   "cell_type": "code",
   "execution_count": null,
   "id": "55cae263",
   "metadata": {},
   "outputs": [],
   "source": [
    "colores = [\"Amarillo\", \"Azul\", \"Rojo\", \"Verde\", \"Morado\"]\n",
    "conteo = [8, 4, 4, 5, 6]"
   ]
  },
  {
   "cell_type": "code",
   "execution_count": null,
   "id": "5559f84c",
   "metadata": {},
   "outputs": [],
   "source": [
    "dict_vacio = {}\n",
    "\n",
    "for color, cont in zip(colores, conteo):\n",
    "    dict_vacio[color] = cont\n",
    "    \n",
    "dict_vacio"
   ]
  },
  {
   "cell_type": "code",
   "execution_count": null,
   "id": "e00b8e81",
   "metadata": {},
   "outputs": [],
   "source": []
  },
  {
   "cell_type": "markdown",
   "id": "07d54429",
   "metadata": {},
   "source": [
    "### Ejercicio 18\n",
    "- Pide al usuario que ingrese 3 números distintos y guarda esos números como llaves y crea los valores utilizando la siguiente formula:\n",
    "    - x : x**2\n",
    "    \n",
    "Donde x es la llave."
   ]
  },
  {
   "cell_type": "code",
   "execution_count": null,
   "id": "84ada027",
   "metadata": {},
   "outputs": [],
   "source": [
    "dict_vacio = {}\n",
    "\n",
    "for i in range(3):\n",
    "    numero = int(input(\"Ingrese un número entero: \"))\n",
    "    dict_vacio[numero] = numero**2\n",
    "    \n",
    "dict_vacio"
   ]
  },
  {
   "cell_type": "code",
   "execution_count": null,
   "id": "5d99fe70-8a80-478f-8e91-32bd6bffa446",
   "metadata": {},
   "outputs": [],
   "source": []
  },
  {
   "cell_type": "code",
   "execution_count": null,
   "id": "7d2ea857",
   "metadata": {},
   "outputs": [],
   "source": []
  },
  {
   "cell_type": "markdown",
   "id": "225eef27",
   "metadata": {},
   "source": [
    "### Ejercicio 19\n",
    "- Pide al usuario que ingrese una frase y agrega las palabras como keys y la frecuencia de cada palabra como value en un diccionario. Usa la función **Counter**."
   ]
  },
  {
   "cell_type": "code",
   "execution_count": null,
   "id": "31dc2dbc",
   "metadata": {},
   "outputs": [],
   "source": [
    "frase = input(\"Ingrese una frase: \")"
   ]
  },
  {
   "cell_type": "code",
   "execution_count": null,
   "id": "b82f3136",
   "metadata": {},
   "outputs": [],
   "source": [
    "frase = frase.split(\" \")"
   ]
  },
  {
   "cell_type": "code",
   "execution_count": null,
   "id": "f6dfdf29",
   "metadata": {},
   "outputs": [],
   "source": [
    "from collections import Counter\n",
    "\n",
    "Counter(frase)"
   ]
  },
  {
   "cell_type": "markdown",
   "id": "9cce66c7",
   "metadata": {},
   "source": [
    "### Ejercicio 20\n",
    "- Crea un programa donde las keys son 7 números aleatorios entre el 100 y el 200 y en los values debe de estar la palabra par o impar, si el número es par o impar"
   ]
  },
  {
   "cell_type": "code",
   "execution_count": null,
   "id": "2bbd2645",
   "metadata": {},
   "outputs": [],
   "source": [
    "import random\n",
    "\n",
    "dict_vacio = {}\n",
    "\n",
    "for i in range(7):\n",
    "    numero_aleatorio = random.randint(100, 200)\n",
    "    \n",
    "    if numero_aleatorio % 2 == 0:\n",
    "        dict_vacio[numero_aleatorio] = \"Par\"\n",
    "    else:\n",
    "        dict_vacio[numero_aleatorio] = \"Impar\"\n",
    "        \n",
    "dict_vacio"
   ]
  },
  {
   "cell_type": "code",
   "execution_count": null,
   "id": "fee58480",
   "metadata": {},
   "outputs": [],
   "source": []
  },
  {
   "cell_type": "code",
   "execution_count": null,
   "id": "7da4aeaf-7ed3-45cd-a724-e162e5939ff7",
   "metadata": {},
   "outputs": [],
   "source": []
  },
  {
   "cell_type": "markdown",
   "id": "4d474a3b",
   "metadata": {},
   "source": [
    "### Ejercicio 21\n",
    "- Crea un programa donde las keys son 10 números enteros aleatorios entre el 1 y el 50 y para cada value del diccionario vamos a utilizar la siguiente formula x : 1/x"
   ]
  },
  {
   "cell_type": "code",
   "execution_count": null,
   "id": "3db65c7a",
   "metadata": {},
   "outputs": [],
   "source": [
    "# El diccionario tendrá menos elementos si se repite algun número generado aleatoriamente\n",
    "\n",
    "dict_vacio = {}\n",
    "\n",
    "for i in range(10):\n",
    "    numero_aleatorio = random.randint(1, 50)\n",
    "    dict_vacio[numero_aleatorio] = 1 / numero_aleatorio\n",
    "    \n",
    "dict_vacio"
   ]
  },
  {
   "cell_type": "code",
   "execution_count": null,
   "id": "227b7aa5",
   "metadata": {},
   "outputs": [],
   "source": [
    "# Usando un bucle while podemos evitar ese problema\n",
    "\n",
    "dict_vacio = {}\n",
    "\n",
    "while len(dict_vacio) < 10:\n",
    "    \n",
    "    numero_aleatorio = random.randint(1, 50)\n",
    "    dict_vacio[numero_aleatorio] = 1 / numero_aleatorio\n",
    "    \n",
    "dict_vacio"
   ]
  },
  {
   "cell_type": "markdown",
   "id": "d2fb33ad",
   "metadata": {},
   "source": [
    "### Ejercicio 22\n",
    "- Crea un programa que dados los siguientes diccionarios: **d1 = {\"a\" : 125, \"b\" : 130, \"c\" : 150}**, **d2 = {\"e\" :  10, \"b\" : 20, \"a\" : 30}**, sume los items que tienen la misma key y guarde esas keys con la suma de los values en un nuevo diccionario"
   ]
  },
  {
   "cell_type": "code",
   "execution_count": null,
   "id": "c0b2d94b",
   "metadata": {},
   "outputs": [],
   "source": [
    "d1 = {\"a\" : 125, \"b\" : 130, \"c\" : 150}\n",
    "d2 = {\"e\" : 10, \"b\" : 20, \"a\" : 30}"
   ]
  },
  {
   "cell_type": "code",
   "execution_count": null,
   "id": "ba84795f",
   "metadata": {},
   "outputs": [],
   "source": [
    "d3 = {}\n",
    "\n",
    "d3.update(d1)\n",
    "\n",
    "d3"
   ]
  },
  {
   "cell_type": "code",
   "execution_count": null,
   "id": "4cc64315",
   "metadata": {},
   "outputs": [],
   "source": [
    "for key, value in d2.items():\n",
    "    if key in d3:\n",
    "        d3[key] += value\n",
    "        \n",
    "    else:\n",
    "        d3[key] = value\n",
    "        \n",
    "d3"
   ]
  },
  {
   "cell_type": "code",
   "execution_count": null,
   "id": "06bc46b2",
   "metadata": {},
   "outputs": [],
   "source": [
    "##############################################################################################################################"
   ]
  }
 ],
 "metadata": {
  "kernelspec": {
   "display_name": "Python 3 (ipykernel)",
   "language": "python",
   "name": "python3"
  },
  "language_info": {
   "codemirror_mode": {
    "name": "ipython",
    "version": 3
   },
   "file_extension": ".py",
   "mimetype": "text/x-python",
   "name": "python",
   "nbconvert_exporter": "python",
   "pygments_lexer": "ipython3",
   "version": "3.11.5"
  }
 },
 "nbformat": 4,
 "nbformat_minor": 5
}
