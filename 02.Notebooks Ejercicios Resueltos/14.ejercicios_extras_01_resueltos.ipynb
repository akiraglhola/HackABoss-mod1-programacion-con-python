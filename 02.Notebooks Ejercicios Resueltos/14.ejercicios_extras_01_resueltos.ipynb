{
 "cells": [
  {
   "cell_type": "markdown",
   "id": "325c0169",
   "metadata": {
    "tags": []
   },
   "source": [
    "## Ejercicios - Extra 01"
   ]
  },
  {
   "cell_type": "markdown",
   "id": "6e302858",
   "metadata": {},
   "source": [
    "### Strings"
   ]
  },
  {
   "cell_type": "markdown",
   "id": "29e2a99a",
   "metadata": {},
   "source": [
    "### Ejercicio 01:\n",
    "- Define una función que tome como parámetro de entrada una frase y que retorne la misma frase sin espacios en blanco."
   ]
  },
  {
   "cell_type": "code",
   "execution_count": null,
   "id": "80c4503b",
   "metadata": {},
   "outputs": [],
   "source": [
    "def ejercicio_01(string):\n",
    "    \n",
    "    string = string.replace(\" \", \"\")\n",
    "    \n",
    "    return string"
   ]
  },
  {
   "cell_type": "code",
   "execution_count": null,
   "id": "73e01334",
   "metadata": {},
   "outputs": [],
   "source": []
  },
  {
   "cell_type": "code",
   "execution_count": null,
   "id": "1f49179e",
   "metadata": {},
   "outputs": [],
   "source": []
  },
  {
   "cell_type": "markdown",
   "id": "6b307643",
   "metadata": {},
   "source": [
    "### Ejercicio 02:\n",
    "- Define una función que tome como parámetro de entrada un número y que verifique si ese número es un palíndromo."
   ]
  },
  {
   "cell_type": "code",
   "execution_count": null,
   "id": "64cd84a7",
   "metadata": {},
   "outputs": [],
   "source": [
    "def numero_palindromo(numero):\n",
    "    \n",
    "    numero = str(numero)\n",
    "    \n",
    "    inv_numero = numero[::-1]\n",
    "    \n",
    "    if numero == inv_numero:\n",
    "        \n",
    "        return True\n",
    "    \n",
    "    else:\n",
    "        \n",
    "        return False"
   ]
  },
  {
   "cell_type": "code",
   "execution_count": null,
   "id": "e6704da8",
   "metadata": {},
   "outputs": [],
   "source": []
  },
  {
   "cell_type": "code",
   "execution_count": null,
   "id": "adce8e12",
   "metadata": {},
   "outputs": [],
   "source": []
  },
  {
   "cell_type": "markdown",
   "id": "8f1c657d",
   "metadata": {},
   "source": [
    "### Ejercicio 03:\n",
    "- Define una función que tome una cadena como entrada y retorne una nueva cadena que contenga solo las vocales de la cadena original en el mismo orden."
   ]
  },
  {
   "cell_type": "code",
   "execution_count": null,
   "id": "5f1c25d7",
   "metadata": {},
   "outputs": [],
   "source": [
    "def solo_vocales(string):\n",
    "    \n",
    "    resultado = \"\"\n",
    "    \n",
    "    for s in string:\n",
    "        \n",
    "        if s in (\"a\", \"e\", \"i\", \"o\", \"u\"):\n",
    "            \n",
    "            resultado = resultado + s\n",
    "            \n",
    "    return resultado\n",
    "    "
   ]
  },
  {
   "cell_type": "code",
   "execution_count": null,
   "id": "027406fe",
   "metadata": {},
   "outputs": [],
   "source": []
  },
  {
   "cell_type": "code",
   "execution_count": null,
   "id": "6bcbf7f5",
   "metadata": {},
   "outputs": [],
   "source": []
  },
  {
   "cell_type": "markdown",
   "id": "85a67e02",
   "metadata": {},
   "source": [
    "### Ejercicio 04:\n",
    "- Define una función que tome dos cadenas como entrada y retorne una nueva cadena que contenga solo los caracteres que aparecen en ambas cadenas."
   ]
  },
  {
   "cell_type": "code",
   "execution_count": null,
   "id": "c26da108",
   "metadata": {},
   "outputs": [],
   "source": [
    "def caracteres_union(string1, string2):\n",
    "    \n",
    "    string1 = set(string1.lower())\n",
    "    string2 = set(string2.lower())\n",
    "    \n",
    "    return string1.intersection(string2)"
   ]
  },
  {
   "cell_type": "code",
   "execution_count": null,
   "id": "4584b78a",
   "metadata": {},
   "outputs": [],
   "source": []
  },
  {
   "cell_type": "code",
   "execution_count": null,
   "id": "297dfe2b",
   "metadata": {},
   "outputs": [],
   "source": []
  },
  {
   "cell_type": "markdown",
   "id": "f70dc451",
   "metadata": {},
   "source": [
    "### Ejercicio 05:\n",
    "- Define una función que tome una cadena y que retorne una nueva cadena que contenga solo las palabras con más de 5 caracteres."
   ]
  },
  {
   "cell_type": "code",
   "execution_count": null,
   "id": "80445e5d",
   "metadata": {},
   "outputs": [],
   "source": [
    "def len_mayor_5(string):\n",
    "    \n",
    "    string = string.split()\n",
    "    \n",
    "    resultado = [s for s in string if len(s) > 5]\n",
    "    \n",
    "    return \" \".join(resultado)"
   ]
  },
  {
   "cell_type": "code",
   "execution_count": null,
   "id": "b0fba936",
   "metadata": {},
   "outputs": [],
   "source": []
  },
  {
   "cell_type": "code",
   "execution_count": null,
   "id": "59c8bacd",
   "metadata": {},
   "outputs": [],
   "source": []
  },
  {
   "cell_type": "markdown",
   "id": "5d98c2e2",
   "metadata": {},
   "source": [
    "### Ejercicio 06:\n",
    "- Define una función que tome una cadena como entrada y retorne una nueva cadena con las palabras ordenadas alfabéticamente."
   ]
  },
  {
   "cell_type": "code",
   "execution_count": null,
   "id": "8eae8ff1",
   "metadata": {},
   "outputs": [],
   "source": [
    "def ordenar_cadena(string):\n",
    "    \n",
    "    string = string.split()\n",
    "    \n",
    "    string.sort()\n",
    "    \n",
    "    return string"
   ]
  },
  {
   "cell_type": "code",
   "execution_count": null,
   "id": "739fbb66",
   "metadata": {},
   "outputs": [],
   "source": []
  },
  {
   "cell_type": "code",
   "execution_count": null,
   "id": "1e56c73b",
   "metadata": {},
   "outputs": [],
   "source": []
  },
  {
   "cell_type": "markdown",
   "id": "3429dfa8",
   "metadata": {},
   "source": [
    "### Lists"
   ]
  },
  {
   "cell_type": "markdown",
   "id": "f232585d",
   "metadata": {},
   "source": [
    "### Ejercicio 07:\n",
    "- Define una función que tome una lista de números como entrada y retorne la media de los elementos de la lista."
   ]
  },
  {
   "cell_type": "code",
   "execution_count": null,
   "id": "cff6d6aa",
   "metadata": {},
   "outputs": [],
   "source": [
    "def media_numeros(lista):\n",
    "    \n",
    "    media = sum(lista)/len(lista)\n",
    "    \n",
    "    return media"
   ]
  },
  {
   "cell_type": "code",
   "execution_count": null,
   "id": "d6bb049a",
   "metadata": {},
   "outputs": [],
   "source": []
  },
  {
   "cell_type": "code",
   "execution_count": null,
   "id": "c913a8fb",
   "metadata": {},
   "outputs": [],
   "source": []
  },
  {
   "cell_type": "markdown",
   "id": "9666947d",
   "metadata": {},
   "source": [
    "### Ejercicio 10:\n",
    "- Define una función que tome una lista de números como entrada y retorne una nueva lista que contenga solo los elementos que son múltiplos de un número dado."
   ]
  },
  {
   "cell_type": "code",
   "execution_count": null,
   "id": "ae51e405",
   "metadata": {},
   "outputs": [],
   "source": [
    "def multiplos(lista, numero):\n",
    "\n",
    "    lista_resultado = []\n",
    "    \n",
    "    for num in lista:\n",
    "        \n",
    "        if num % numero == 0:\n",
    "            \n",
    "            lista_resultado.append(num)\n",
    "            \n",
    "    return lista_resultado"
   ]
  },
  {
   "cell_type": "code",
   "execution_count": null,
   "id": "71e3fa5a",
   "metadata": {},
   "outputs": [],
   "source": []
  },
  {
   "cell_type": "code",
   "execution_count": null,
   "id": "61d894b5",
   "metadata": {},
   "outputs": [],
   "source": []
  },
  {
   "cell_type": "markdown",
   "id": "ff140680",
   "metadata": {},
   "source": [
    "### Bucles"
   ]
  },
  {
   "cell_type": "markdown",
   "id": "c1edaa8e",
   "metadata": {},
   "source": [
    "### Ejercicio 11:\n",
    "- Escribir un programa que imprima los números del 1 al 10 usando un bucle **while**."
   ]
  },
  {
   "cell_type": "code",
   "execution_count": null,
   "id": "24e17087",
   "metadata": {},
   "outputs": [],
   "source": [
    "i = 1\n",
    "\n",
    "while i < 11:\n",
    "    \n",
    "    print(i)\n",
    "    \n",
    "    i = i + 1"
   ]
  },
  {
   "cell_type": "code",
   "execution_count": null,
   "id": "c8e66bc1",
   "metadata": {},
   "outputs": [],
   "source": []
  },
  {
   "cell_type": "code",
   "execution_count": null,
   "id": "6ec20522",
   "metadata": {},
   "outputs": [],
   "source": []
  },
  {
   "cell_type": "markdown",
   "id": "00cf1f8d",
   "metadata": {},
   "source": [
    "### Ejercicio 12:\n",
    "- Escribir un programa que imprima los números pares del 2 al 20 usando un bucle **for**."
   ]
  },
  {
   "cell_type": "code",
   "execution_count": null,
   "id": "f2ee21de",
   "metadata": {},
   "outputs": [],
   "source": [
    "for i in range(2, 21, 2):\n",
    "    print(i)"
   ]
  },
  {
   "cell_type": "code",
   "execution_count": null,
   "id": "f1265717",
   "metadata": {},
   "outputs": [],
   "source": []
  },
  {
   "cell_type": "code",
   "execution_count": null,
   "id": "dc62c145",
   "metadata": {},
   "outputs": [],
   "source": []
  },
  {
   "cell_type": "markdown",
   "id": "a886c12c",
   "metadata": {},
   "source": [
    "### Ejercicio 13:\n",
    "- Usando un bucle **for** une en una variable las cadenas de la siguiente lista:"
   ]
  },
  {
   "cell_type": "code",
   "execution_count": null,
   "id": "d6e2790e",
   "metadata": {},
   "outputs": [],
   "source": [
    "lista = [\"Hola\", \" \", \"mundo\", \", \", \"esto\", \" \", \"es\", \" \", \"Python.\"]"
   ]
  },
  {
   "cell_type": "code",
   "execution_count": null,
   "id": "4ee2c260",
   "metadata": {},
   "outputs": [],
   "source": [
    "resultado = \"\"\n",
    "\n",
    "for s in lista:\n",
    "    resultado = resultado + s\n",
    "    \n",
    "print(resultado)"
   ]
  },
  {
   "cell_type": "code",
   "execution_count": null,
   "id": "0af0edc4",
   "metadata": {},
   "outputs": [],
   "source": []
  },
  {
   "cell_type": "markdown",
   "id": "e8aea4f2",
   "metadata": {},
   "source": [
    "### Ejercicio 14:\n",
    "- Usando un bucle **for** imprime los indices, los tamaños y los elementos de la siguiente lista:"
   ]
  },
  {
   "cell_type": "code",
   "execution_count": null,
   "id": "16c50675",
   "metadata": {},
   "outputs": [],
   "source": [
    "palabras = ['Hola', 'Mundo', 'Python', 'Programación', 'Lista', 'Diccionario', 'Función', 'Variable',\n",
    "            'Condición', 'Bucle', 'Clase', 'Objeto', 'Método', 'Módulo', 'Paquete', 'Librería', 'Archivo',\n",
    "            'Texto', 'Número', 'Flotante', 'Entero', 'Booleano', 'Verdadero', 'Falso', 'Cadena', 'Carácter']"
   ]
  },
  {
   "cell_type": "code",
   "execution_count": null,
   "id": "990a2279",
   "metadata": {},
   "outputs": [],
   "source": [
    "for num, string in enumerate(palabras):\n",
    "    print(num, len(string), string)"
   ]
  },
  {
   "cell_type": "code",
   "execution_count": null,
   "id": "6b88d5cb",
   "metadata": {},
   "outputs": [],
   "source": []
  },
  {
   "cell_type": "code",
   "execution_count": null,
   "id": "4f37a253",
   "metadata": {},
   "outputs": [],
   "source": []
  },
  {
   "cell_type": "markdown",
   "id": "1f9125b3",
   "metadata": {},
   "source": [
    "### Ejercicio 15:\n",
    "- Usando un bucle **for** imprime los elementos de la lista anterior en orden inverso."
   ]
  },
  {
   "cell_type": "code",
   "execution_count": null,
   "id": "6f18cb91",
   "metadata": {},
   "outputs": [],
   "source": [
    "for num, string in enumerate(palabras[::-1]):\n",
    "    print(num, len(string), string)"
   ]
  },
  {
   "cell_type": "code",
   "execution_count": null,
   "id": "1534c7dc",
   "metadata": {},
   "outputs": [],
   "source": []
  },
  {
   "cell_type": "code",
   "execution_count": null,
   "id": "c79df9ef",
   "metadata": {},
   "outputs": [],
   "source": []
  },
  {
   "cell_type": "code",
   "execution_count": null,
   "id": "547fc8fb",
   "metadata": {},
   "outputs": [],
   "source": [
    "################################################################################################################################"
   ]
  }
 ],
 "metadata": {
  "kernelspec": {
   "display_name": "Python 3 (ipykernel)",
   "language": "python",
   "name": "python3"
  },
  "language_info": {
   "codemirror_mode": {
    "name": "ipython",
    "version": 3
   },
   "file_extension": ".py",
   "mimetype": "text/x-python",
   "name": "python",
   "nbconvert_exporter": "python",
   "pygments_lexer": "ipython3",
   "version": "3.11.7"
  }
 },
 "nbformat": 4,
 "nbformat_minor": 5
}
